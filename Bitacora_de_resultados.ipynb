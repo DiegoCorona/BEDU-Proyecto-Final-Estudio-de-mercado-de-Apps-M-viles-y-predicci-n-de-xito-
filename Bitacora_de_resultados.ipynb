{
  "nbformat": 4,
  "nbformat_minor": 0,
  "metadata": {
    "colab": {
      "name": "Bitacora de resultados.ipynb",
      "provenance": [],
      "include_colab_link": true
    },
    "kernelspec": {
      "name": "python3",
      "display_name": "Python 3"
    },
    "language_info": {
      "name": "python"
    }
  },
  "cells": [
    {
      "cell_type": "markdown",
      "metadata": {
        "id": "view-in-github",
        "colab_type": "text"
      },
      "source": [
        "<a href=\"https://colab.research.google.com/github/DiegoCorona/BEDU-Proyecto-Final-Estudio-de-mercado-de-Apps-M-viles-y-predicci-n-de-xito-/blob/main/Bitacora_de_resultados.ipynb\" target=\"_parent\"><img src=\"https://colab.research.google.com/assets/colab-badge.svg\" alt=\"Open In Colab\"/></a>"
      ]
    },
    {
      "cell_type": "markdown",
      "metadata": {
        "id": "Itjxy_pwAfas"
      },
      "source": [
        "En el presente documento de Jupiter se registran los resultados obtenidos por diversos algoritmos para poder solucionar el problema principal del proyecto."
      ]
    },
    {
      "cell_type": "markdown",
      "metadata": {
        "id": "lswMt7ROJz3m"
      },
      "source": [
        "## David"
      ]
    },
    {
      "cell_type": "code",
      "metadata": {
        "id": "JDLnqEiYJkyf"
      },
      "source": [
        ""
      ],
      "execution_count": null,
      "outputs": []
    },
    {
      "cell_type": "markdown",
      "metadata": {
        "id": "-lt8hMz3J345"
      },
      "source": [
        "## Carlos"
      ]
    },
    {
      "cell_type": "code",
      "metadata": {
        "id": "GfjO7hj3J5Tq"
      },
      "source": [
        ""
      ],
      "execution_count": null,
      "outputs": []
    },
    {
      "cell_type": "markdown",
      "metadata": {
        "id": "EvoHlGpBJ6sd"
      },
      "source": [
        "## Diego\n",
        "\n",
        "M1 \n",
        "rf = RandomForestClassifier(n_estimators=10000)\n",
        "\n",
        "AUC:  0.6325296990708678"
      ]
    },
    {
      "cell_type": "code",
      "metadata": {
        "id": "W978xmtVJ-jc"
      },
      "source": [
        ""
      ],
      "execution_count": null,
      "outputs": []
    },
    {
      "cell_type": "markdown",
      "metadata": {
        "id": "Dh4HMKwuAYzr"
      },
      "source": [
        "## Sebastían"
      ]
    },
    {
      "cell_type": "code",
      "metadata": {
        "id": "LgiYusMkAal4"
      },
      "source": [
        ""
      ],
      "execution_count": null,
      "outputs": []
    }
  ]
}