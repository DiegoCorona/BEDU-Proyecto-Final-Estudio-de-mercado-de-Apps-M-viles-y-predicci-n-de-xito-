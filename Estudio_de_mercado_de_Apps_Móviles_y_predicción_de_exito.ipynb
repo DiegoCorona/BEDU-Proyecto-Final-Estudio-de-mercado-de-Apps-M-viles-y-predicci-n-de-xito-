{
  "nbformat": 4,
  "nbformat_minor": 0,
  "metadata": {
    "colab": {
      "name": "Estudio de mercado de Apps Móviles y predicción de exito.ipynb",
      "provenance": [],
      "collapsed_sections": [],
      "include_colab_link": true
    },
    "kernelspec": {
      "name": "python3",
      "display_name": "Python 3"
    },
    "language_info": {
      "name": "python"
    }
  },
  "cells": [
    {
      "cell_type": "markdown",
      "metadata": {
        "id": "view-in-github",
        "colab_type": "text"
      },
      "source": [
        "<a href=\"https://colab.research.google.com/github/DiegoCorona/BEDU-Proyecto-Final-Estudio-de-mercado-de-Apps-M-viles-y-predicci-n-de-xito-/blob/main/Estudio_de_mercado_de_Apps_M%C3%B3viles_y_predicci%C3%B3n_de_exito.ipynb\" target=\"_parent\"><img src=\"https://colab.research.google.com/assets/colab-badge.svg\" alt=\"Open In Colab\"/></a>"
      ]
    },
    {
      "cell_type": "code",
      "metadata": {
        "id": "8o3WctZ_dsc4"
      },
      "source": [
        ""
      ],
      "execution_count": null,
      "outputs": []
    },
    {
      "cell_type": "code",
      "metadata": {
        "id": "M7iQb2UTeEzI"
      },
      "source": [
        "import pandas as pd\n",
        "import numpy as np"
      ],
      "execution_count": null,
      "outputs": []
    },
    {
      "cell_type": "code",
      "metadata": {
        "colab": {
          "base_uri": "https://localhost:8080/",
          "height": 97
        },
        "id": "QH-TRWw4eMO5",
        "outputId": "224e0aef-92a7-425c-82fa-0c779bbd9731"
      },
      "source": [
        "from google.colab import drive\n",
        "drive.mount('/content/drive')\n",
        "data = pd.read_csv('/content/drive/MyDrive/Dataset Proyecto/Bedu_Proyecto_Modulo_4/Dataset_limpio.csv', index_col=0)\n",
        "data.head(1)"
      ],
      "execution_count": null,
      "outputs": [
        {
          "output_type": "stream",
          "text": [
            "Mounted at /content/drive\n"
          ],
          "name": "stdout"
        },
        {
          "output_type": "execute_result",
          "data": {
            "text/html": [
              "<div>\n",
              "<style scoped>\n",
              "    .dataframe tbody tr th:only-of-type {\n",
              "        vertical-align: middle;\n",
              "    }\n",
              "\n",
              "    .dataframe tbody tr th {\n",
              "        vertical-align: top;\n",
              "    }\n",
              "\n",
              "    .dataframe thead th {\n",
              "        text-align: right;\n",
              "    }\n",
              "</style>\n",
              "<table border=\"1\" class=\"dataframe\">\n",
              "  <thead>\n",
              "    <tr style=\"text-align: right;\">\n",
              "      <th></th>\n",
              "      <th>App</th>\n",
              "      <th>Categoria</th>\n",
              "      <th>Reviews</th>\n",
              "      <th>Tamanio_MB</th>\n",
              "      <th>Instalaciones_minimas_estimadas</th>\n",
              "      <th>App_gratuita</th>\n",
              "      <th>App_pago</th>\n",
              "      <th>Precio</th>\n",
              "      <th>Rating_del_contenido</th>\n",
              "      <th>Ultimo_updated</th>\n",
              "      <th>Anio_ultimo_updated</th>\n",
              "      <th>Version_actual</th>\n",
              "      <th>Version_Android</th>\n",
              "      <th>Rating</th>\n",
              "      <th>Exito_app</th>\n",
              "    </tr>\n",
              "  </thead>\n",
              "  <tbody>\n",
              "    <tr>\n",
              "      <th>0</th>\n",
              "      <td>Photo Editor &amp; Candy Camera &amp; Grid &amp; ScrapBook</td>\n",
              "      <td>ART_AND_DESIGN</td>\n",
              "      <td>159</td>\n",
              "      <td>19.0</td>\n",
              "      <td>10000</td>\n",
              "      <td>1</td>\n",
              "      <td>0</td>\n",
              "      <td>0.0</td>\n",
              "      <td>Everyone</td>\n",
              "      <td>January 7, 2018</td>\n",
              "      <td>2018</td>\n",
              "      <td>1.0.0</td>\n",
              "      <td>4.0.3 and up</td>\n",
              "      <td>4.1</td>\n",
              "      <td>1</td>\n",
              "    </tr>\n",
              "  </tbody>\n",
              "</table>\n",
              "</div>"
            ],
            "text/plain": [
              "                                              App  ... Exito_app\n",
              "0  Photo Editor & Candy Camera & Grid & ScrapBook  ...         1\n",
              "\n",
              "[1 rows x 15 columns]"
            ]
          },
          "metadata": {
            "tags": []
          },
          "execution_count": 4
        }
      ]
    },
    {
      "cell_type": "code",
      "metadata": {
        "id": "pQ2ik_lTf4bD"
      },
      "source": [
        "expanded = pd.get_dummies(data = data, columns = ['Categoria'])\n",
        "expanded = expanded.drop(columns = ['App', 'Rating_del_contenido', 'Ultimo_updated', 'Anio_ultimo_updated','Version_actual', 'Version_Android', 'Rating'])"
      ],
      "execution_count": null,
      "outputs": []
    },
    {
      "cell_type": "code",
      "metadata": {
        "colab": {
          "base_uri": "https://localhost:8080/",
          "height": 224
        },
        "id": "h7OGaULIgFir",
        "outputId": "054b9837-285a-4177-ecba-fcc36595c21a"
      },
      "source": [
        "expanded.head()"
      ],
      "execution_count": null,
      "outputs": [
        {
          "output_type": "execute_result",
          "data": {
            "text/html": [
              "<div>\n",
              "<style scoped>\n",
              "    .dataframe tbody tr th:only-of-type {\n",
              "        vertical-align: middle;\n",
              "    }\n",
              "\n",
              "    .dataframe tbody tr th {\n",
              "        vertical-align: top;\n",
              "    }\n",
              "\n",
              "    .dataframe thead th {\n",
              "        text-align: right;\n",
              "    }\n",
              "</style>\n",
              "<table border=\"1\" class=\"dataframe\">\n",
              "  <thead>\n",
              "    <tr style=\"text-align: right;\">\n",
              "      <th></th>\n",
              "      <th>Reviews</th>\n",
              "      <th>Tamanio_MB</th>\n",
              "      <th>Instalaciones_minimas_estimadas</th>\n",
              "      <th>App_gratuita</th>\n",
              "      <th>App_pago</th>\n",
              "      <th>Precio</th>\n",
              "      <th>Exito_app</th>\n",
              "      <th>Categoria_ART_AND_DESIGN</th>\n",
              "      <th>Categoria_AUTO_AND_VEHICLES</th>\n",
              "      <th>Categoria_BEAUTY</th>\n",
              "      <th>Categoria_BOOKS_AND_REFERENCE</th>\n",
              "      <th>Categoria_BUSINESS</th>\n",
              "      <th>Categoria_COMICS</th>\n",
              "      <th>Categoria_COMMUNICATION</th>\n",
              "      <th>Categoria_DATING</th>\n",
              "      <th>Categoria_EDUCATION</th>\n",
              "      <th>Categoria_ENTERTAINMENT</th>\n",
              "      <th>Categoria_EVENTS</th>\n",
              "      <th>Categoria_FAMILY</th>\n",
              "      <th>Categoria_FINANCE</th>\n",
              "      <th>Categoria_FOOD_AND_DRINK</th>\n",
              "      <th>Categoria_GAME</th>\n",
              "      <th>Categoria_HEALTH_AND_FITNESS</th>\n",
              "      <th>Categoria_HOUSE_AND_HOME</th>\n",
              "      <th>Categoria_LIBRARIES_AND_DEMO</th>\n",
              "      <th>Categoria_LIFESTYLE</th>\n",
              "      <th>Categoria_MAPS_AND_NAVIGATION</th>\n",
              "      <th>Categoria_MEDICAL</th>\n",
              "      <th>Categoria_NEWS_AND_MAGAZINES</th>\n",
              "      <th>Categoria_PARENTING</th>\n",
              "      <th>Categoria_PERSONALIZATION</th>\n",
              "      <th>Categoria_PHOTOGRAPHY</th>\n",
              "      <th>Categoria_PRODUCTIVITY</th>\n",
              "      <th>Categoria_SHOPPING</th>\n",
              "      <th>Categoria_SOCIAL</th>\n",
              "      <th>Categoria_SPORTS</th>\n",
              "      <th>Categoria_TOOLS</th>\n",
              "      <th>Categoria_TRAVEL_AND_LOCAL</th>\n",
              "      <th>Categoria_VIDEO_PLAYERS</th>\n",
              "      <th>Categoria_WEATHER</th>\n",
              "    </tr>\n",
              "  </thead>\n",
              "  <tbody>\n",
              "    <tr>\n",
              "      <th>0</th>\n",
              "      <td>159</td>\n",
              "      <td>19.0</td>\n",
              "      <td>10000</td>\n",
              "      <td>1</td>\n",
              "      <td>0</td>\n",
              "      <td>0.0</td>\n",
              "      <td>1</td>\n",
              "      <td>1</td>\n",
              "      <td>0</td>\n",
              "      <td>0</td>\n",
              "      <td>0</td>\n",
              "      <td>0</td>\n",
              "      <td>0</td>\n",
              "      <td>0</td>\n",
              "      <td>0</td>\n",
              "      <td>0</td>\n",
              "      <td>0</td>\n",
              "      <td>0</td>\n",
              "      <td>0</td>\n",
              "      <td>0</td>\n",
              "      <td>0</td>\n",
              "      <td>0</td>\n",
              "      <td>0</td>\n",
              "      <td>0</td>\n",
              "      <td>0</td>\n",
              "      <td>0</td>\n",
              "      <td>0</td>\n",
              "      <td>0</td>\n",
              "      <td>0</td>\n",
              "      <td>0</td>\n",
              "      <td>0</td>\n",
              "      <td>0</td>\n",
              "      <td>0</td>\n",
              "      <td>0</td>\n",
              "      <td>0</td>\n",
              "      <td>0</td>\n",
              "      <td>0</td>\n",
              "      <td>0</td>\n",
              "      <td>0</td>\n",
              "      <td>0</td>\n",
              "    </tr>\n",
              "    <tr>\n",
              "      <th>1</th>\n",
              "      <td>967</td>\n",
              "      <td>14.0</td>\n",
              "      <td>500000</td>\n",
              "      <td>1</td>\n",
              "      <td>0</td>\n",
              "      <td>0.0</td>\n",
              "      <td>0</td>\n",
              "      <td>1</td>\n",
              "      <td>0</td>\n",
              "      <td>0</td>\n",
              "      <td>0</td>\n",
              "      <td>0</td>\n",
              "      <td>0</td>\n",
              "      <td>0</td>\n",
              "      <td>0</td>\n",
              "      <td>0</td>\n",
              "      <td>0</td>\n",
              "      <td>0</td>\n",
              "      <td>0</td>\n",
              "      <td>0</td>\n",
              "      <td>0</td>\n",
              "      <td>0</td>\n",
              "      <td>0</td>\n",
              "      <td>0</td>\n",
              "      <td>0</td>\n",
              "      <td>0</td>\n",
              "      <td>0</td>\n",
              "      <td>0</td>\n",
              "      <td>0</td>\n",
              "      <td>0</td>\n",
              "      <td>0</td>\n",
              "      <td>0</td>\n",
              "      <td>0</td>\n",
              "      <td>0</td>\n",
              "      <td>0</td>\n",
              "      <td>0</td>\n",
              "      <td>0</td>\n",
              "      <td>0</td>\n",
              "      <td>0</td>\n",
              "      <td>0</td>\n",
              "    </tr>\n",
              "    <tr>\n",
              "      <th>2</th>\n",
              "      <td>87510</td>\n",
              "      <td>8.7</td>\n",
              "      <td>5000000</td>\n",
              "      <td>1</td>\n",
              "      <td>0</td>\n",
              "      <td>0.0</td>\n",
              "      <td>1</td>\n",
              "      <td>1</td>\n",
              "      <td>0</td>\n",
              "      <td>0</td>\n",
              "      <td>0</td>\n",
              "      <td>0</td>\n",
              "      <td>0</td>\n",
              "      <td>0</td>\n",
              "      <td>0</td>\n",
              "      <td>0</td>\n",
              "      <td>0</td>\n",
              "      <td>0</td>\n",
              "      <td>0</td>\n",
              "      <td>0</td>\n",
              "      <td>0</td>\n",
              "      <td>0</td>\n",
              "      <td>0</td>\n",
              "      <td>0</td>\n",
              "      <td>0</td>\n",
              "      <td>0</td>\n",
              "      <td>0</td>\n",
              "      <td>0</td>\n",
              "      <td>0</td>\n",
              "      <td>0</td>\n",
              "      <td>0</td>\n",
              "      <td>0</td>\n",
              "      <td>0</td>\n",
              "      <td>0</td>\n",
              "      <td>0</td>\n",
              "      <td>0</td>\n",
              "      <td>0</td>\n",
              "      <td>0</td>\n",
              "      <td>0</td>\n",
              "      <td>0</td>\n",
              "    </tr>\n",
              "    <tr>\n",
              "      <th>3</th>\n",
              "      <td>215644</td>\n",
              "      <td>25.0</td>\n",
              "      <td>50000000</td>\n",
              "      <td>1</td>\n",
              "      <td>0</td>\n",
              "      <td>0.0</td>\n",
              "      <td>1</td>\n",
              "      <td>1</td>\n",
              "      <td>0</td>\n",
              "      <td>0</td>\n",
              "      <td>0</td>\n",
              "      <td>0</td>\n",
              "      <td>0</td>\n",
              "      <td>0</td>\n",
              "      <td>0</td>\n",
              "      <td>0</td>\n",
              "      <td>0</td>\n",
              "      <td>0</td>\n",
              "      <td>0</td>\n",
              "      <td>0</td>\n",
              "      <td>0</td>\n",
              "      <td>0</td>\n",
              "      <td>0</td>\n",
              "      <td>0</td>\n",
              "      <td>0</td>\n",
              "      <td>0</td>\n",
              "      <td>0</td>\n",
              "      <td>0</td>\n",
              "      <td>0</td>\n",
              "      <td>0</td>\n",
              "      <td>0</td>\n",
              "      <td>0</td>\n",
              "      <td>0</td>\n",
              "      <td>0</td>\n",
              "      <td>0</td>\n",
              "      <td>0</td>\n",
              "      <td>0</td>\n",
              "      <td>0</td>\n",
              "      <td>0</td>\n",
              "      <td>0</td>\n",
              "    </tr>\n",
              "    <tr>\n",
              "      <th>4</th>\n",
              "      <td>967</td>\n",
              "      <td>2.8</td>\n",
              "      <td>100000</td>\n",
              "      <td>1</td>\n",
              "      <td>0</td>\n",
              "      <td>0.0</td>\n",
              "      <td>1</td>\n",
              "      <td>1</td>\n",
              "      <td>0</td>\n",
              "      <td>0</td>\n",
              "      <td>0</td>\n",
              "      <td>0</td>\n",
              "      <td>0</td>\n",
              "      <td>0</td>\n",
              "      <td>0</td>\n",
              "      <td>0</td>\n",
              "      <td>0</td>\n",
              "      <td>0</td>\n",
              "      <td>0</td>\n",
              "      <td>0</td>\n",
              "      <td>0</td>\n",
              "      <td>0</td>\n",
              "      <td>0</td>\n",
              "      <td>0</td>\n",
              "      <td>0</td>\n",
              "      <td>0</td>\n",
              "      <td>0</td>\n",
              "      <td>0</td>\n",
              "      <td>0</td>\n",
              "      <td>0</td>\n",
              "      <td>0</td>\n",
              "      <td>0</td>\n",
              "      <td>0</td>\n",
              "      <td>0</td>\n",
              "      <td>0</td>\n",
              "      <td>0</td>\n",
              "      <td>0</td>\n",
              "      <td>0</td>\n",
              "      <td>0</td>\n",
              "      <td>0</td>\n",
              "    </tr>\n",
              "  </tbody>\n",
              "</table>\n",
              "</div>"
            ],
            "text/plain": [
              "   Reviews  Tamanio_MB  ...  Categoria_VIDEO_PLAYERS  Categoria_WEATHER\n",
              "0      159        19.0  ...                        0                  0\n",
              "1      967        14.0  ...                        0                  0\n",
              "2    87510         8.7  ...                        0                  0\n",
              "3   215644        25.0  ...                        0                  0\n",
              "4      967         2.8  ...                        0                  0\n",
              "\n",
              "[5 rows x 40 columns]"
            ]
          },
          "metadata": {
            "tags": []
          },
          "execution_count": 6
        }
      ]
    },
    {
      "cell_type": "code",
      "metadata": {
        "id": "kRqfi5dsg1X_"
      },
      "source": [
        "X = expanded.drop(columns= ['Exito_app'])\n",
        "y = expanded['Exito_app']"
      ],
      "execution_count": null,
      "outputs": []
    },
    {
      "cell_type": "code",
      "metadata": {
        "id": "cVBDPvIciOM_"
      },
      "source": [
        "from sklearn.model_selection import train_test_split"
      ],
      "execution_count": null,
      "outputs": []
    },
    {
      "cell_type": "code",
      "metadata": {
        "id": "8ZylqF31htnz"
      },
      "source": [
        "X_train, X_test, y_train, y_test = train_test_split(X, y, \n",
        "                                                    test_size = 0.2, \n",
        "                                                    random_state = 23)"
      ],
      "execution_count": null,
      "outputs": []
    },
    {
      "cell_type": "code",
      "metadata": {
        "id": "-rq192Izhy1s"
      },
      "source": [
        "def get_metrics(y_test, predictions, binary = False):\n",
        "  '''\n",
        "    Esta función retorna Accuracy, Precision, Recall y F1_score.\n",
        "    binary: (default: False) Booleano que indica si la clasificación es multiclase o no\n",
        "  '''\n",
        "  from sklearn.metrics import accuracy_score, precision_score, recall_score, f1_score, roc_auc_score\n",
        "\n",
        "  if binary == False:\n",
        "    option = 'macro'\n",
        "    auc = None\n",
        "  if binary == True:\n",
        "    option = 'binary'\n",
        "    auc = roc_auc_score(y_test, predictions)\n",
        "  \n",
        "  acc = accuracy_score(y_test, predictions)\n",
        "  precision = precision_score(y_test, predictions, average= option)\n",
        "  recall = recall_score(y_test, predictions, average= option)\n",
        "  f1 = f1_score(y_test, predictions, average= option)\n",
        "  print('Metricas en el set de prueba...')\n",
        "  print('Accuracy: ', acc)\n",
        "  print('Precision: ', precision)\n",
        "  print('Recall: ', recall)\n",
        "  print('f1_score: ', recall)\n",
        "  print('AUC: ', auc)\n",
        "  print('-'*70)\n",
        "  \n",
        "\n",
        "def alg_ML(X_train, y_train, X_test, y_test, binary = False):\n",
        "  from sklearn.linear_model import LogisticRegression\n",
        "  from sklearn.svm import SVC\n",
        "  from sklearn.tree import DecisionTreeClassifier\n",
        "  from sklearn.ensemble import RandomForestClassifier\n",
        "\n",
        "  logreg = LogisticRegression()\n",
        "  logreg.fit(X_train, y_train)\n",
        "  logreg_pred = logreg.predict(X_test)\n",
        "  print('Metrics for logistic regression:')\n",
        "  get_metrics(y_test, logreg_pred, binary = binary)\n",
        "\n",
        "  svm = SVC()\n",
        "  svm.fit(X_train, y_train) \n",
        "  svm_pred = svm.predict(X_test)\n",
        "  print('Metrics for Support Vector Machine:')\n",
        "  get_metrics(y_test, svm_pred, binary = binary)\n",
        "\n",
        "  dt = DecisionTreeClassifier()\n",
        "  dt.fit(X_train, y_train)\n",
        "  dt_pred = dt.predict(X_test)\n",
        "  print('Metrics for Decision Tree:')\n",
        "  get_metrics(y_test, dt_pred, binary = binary)\n",
        "\n",
        "  rf = RandomForestClassifier()\n",
        "  rf.fit(X_train, y_train)\n",
        "  rf_pred = rf.predict(X_test)\n",
        "  print('Metrics for Random Forrest: ')\n",
        "  get_metrics(y_test, rf_pred, binary = binary)"
      ],
      "execution_count": null,
      "outputs": []
    },
    {
      "cell_type": "code",
      "metadata": {
        "colab": {
          "base_uri": "https://localhost:8080/"
        },
        "id": "5FutVMeiilnT",
        "outputId": "4c22ee5f-ceb0-4b2a-e0c4-846248e42938"
      },
      "source": [
        "alg_ML(X_train, y_train, X_test, y_test, binary = True)"
      ],
      "execution_count": null,
      "outputs": [
        {
          "output_type": "stream",
          "text": [
            "Metrics for logistic regression:\n",
            "Metricas en el set de prueba...\n",
            "Accuracy:  0.7251867662753468\n",
            "Precision:  0.725668449197861\n",
            "Recall:  0.9985283296541575\n",
            "f1_score:  0.9985283296541575\n",
            "AUC:  0.5012059123998943\n",
            "----------------------------------------------------------------------\n",
            "Metrics for Support Vector Machine:\n",
            "Metricas en el set de prueba...\n",
            "Accuracy:  0.7251867662753468\n",
            "Precision:  0.7251867662753468\n",
            "Recall:  1.0\n",
            "f1_score:  1.0\n",
            "AUC:  0.5\n",
            "----------------------------------------------------------------------\n",
            "Metrics for Decision Tree:\n",
            "Metricas en el set de prueba...\n",
            "Accuracy:  0.6750266808964781\n",
            "Precision:  0.7840909090909091\n",
            "Recall:  0.7615894039735099\n",
            "f1_score:  0.7615894039735099\n",
            "AUC:  0.6040956728605414\n",
            "----------------------------------------------------------------------\n",
            "Metrics for Random Forrest: \n",
            "Metricas en el set de prueba...\n",
            "Accuracy:  0.736392742796158\n",
            "Precision:  0.7908540685944856\n",
            "Recall:  0.8653421633554084\n",
            "f1_score:  0.8653421633554084\n",
            "AUC:  0.6307293341048886\n",
            "----------------------------------------------------------------------\n"
          ],
          "name": "stdout"
        }
      ]
    },
    {
      "cell_type": "code",
      "metadata": {
        "colab": {
          "base_uri": "https://localhost:8080/"
        },
        "id": "VKI7ibPtiugk",
        "outputId": "619bb682-c38f-4231-dce9-eecd583226ec"
      },
      "source": [
        "#Importamos los paquetes\n",
        "from imblearn.over_sampling import RandomOverSampler, SMOTE\n",
        "\n",
        "#Inicialización de los métodos de sobremuestreo\n",
        "#SMOTE\n",
        "smote = SMOTE(random_state = 1)\n",
        "\n",
        "#SMOTE. Genera nuevas muestras sintéticas\n",
        "dataSmote, targetSmote = smote.fit_resample(X_train ,y_train)\n",
        "Exito = targetSmote.sum()\n",
        "No_exito = targetSmote.shape[0]- Exito\n",
        "print('Exitos: ', Exito, ' , No_exitos: ', No_exito)"
      ],
      "execution_count": null,
      "outputs": [
        {
          "output_type": "stream",
          "text": [
            "Exitos:  5441  , No_exitos:  5441\n"
          ],
          "name": "stdout"
        },
        {
          "output_type": "stream",
          "text": [
            "/usr/local/lib/python3.7/dist-packages/sklearn/utils/deprecation.py:87: FutureWarning: Function safe_indexing is deprecated; safe_indexing is deprecated in version 0.22 and will be removed in version 0.24.\n",
            "  warnings.warn(msg, category=FutureWarning)\n"
          ],
          "name": "stderr"
        }
      ]
    },
    {
      "cell_type": "code",
      "metadata": {
        "colab": {
          "base_uri": "https://localhost:8080/"
        },
        "id": "3Q1fnlljkXED",
        "outputId": "84cc6d81-aecd-4dfe-a31f-5e77bb81226d"
      },
      "source": [
        "alg_ML(dataSmote, targetSmote, X_test, y_test, binary= True)"
      ],
      "execution_count": null,
      "outputs": [
        {
          "output_type": "stream",
          "text": [
            "Metrics for logistic regression:\n",
            "Metricas en el set de prueba...\n",
            "Accuracy:  0.7214514407684098\n",
            "Precision:  0.7295666483817883\n",
            "Recall:  0.9786607799852833\n",
            "f1_score:  0.9786607799852833\n",
            "AUC:  0.5106896132936125\n",
            "----------------------------------------------------------------------\n",
            "Metrics for Support Vector Machine:\n",
            "Metricas en el set de prueba...\n",
            "Accuracy:  0.4951974386339381\n",
            "Precision:  0.8707360861759426\n",
            "Recall:  0.35688005886681384\n",
            "f1_score:  0.35688005886681384\n",
            "AUC:  0.6085371168120478\n",
            "----------------------------------------------------------------------\n",
            "Metrics for Decision Tree:\n",
            "Metricas en el set de prueba...\n",
            "Accuracy:  0.7038420490928495\n",
            "Precision:  0.8008982035928144\n",
            "Recall:  0.7873436350257542\n",
            "f1_score:  0.7873436350257542\n",
            "AUC:  0.6354193903284111\n",
            "----------------------------------------------------------------------\n",
            "Metrics for Random Forrest: \n",
            "Metricas en el set de prueba...\n",
            "Accuracy:  0.7358591248665955\n",
            "Precision:  0.801255230125523\n",
            "Recall:  0.8454746136865342\n",
            "f1_score:  0.8454746136865342\n",
            "AUC:  0.6460382777170536\n",
            "----------------------------------------------------------------------\n"
          ],
          "name": "stdout"
        }
      ]
    },
    {
      "cell_type": "code",
      "metadata": {
        "id": "EnoU4FUFnSb5"
      },
      "source": [
        "extra = data.drop(columns = ['App', 'Rating_del_contenido', 'Ultimo_updated', 'Anio_ultimo_updated','Version_actual', 'Version_Android', 'Rating', 'Categoria'])\n",
        "X_aux = extra.drop(columns = ['Exito_app'])\n",
        "y_aux = extra['Exito_app']"
      ],
      "execution_count": null,
      "outputs": []
    },
    {
      "cell_type": "code",
      "metadata": {
        "colab": {
          "base_uri": "https://localhost:8080/"
        },
        "id": "b9kJL9cIsWPh",
        "outputId": "7ba0e086-63b9-45c7-9ea3-2ee8625eb2d8"
      },
      "source": [
        "X_train_e, X_test_e, y_train_e, y_test_e = train_test_split(X_aux, y_aux, test_size = 0.2, random_state = 12)\n",
        "alg_ML(X_train_e, y_train_e, X_test_e, y_test_e, binary = True)"
      ],
      "execution_count": null,
      "outputs": [
        {
          "output_type": "stream",
          "text": [
            "Metrics for logistic regression:\n",
            "Metricas en el set de prueba...\n",
            "Accuracy:  0.7161152614727855\n",
            "Precision:  0.7161945483698557\n",
            "Recall:  0.9992542878448919\n",
            "f1_score:  0.9992542878448919\n",
            "AUC:  0.5015033165303259\n",
            "----------------------------------------------------------------------\n",
            "Metrics for Support Vector Machine:\n",
            "Metricas en el set de prueba...\n",
            "Accuracy:  0.7155816435432231\n",
            "Precision:  0.7155816435432231\n",
            "Recall:  1.0\n",
            "f1_score:  1.0\n",
            "AUC:  0.5\n",
            "----------------------------------------------------------------------\n",
            "Metrics for Decision Tree:\n",
            "Metricas en el set de prueba...\n",
            "Accuracy:  0.6937033084311632\n",
            "Precision:  0.7859806114839671\n",
            "Recall:  0.7859806114839671\n",
            "f1_score:  0.7859806114839671\n",
            "AUC:  0.6237595365112143\n",
            "----------------------------------------------------------------------\n",
            "Metrics for Random Forrest: \n",
            "Metricas en el set de prueba...\n",
            "Accuracy:  0.7225186766275347\n",
            "Precision:  0.7813570938999315\n",
            "Recall:  0.8501118568232662\n",
            "f1_score:  0.8501118568232662\n",
            "AUC:  0.6258063974547851\n",
            "----------------------------------------------------------------------\n"
          ],
          "name": "stdout"
        }
      ]
    },
    {
      "cell_type": "code",
      "metadata": {
        "colab": {
          "base_uri": "https://localhost:8080/"
        },
        "id": "JZwMXO6ltPnN",
        "outputId": "8ae1deeb-f9e4-4377-fc79-8aff40226da4"
      },
      "source": [
        "smote_1 = SMOTE(random_state = 1)\n",
        "dataS, targetS = smote.fit_resample(X_train_e ,y_train_e)\n",
        "alg_ML(dataS, targetS, X_test_e, y_test_e, binary = True)"
      ],
      "execution_count": null,
      "outputs": [
        {
          "output_type": "stream",
          "text": [
            "/usr/local/lib/python3.7/dist-packages/sklearn/utils/deprecation.py:87: FutureWarning: Function safe_indexing is deprecated; safe_indexing is deprecated in version 0.22 and will be removed in version 0.24.\n",
            "  warnings.warn(msg, category=FutureWarning)\n"
          ],
          "name": "stderr"
        },
        {
          "output_type": "stream",
          "text": [
            "Metrics for logistic regression:\n",
            "Metricas en el set de prueba...\n",
            "Accuracy:  0.7219850586979722\n",
            "Precision:  0.7250274423710209\n",
            "Recall:  0.9850857568978374\n",
            "f1_score:  0.9850857568978374\n",
            "AUC:  0.5225616401749975\n",
            "----------------------------------------------------------------------\n",
            "Metrics for Support Vector Machine:\n",
            "Metricas en el set de prueba...\n",
            "Accuracy:  0.5021344717182498\n",
            "Precision:  0.8763837638376384\n",
            "Recall:  0.3542132736763609\n",
            "f1_score:  0.3542132736763609\n",
            "AUC:  0.6142548544742029\n",
            "----------------------------------------------------------------------\n",
            "Metrics for Decision Tree:\n",
            "Metricas en el set de prueba...\n",
            "Accuracy:  0.6926360725720384\n",
            "Precision:  0.8072289156626506\n",
            "Recall:  0.7494407158836689\n",
            "f1_score:  0.7494407158836689\n",
            "AUC:  0.6495796449962434\n",
            "----------------------------------------------------------------------\n",
            "Metrics for Random Forrest: \n",
            "Metricas en el set de prueba...\n",
            "Accuracy:  0.7145144076840982\n",
            "Precision:  0.8224\n",
            "Recall:  0.7665920954511558\n",
            "f1_score:  0.7665920954511558\n",
            "AUC:  0.6750408882509062\n",
            "----------------------------------------------------------------------\n"
          ],
          "name": "stdout"
        }
      ]
    },
    {
      "cell_type": "code",
      "metadata": {
        "colab": {
          "base_uri": "https://localhost:8080/",
          "height": 200
        },
        "id": "jopW4eFctqIy",
        "outputId": "898cf07b-faf5-474b-eb05-e5a8fee27d5b"
      },
      "source": [
        "from sklearn.ensemble import RandomForestClassifier\n",
        "rf = RandomForestClassifier(n_estimators=10000)\n",
        "rf.fit(X_train_e, y_train_e)"
      ],
      "execution_count": null,
      "outputs": [
        {
          "output_type": "error",
          "ename": "NameError",
          "evalue": "ignored",
          "traceback": [
            "\u001b[0;31m---------------------------------------------------------------------------\u001b[0m",
            "\u001b[0;31mNameError\u001b[0m                                 Traceback (most recent call last)",
            "\u001b[0;32m<ipython-input-16-13de02e6cdbb>\u001b[0m in \u001b[0;36m<module>\u001b[0;34m()\u001b[0m\n\u001b[1;32m      1\u001b[0m \u001b[0;32mfrom\u001b[0m \u001b[0msklearn\u001b[0m\u001b[0;34m.\u001b[0m\u001b[0mensemble\u001b[0m \u001b[0;32mimport\u001b[0m \u001b[0mRandomForestClassifier\u001b[0m\u001b[0;34m\u001b[0m\u001b[0;34m\u001b[0m\u001b[0m\n\u001b[1;32m      2\u001b[0m \u001b[0mrf\u001b[0m \u001b[0;34m=\u001b[0m \u001b[0mRandomForestClassifier\u001b[0m\u001b[0;34m(\u001b[0m\u001b[0mn_estimators\u001b[0m\u001b[0;34m=\u001b[0m\u001b[0;36m10000\u001b[0m\u001b[0;34m)\u001b[0m\u001b[0;34m\u001b[0m\u001b[0;34m\u001b[0m\u001b[0m\n\u001b[0;32m----> 3\u001b[0;31m \u001b[0mrf\u001b[0m\u001b[0;34m.\u001b[0m\u001b[0mfit\u001b[0m\u001b[0;34m(\u001b[0m\u001b[0mX_train_e\u001b[0m\u001b[0;34m,\u001b[0m \u001b[0my_train_e\u001b[0m\u001b[0;34m)\u001b[0m\u001b[0;34m\u001b[0m\u001b[0;34m\u001b[0m\u001b[0m\n\u001b[0m",
            "\u001b[0;31mNameError\u001b[0m: name 'X_train_e' is not defined"
          ]
        }
      ]
    },
    {
      "cell_type": "code",
      "metadata": {
        "colab": {
          "base_uri": "https://localhost:8080/"
        },
        "id": "VCAIzALDucZL",
        "outputId": "97910dfb-5a07-409d-fa3d-ce78e478e31b"
      },
      "source": [
        "pred = rf.predict(X_test_e)\n",
        "get_metrics(y_test_e, pred, binary=True)"
      ],
      "execution_count": null,
      "outputs": [
        {
          "output_type": "stream",
          "text": [
            "Metricas en el set de prueba...\n",
            "Accuracy:  0.7305229455709712\n",
            "Precision:  0.7843537414965986\n",
            "Recall:  0.8598061148396718\n",
            "f1_score:  0.8598061148396718\n",
            "AUC:  0.6325296990708678\n",
            "----------------------------------------------------------------------\n"
          ],
          "name": "stdout"
        }
      ]
    },
    {
      "cell_type": "code",
      "metadata": {
        "id": "WqhgsqABuy7u"
      },
      "source": [
        "## Naive Bayes y KKN -- David\n",
        "## Random forest -- Carlos\n",
        "## Redes neuronales -- Sebastían\n",
        "## SVM -- Diego"
      ],
      "execution_count": null,
      "outputs": []
    },
    {
      "cell_type": "markdown",
      "metadata": {
        "id": "pZS6rkjdVKKw"
      },
      "source": [
        "## Redes Neuronales"
      ]
    },
    {
      "cell_type": "code",
      "metadata": {
        "id": "QY4i1t9FVph2"
      },
      "source": [
        "import tensorflow as tf\n",
        "from tensorflow import keras"
      ],
      "execution_count": null,
      "outputs": []
    },
    {
      "cell_type": "markdown",
      "metadata": {
        "id": "VITLrsTJVPso"
      },
      "source": [
        "### Normalizacion MinMax\n",
        "Normalizar las resenas a valores que van de 0 a 1."
      ]
    },
    {
      "cell_type": "code",
      "metadata": {
        "id": "A0thc4JoJedX",
        "colab": {
          "base_uri": "https://localhost:8080/"
        },
        "outputId": "4e2d39b6-a22a-475c-a8fe-45afa11a1c24"
      },
      "source": [
        "max = expanded['Reviews'].max()\n",
        "min = expanded['Reviews'].min()\n",
        "resta = max - min\n",
        "\n",
        "expanded['Reviews'] = expanded['Reviews'].apply(lambda fila: (fila-min)/resta)\n",
        "#ex = expanded['Reviews'].apply(lambda fila: (fila-media)/std)\n",
        "print(expanded)"
      ],
      "execution_count": null,
      "outputs": [
        {
          "output_type": "stream",
          "text": [
            "            Reviews  Tamanio_MB  ...  Categoria_VIDEO_PLAYERS  Categoria_WEATHER\n",
            "0      2.021538e-06        19.0  ...                        0                  0\n",
            "1      1.235953e-05        14.0  ...                        0                  0\n",
            "2      1.119638e-03         8.7  ...                        0                  0\n",
            "3      2.759054e-03        25.0  ...                        0                  0\n",
            "4      1.235953e-05         2.8  ...                        0                  0\n",
            "...             ...         ...  ...                      ...                ...\n",
            "10834  7.676727e-08         2.6  ...                        0                  0\n",
            "10836  4.733982e-07        53.0  ...                        0                  0\n",
            "10837  3.838364e-08         3.6  ...                        0                  0\n",
            "10839  1.445784e-06         7.4  ...                        0                  0\n",
            "10840  5.096144e-03        19.0  ...                        0                  0\n",
            "\n",
            "[9366 rows x 40 columns]\n"
          ],
          "name": "stdout"
        }
      ]
    },
    {
      "cell_type": "markdown",
      "metadata": {
        "id": "_yVyeqiZVd8L"
      },
      "source": [
        "### Construyendo el modelo."
      ]
    },
    {
      "cell_type": "code",
      "metadata": {
        "id": "GThew58QVb9k"
      },
      "source": [
        "modelo = keras.Sequential([ #Modelo mas basico de una red neuronal.\n",
        "    keras.layers.Flatten(input_shape=(39,1)),        #Capa de entrada.\n",
        "    keras.layers.Dense(4, activation=tf.nn.sigmoid),      #Capa oculta.\n",
        "    keras.layers.Dense(1, activation=tf.nn.sigmoid)     #Capa de salida.\n",
        "])"
      ],
      "execution_count": null,
      "outputs": []
    },
    {
      "cell_type": "markdown",
      "metadata": {
        "id": "DXeU3tIjViZv"
      },
      "source": [
        "### Compilar el modelo."
      ]
    },
    {
      "cell_type": "code",
      "metadata": {
        "id": "pejLCyYEViu_"
      },
      "source": [
        "modelo.compile(optimizer='adam', \n",
        "               loss='binary_crossentropy', \n",
        "               metrics=['accuracy'])"
      ],
      "execution_count": null,
      "outputs": []
    },
    {
      "cell_type": "markdown",
      "metadata": {
        "id": "XgZ58szbV0YD"
      },
      "source": [
        "### Entrenar el modelo."
      ]
    },
    {
      "cell_type": "code",
      "metadata": {
        "colab": {
          "base_uri": "https://localhost:8080/"
        },
        "id": "DtHRuQ_iV3OR",
        "outputId": "15da7276-b018-4e33-e983-1adf37f6d296"
      },
      "source": [
        "modelo.fit(X_train, y_train, epochs=6)"
      ],
      "execution_count": null,
      "outputs": [
        {
          "output_type": "stream",
          "text": [
            "Epoch 1/6\n",
            "235/235 [==============================] - 1s 1ms/step - loss: 0.6117 - accuracy: 0.7262\n",
            "Epoch 2/6\n",
            "235/235 [==============================] - 0s 1ms/step - loss: 0.5901 - accuracy: 0.7262\n",
            "Epoch 3/6\n",
            "235/235 [==============================] - 0s 1ms/step - loss: 0.5872 - accuracy: 0.7262\n",
            "Epoch 4/6\n",
            "235/235 [==============================] - 0s 1ms/step - loss: 0.5868 - accuracy: 0.7262\n",
            "Epoch 5/6\n",
            "235/235 [==============================] - 0s 1ms/step - loss: 0.5868 - accuracy: 0.7262\n",
            "Epoch 6/6\n",
            "235/235 [==============================] - 0s 1ms/step - loss: 0.5867 - accuracy: 0.7262\n"
          ],
          "name": "stdout"
        },
        {
          "output_type": "execute_result",
          "data": {
            "text/plain": [
              "<tensorflow.python.keras.callbacks.History at 0x7f9931f56c90>"
            ]
          },
          "metadata": {
            "tags": []
          },
          "execution_count": 112
        }
      ]
    },
    {
      "cell_type": "markdown",
      "metadata": {
        "id": "oCg-OAnOV8-o"
      },
      "source": [
        "### Evaluar el modelo."
      ]
    },
    {
      "cell_type": "code",
      "metadata": {
        "colab": {
          "base_uri": "https://localhost:8080/"
        },
        "id": "DPRHNzPnWAAQ",
        "outputId": "73400633-efa7-491e-ff06-1b230e9e59b4"
      },
      "source": [
        "test_loss, test_acc = modelo.evaluate(X_test, y_test, verbose=1)\n",
        "print('Precision de las pruebas: ', test_acc)"
      ],
      "execution_count": null,
      "outputs": [
        {
          "output_type": "stream",
          "text": [
            "59/59 [==============================] - 0s 1ms/step - loss: 0.5883 - accuracy: 0.7252\n",
            "Precision de las pruebas:  0.7251867651939392\n"
          ],
          "name": "stdout"
        }
      ]
    }
  ]
}