{
  "nbformat": 4,
  "nbformat_minor": 0,
  "metadata": {
    "colab": {
      "name": "Estudio de mercado de Apps Móviles y predicción de exito.ipynb",
      "provenance": [],
      "collapsed_sections": [],
      "include_colab_link": true
    },
    "kernelspec": {
      "name": "python3",
      "display_name": "Python 3"
    },
    "language_info": {
      "name": "python"
    }
  },
  "cells": [
    {
      "cell_type": "markdown",
      "metadata": {
        "id": "view-in-github",
        "colab_type": "text"
      },
      "source": [
        "<a href=\"https://colab.research.google.com/github/DiegoCorona/BEDU-Proyecto-Final-Estudio-de-mercado-de-Apps-M-viles-y-predicci-n-de-xito-/blob/main/Estudio_de_mercado_de_Apps_M%C3%B3viles_y_predicci%C3%B3n_de_exito.ipynb\" target=\"_parent\"><img src=\"https://colab.research.google.com/assets/colab-badge.svg\" alt=\"Open In Colab\"/></a>"
      ]
    },
    {
      "cell_type": "code",
      "metadata": {
        "id": "8o3WctZ_dsc4",
        "colab": {
          "base_uri": "https://localhost:8080/"
        },
        "outputId": "85e78b9d-d23f-4f29-9360-3352bacf3b0c"
      },
      "source": [
        "from google.colab import drive\n",
        "drive.mount('/content/drive')"
      ],
      "execution_count": null,
      "outputs": [
        {
          "output_type": "stream",
          "text": [
            "Drive already mounted at /content/drive; to attempt to forcibly remount, call drive.mount(\"/content/drive\", force_remount=True).\n"
          ],
          "name": "stdout"
        }
      ]
    },
    {
      "cell_type": "code",
      "metadata": {
        "id": "M7iQb2UTeEzI"
      },
      "source": [
        "import pandas as pd\n",
        "import numpy as np"
      ],
      "execution_count": null,
      "outputs": []
    },
    {
      "cell_type": "code",
      "metadata": {
        "colab": {
          "base_uri": "https://localhost:8080/",
          "height": 188
        },
        "id": "QH-TRWw4eMO5",
        "outputId": "636b4e22-1794-4423-e67c-0facc8f2b873"
      },
      "source": [
        "data = pd.read_csv('/content/drive/MyDrive/Dataset Proyecto/Bedu_Proyecto_Modulo_4/Dataset_limpio.csv', index_col=0)\n",
        "data.head(1)"
      ],
      "execution_count": null,
      "outputs": [
        {
          "output_type": "execute_result",
          "data": {
            "text/html": [
              "<div>\n",
              "<style scoped>\n",
              "    .dataframe tbody tr th:only-of-type {\n",
              "        vertical-align: middle;\n",
              "    }\n",
              "\n",
              "    .dataframe tbody tr th {\n",
              "        vertical-align: top;\n",
              "    }\n",
              "\n",
              "    .dataframe thead th {\n",
              "        text-align: right;\n",
              "    }\n",
              "</style>\n",
              "<table border=\"1\" class=\"dataframe\">\n",
              "  <thead>\n",
              "    <tr style=\"text-align: right;\">\n",
              "      <th></th>\n",
              "      <th>App</th>\n",
              "      <th>Categoria</th>\n",
              "      <th>Reviews</th>\n",
              "      <th>Tamanio_MB</th>\n",
              "      <th>Instalaciones_minimas_estimadas</th>\n",
              "      <th>App_gratuita</th>\n",
              "      <th>App_pago</th>\n",
              "      <th>Precio</th>\n",
              "      <th>Rating_del_contenido</th>\n",
              "      <th>Ultimo_updated</th>\n",
              "      <th>Anio_ultimo_updated</th>\n",
              "      <th>Version_actual</th>\n",
              "      <th>Version_Android</th>\n",
              "      <th>Rating</th>\n",
              "      <th>Exito_app</th>\n",
              "    </tr>\n",
              "  </thead>\n",
              "  <tbody>\n",
              "    <tr>\n",
              "      <th>0</th>\n",
              "      <td>Photo Editor &amp; Candy Camera &amp; Grid &amp; ScrapBook</td>\n",
              "      <td>ART_AND_DESIGN</td>\n",
              "      <td>159</td>\n",
              "      <td>19.0</td>\n",
              "      <td>10000</td>\n",
              "      <td>1</td>\n",
              "      <td>0</td>\n",
              "      <td>0.0</td>\n",
              "      <td>Everyone</td>\n",
              "      <td>January 7, 2018</td>\n",
              "      <td>2018</td>\n",
              "      <td>1.0.0</td>\n",
              "      <td>4.0.3 and up</td>\n",
              "      <td>4.1</td>\n",
              "      <td>1</td>\n",
              "    </tr>\n",
              "  </tbody>\n",
              "</table>\n",
              "</div>"
            ],
            "text/plain": [
              "                                              App  ... Exito_app\n",
              "0  Photo Editor & Candy Camera & Grid & ScrapBook  ...         1\n",
              "\n",
              "[1 rows x 15 columns]"
            ]
          },
          "metadata": {
            "tags": []
          },
          "execution_count": 5
        }
      ]
    },
    {
      "cell_type": "code",
      "metadata": {
        "id": "pQ2ik_lTf4bD"
      },
      "source": [
        "expanded = pd.get_dummies(data = data, columns = ['Categoria'])\n",
        "expanded = expanded.drop(columns = ['App', 'Rating_del_contenido', 'Ultimo_updated', 'Anio_ultimo_updated','Version_actual', 'Version_Android', 'Rating'])"
      ],
      "execution_count": null,
      "outputs": []
    },
    {
      "cell_type": "code",
      "metadata": {
        "colab": {
          "base_uri": "https://localhost:8080/",
          "height": 226
        },
        "id": "h7OGaULIgFir",
        "outputId": "6d858c69-f026-4fa9-d64e-0bf5bbf9aca8"
      },
      "source": [
        "expanded.head()"
      ],
      "execution_count": null,
      "outputs": [
        {
          "output_type": "execute_result",
          "data": {
            "text/html": [
              "<div>\n",
              "<style scoped>\n",
              "    .dataframe tbody tr th:only-of-type {\n",
              "        vertical-align: middle;\n",
              "    }\n",
              "\n",
              "    .dataframe tbody tr th {\n",
              "        vertical-align: top;\n",
              "    }\n",
              "\n",
              "    .dataframe thead th {\n",
              "        text-align: right;\n",
              "    }\n",
              "</style>\n",
              "<table border=\"1\" class=\"dataframe\">\n",
              "  <thead>\n",
              "    <tr style=\"text-align: right;\">\n",
              "      <th></th>\n",
              "      <th>Reviews</th>\n",
              "      <th>Tamanio_MB</th>\n",
              "      <th>Instalaciones_minimas_estimadas</th>\n",
              "      <th>App_gratuita</th>\n",
              "      <th>App_pago</th>\n",
              "      <th>Precio</th>\n",
              "      <th>Exito_app</th>\n",
              "      <th>Categoria_ART_AND_DESIGN</th>\n",
              "      <th>Categoria_AUTO_AND_VEHICLES</th>\n",
              "      <th>Categoria_BEAUTY</th>\n",
              "      <th>Categoria_BOOKS_AND_REFERENCE</th>\n",
              "      <th>Categoria_BUSINESS</th>\n",
              "      <th>Categoria_COMICS</th>\n",
              "      <th>Categoria_COMMUNICATION</th>\n",
              "      <th>Categoria_DATING</th>\n",
              "      <th>Categoria_EDUCATION</th>\n",
              "      <th>Categoria_ENTERTAINMENT</th>\n",
              "      <th>Categoria_EVENTS</th>\n",
              "      <th>Categoria_FAMILY</th>\n",
              "      <th>Categoria_FINANCE</th>\n",
              "      <th>Categoria_FOOD_AND_DRINK</th>\n",
              "      <th>Categoria_GAME</th>\n",
              "      <th>Categoria_HEALTH_AND_FITNESS</th>\n",
              "      <th>Categoria_HOUSE_AND_HOME</th>\n",
              "      <th>Categoria_LIBRARIES_AND_DEMO</th>\n",
              "      <th>Categoria_LIFESTYLE</th>\n",
              "      <th>Categoria_MAPS_AND_NAVIGATION</th>\n",
              "      <th>Categoria_MEDICAL</th>\n",
              "      <th>Categoria_NEWS_AND_MAGAZINES</th>\n",
              "      <th>Categoria_PARENTING</th>\n",
              "      <th>Categoria_PERSONALIZATION</th>\n",
              "      <th>Categoria_PHOTOGRAPHY</th>\n",
              "      <th>Categoria_PRODUCTIVITY</th>\n",
              "      <th>Categoria_SHOPPING</th>\n",
              "      <th>Categoria_SOCIAL</th>\n",
              "      <th>Categoria_SPORTS</th>\n",
              "      <th>Categoria_TOOLS</th>\n",
              "      <th>Categoria_TRAVEL_AND_LOCAL</th>\n",
              "      <th>Categoria_VIDEO_PLAYERS</th>\n",
              "      <th>Categoria_WEATHER</th>\n",
              "    </tr>\n",
              "  </thead>\n",
              "  <tbody>\n",
              "    <tr>\n",
              "      <th>0</th>\n",
              "      <td>159</td>\n",
              "      <td>19.0</td>\n",
              "      <td>10000</td>\n",
              "      <td>1</td>\n",
              "      <td>0</td>\n",
              "      <td>0.0</td>\n",
              "      <td>1</td>\n",
              "      <td>1</td>\n",
              "      <td>0</td>\n",
              "      <td>0</td>\n",
              "      <td>0</td>\n",
              "      <td>0</td>\n",
              "      <td>0</td>\n",
              "      <td>0</td>\n",
              "      <td>0</td>\n",
              "      <td>0</td>\n",
              "      <td>0</td>\n",
              "      <td>0</td>\n",
              "      <td>0</td>\n",
              "      <td>0</td>\n",
              "      <td>0</td>\n",
              "      <td>0</td>\n",
              "      <td>0</td>\n",
              "      <td>0</td>\n",
              "      <td>0</td>\n",
              "      <td>0</td>\n",
              "      <td>0</td>\n",
              "      <td>0</td>\n",
              "      <td>0</td>\n",
              "      <td>0</td>\n",
              "      <td>0</td>\n",
              "      <td>0</td>\n",
              "      <td>0</td>\n",
              "      <td>0</td>\n",
              "      <td>0</td>\n",
              "      <td>0</td>\n",
              "      <td>0</td>\n",
              "      <td>0</td>\n",
              "      <td>0</td>\n",
              "      <td>0</td>\n",
              "    </tr>\n",
              "    <tr>\n",
              "      <th>1</th>\n",
              "      <td>967</td>\n",
              "      <td>14.0</td>\n",
              "      <td>500000</td>\n",
              "      <td>1</td>\n",
              "      <td>0</td>\n",
              "      <td>0.0</td>\n",
              "      <td>0</td>\n",
              "      <td>1</td>\n",
              "      <td>0</td>\n",
              "      <td>0</td>\n",
              "      <td>0</td>\n",
              "      <td>0</td>\n",
              "      <td>0</td>\n",
              "      <td>0</td>\n",
              "      <td>0</td>\n",
              "      <td>0</td>\n",
              "      <td>0</td>\n",
              "      <td>0</td>\n",
              "      <td>0</td>\n",
              "      <td>0</td>\n",
              "      <td>0</td>\n",
              "      <td>0</td>\n",
              "      <td>0</td>\n",
              "      <td>0</td>\n",
              "      <td>0</td>\n",
              "      <td>0</td>\n",
              "      <td>0</td>\n",
              "      <td>0</td>\n",
              "      <td>0</td>\n",
              "      <td>0</td>\n",
              "      <td>0</td>\n",
              "      <td>0</td>\n",
              "      <td>0</td>\n",
              "      <td>0</td>\n",
              "      <td>0</td>\n",
              "      <td>0</td>\n",
              "      <td>0</td>\n",
              "      <td>0</td>\n",
              "      <td>0</td>\n",
              "      <td>0</td>\n",
              "    </tr>\n",
              "    <tr>\n",
              "      <th>2</th>\n",
              "      <td>87510</td>\n",
              "      <td>8.7</td>\n",
              "      <td>5000000</td>\n",
              "      <td>1</td>\n",
              "      <td>0</td>\n",
              "      <td>0.0</td>\n",
              "      <td>1</td>\n",
              "      <td>1</td>\n",
              "      <td>0</td>\n",
              "      <td>0</td>\n",
              "      <td>0</td>\n",
              "      <td>0</td>\n",
              "      <td>0</td>\n",
              "      <td>0</td>\n",
              "      <td>0</td>\n",
              "      <td>0</td>\n",
              "      <td>0</td>\n",
              "      <td>0</td>\n",
              "      <td>0</td>\n",
              "      <td>0</td>\n",
              "      <td>0</td>\n",
              "      <td>0</td>\n",
              "      <td>0</td>\n",
              "      <td>0</td>\n",
              "      <td>0</td>\n",
              "      <td>0</td>\n",
              "      <td>0</td>\n",
              "      <td>0</td>\n",
              "      <td>0</td>\n",
              "      <td>0</td>\n",
              "      <td>0</td>\n",
              "      <td>0</td>\n",
              "      <td>0</td>\n",
              "      <td>0</td>\n",
              "      <td>0</td>\n",
              "      <td>0</td>\n",
              "      <td>0</td>\n",
              "      <td>0</td>\n",
              "      <td>0</td>\n",
              "      <td>0</td>\n",
              "    </tr>\n",
              "    <tr>\n",
              "      <th>3</th>\n",
              "      <td>215644</td>\n",
              "      <td>25.0</td>\n",
              "      <td>50000000</td>\n",
              "      <td>1</td>\n",
              "      <td>0</td>\n",
              "      <td>0.0</td>\n",
              "      <td>1</td>\n",
              "      <td>1</td>\n",
              "      <td>0</td>\n",
              "      <td>0</td>\n",
              "      <td>0</td>\n",
              "      <td>0</td>\n",
              "      <td>0</td>\n",
              "      <td>0</td>\n",
              "      <td>0</td>\n",
              "      <td>0</td>\n",
              "      <td>0</td>\n",
              "      <td>0</td>\n",
              "      <td>0</td>\n",
              "      <td>0</td>\n",
              "      <td>0</td>\n",
              "      <td>0</td>\n",
              "      <td>0</td>\n",
              "      <td>0</td>\n",
              "      <td>0</td>\n",
              "      <td>0</td>\n",
              "      <td>0</td>\n",
              "      <td>0</td>\n",
              "      <td>0</td>\n",
              "      <td>0</td>\n",
              "      <td>0</td>\n",
              "      <td>0</td>\n",
              "      <td>0</td>\n",
              "      <td>0</td>\n",
              "      <td>0</td>\n",
              "      <td>0</td>\n",
              "      <td>0</td>\n",
              "      <td>0</td>\n",
              "      <td>0</td>\n",
              "      <td>0</td>\n",
              "    </tr>\n",
              "    <tr>\n",
              "      <th>4</th>\n",
              "      <td>967</td>\n",
              "      <td>2.8</td>\n",
              "      <td>100000</td>\n",
              "      <td>1</td>\n",
              "      <td>0</td>\n",
              "      <td>0.0</td>\n",
              "      <td>1</td>\n",
              "      <td>1</td>\n",
              "      <td>0</td>\n",
              "      <td>0</td>\n",
              "      <td>0</td>\n",
              "      <td>0</td>\n",
              "      <td>0</td>\n",
              "      <td>0</td>\n",
              "      <td>0</td>\n",
              "      <td>0</td>\n",
              "      <td>0</td>\n",
              "      <td>0</td>\n",
              "      <td>0</td>\n",
              "      <td>0</td>\n",
              "      <td>0</td>\n",
              "      <td>0</td>\n",
              "      <td>0</td>\n",
              "      <td>0</td>\n",
              "      <td>0</td>\n",
              "      <td>0</td>\n",
              "      <td>0</td>\n",
              "      <td>0</td>\n",
              "      <td>0</td>\n",
              "      <td>0</td>\n",
              "      <td>0</td>\n",
              "      <td>0</td>\n",
              "      <td>0</td>\n",
              "      <td>0</td>\n",
              "      <td>0</td>\n",
              "      <td>0</td>\n",
              "      <td>0</td>\n",
              "      <td>0</td>\n",
              "      <td>0</td>\n",
              "      <td>0</td>\n",
              "    </tr>\n",
              "  </tbody>\n",
              "</table>\n",
              "</div>"
            ],
            "text/plain": [
              "   Reviews  Tamanio_MB  ...  Categoria_VIDEO_PLAYERS  Categoria_WEATHER\n",
              "0      159        19.0  ...                        0                  0\n",
              "1      967        14.0  ...                        0                  0\n",
              "2    87510         8.7  ...                        0                  0\n",
              "3   215644        25.0  ...                        0                  0\n",
              "4      967         2.8  ...                        0                  0\n",
              "\n",
              "[5 rows x 40 columns]"
            ]
          },
          "metadata": {
            "tags": []
          },
          "execution_count": 7
        }
      ]
    },
    {
      "cell_type": "code",
      "metadata": {
        "id": "kRqfi5dsg1X_"
      },
      "source": [
        "X = expanded.drop(columns= ['Exito_app'])\n",
        "y = expanded['Exito_app']"
      ],
      "execution_count": null,
      "outputs": []
    },
    {
      "cell_type": "markdown",
      "metadata": {
        "id": "GhaVwsphlCne"
      },
      "source": [
        "### Normalizando algunas variables."
      ]
    },
    {
      "cell_type": "code",
      "metadata": {
        "id": "QKcfAyrTlG-F"
      },
      "source": [
        "X_norm = X.copy()\n",
        "X_norm['Reviews'] = (X['Reviews'] - X['Reviews'].mean())/X['Reviews'].std()\n",
        "X_norm['Instalaciones_minimas_estimadas'] = (X['Instalaciones_minimas_estimadas'] - X['Instalaciones_minimas_estimadas'].mean())/X['Instalaciones_minimas_estimadas'].std()\n",
        "X_norm['Tamanio_MB'] = (X['Tamanio_MB'] - X['Tamanio_MB'].mean())/X['Tamanio_MB'].std()\n",
        "X_norm['Precio'] = (X['Precio'])/(X['Precio'].max()-X['Precio'].min())"
      ],
      "execution_count": null,
      "outputs": []
    },
    {
      "cell_type": "code",
      "metadata": {
        "colab": {
          "base_uri": "https://localhost:8080/",
          "height": 226
        },
        "id": "-d2wxJhgl4wK",
        "outputId": "6cc9186a-c338-4129-b640-424c83a4b80f"
      },
      "source": [
        "X_norm.head()"
      ],
      "execution_count": null,
      "outputs": [
        {
          "output_type": "execute_result",
          "data": {
            "text/html": [
              "<div>\n",
              "<style scoped>\n",
              "    .dataframe tbody tr th:only-of-type {\n",
              "        vertical-align: middle;\n",
              "    }\n",
              "\n",
              "    .dataframe tbody tr th {\n",
              "        vertical-align: top;\n",
              "    }\n",
              "\n",
              "    .dataframe thead th {\n",
              "        text-align: right;\n",
              "    }\n",
              "</style>\n",
              "<table border=\"1\" class=\"dataframe\">\n",
              "  <thead>\n",
              "    <tr style=\"text-align: right;\">\n",
              "      <th></th>\n",
              "      <th>Reviews</th>\n",
              "      <th>Tamanio_MB</th>\n",
              "      <th>Instalaciones_minimas_estimadas</th>\n",
              "      <th>App_gratuita</th>\n",
              "      <th>App_pago</th>\n",
              "      <th>Precio</th>\n",
              "      <th>Categoria_ART_AND_DESIGN</th>\n",
              "      <th>Categoria_AUTO_AND_VEHICLES</th>\n",
              "      <th>Categoria_BEAUTY</th>\n",
              "      <th>Categoria_BOOKS_AND_REFERENCE</th>\n",
              "      <th>Categoria_BUSINESS</th>\n",
              "      <th>Categoria_COMICS</th>\n",
              "      <th>Categoria_COMMUNICATION</th>\n",
              "      <th>Categoria_DATING</th>\n",
              "      <th>Categoria_EDUCATION</th>\n",
              "      <th>Categoria_ENTERTAINMENT</th>\n",
              "      <th>Categoria_EVENTS</th>\n",
              "      <th>Categoria_FAMILY</th>\n",
              "      <th>Categoria_FINANCE</th>\n",
              "      <th>Categoria_FOOD_AND_DRINK</th>\n",
              "      <th>Categoria_GAME</th>\n",
              "      <th>Categoria_HEALTH_AND_FITNESS</th>\n",
              "      <th>Categoria_HOUSE_AND_HOME</th>\n",
              "      <th>Categoria_LIBRARIES_AND_DEMO</th>\n",
              "      <th>Categoria_LIFESTYLE</th>\n",
              "      <th>Categoria_MAPS_AND_NAVIGATION</th>\n",
              "      <th>Categoria_MEDICAL</th>\n",
              "      <th>Categoria_NEWS_AND_MAGAZINES</th>\n",
              "      <th>Categoria_PARENTING</th>\n",
              "      <th>Categoria_PERSONALIZATION</th>\n",
              "      <th>Categoria_PHOTOGRAPHY</th>\n",
              "      <th>Categoria_PRODUCTIVITY</th>\n",
              "      <th>Categoria_SHOPPING</th>\n",
              "      <th>Categoria_SOCIAL</th>\n",
              "      <th>Categoria_SPORTS</th>\n",
              "      <th>Categoria_TOOLS</th>\n",
              "      <th>Categoria_TRAVEL_AND_LOCAL</th>\n",
              "      <th>Categoria_VIDEO_PLAYERS</th>\n",
              "      <th>Categoria_WEATHER</th>\n",
              "    </tr>\n",
              "  </thead>\n",
              "  <tbody>\n",
              "    <tr>\n",
              "      <th>0</th>\n",
              "      <td>-0.163449</td>\n",
              "      <td>-0.108131</td>\n",
              "      <td>-0.196052</td>\n",
              "      <td>1</td>\n",
              "      <td>0</td>\n",
              "      <td>0.0</td>\n",
              "      <td>1</td>\n",
              "      <td>0</td>\n",
              "      <td>0</td>\n",
              "      <td>0</td>\n",
              "      <td>0</td>\n",
              "      <td>0</td>\n",
              "      <td>0</td>\n",
              "      <td>0</td>\n",
              "      <td>0</td>\n",
              "      <td>0</td>\n",
              "      <td>0</td>\n",
              "      <td>0</td>\n",
              "      <td>0</td>\n",
              "      <td>0</td>\n",
              "      <td>0</td>\n",
              "      <td>0</td>\n",
              "      <td>0</td>\n",
              "      <td>0</td>\n",
              "      <td>0</td>\n",
              "      <td>0</td>\n",
              "      <td>0</td>\n",
              "      <td>0</td>\n",
              "      <td>0</td>\n",
              "      <td>0</td>\n",
              "      <td>0</td>\n",
              "      <td>0</td>\n",
              "      <td>0</td>\n",
              "      <td>0</td>\n",
              "      <td>0</td>\n",
              "      <td>0</td>\n",
              "      <td>0</td>\n",
              "      <td>0</td>\n",
              "      <td>0</td>\n",
              "    </tr>\n",
              "    <tr>\n",
              "      <th>1</th>\n",
              "      <td>-0.163192</td>\n",
              "      <td>-0.336461</td>\n",
              "      <td>-0.190682</td>\n",
              "      <td>1</td>\n",
              "      <td>0</td>\n",
              "      <td>0.0</td>\n",
              "      <td>1</td>\n",
              "      <td>0</td>\n",
              "      <td>0</td>\n",
              "      <td>0</td>\n",
              "      <td>0</td>\n",
              "      <td>0</td>\n",
              "      <td>0</td>\n",
              "      <td>0</td>\n",
              "      <td>0</td>\n",
              "      <td>0</td>\n",
              "      <td>0</td>\n",
              "      <td>0</td>\n",
              "      <td>0</td>\n",
              "      <td>0</td>\n",
              "      <td>0</td>\n",
              "      <td>0</td>\n",
              "      <td>0</td>\n",
              "      <td>0</td>\n",
              "      <td>0</td>\n",
              "      <td>0</td>\n",
              "      <td>0</td>\n",
              "      <td>0</td>\n",
              "      <td>0</td>\n",
              "      <td>0</td>\n",
              "      <td>0</td>\n",
              "      <td>0</td>\n",
              "      <td>0</td>\n",
              "      <td>0</td>\n",
              "      <td>0</td>\n",
              "      <td>0</td>\n",
              "      <td>0</td>\n",
              "      <td>0</td>\n",
              "      <td>0</td>\n",
              "    </tr>\n",
              "    <tr>\n",
              "      <th>2</th>\n",
              "      <td>-0.135666</td>\n",
              "      <td>-0.578490</td>\n",
              "      <td>-0.141360</td>\n",
              "      <td>1</td>\n",
              "      <td>0</td>\n",
              "      <td>0.0</td>\n",
              "      <td>1</td>\n",
              "      <td>0</td>\n",
              "      <td>0</td>\n",
              "      <td>0</td>\n",
              "      <td>0</td>\n",
              "      <td>0</td>\n",
              "      <td>0</td>\n",
              "      <td>0</td>\n",
              "      <td>0</td>\n",
              "      <td>0</td>\n",
              "      <td>0</td>\n",
              "      <td>0</td>\n",
              "      <td>0</td>\n",
              "      <td>0</td>\n",
              "      <td>0</td>\n",
              "      <td>0</td>\n",
              "      <td>0</td>\n",
              "      <td>0</td>\n",
              "      <td>0</td>\n",
              "      <td>0</td>\n",
              "      <td>0</td>\n",
              "      <td>0</td>\n",
              "      <td>0</td>\n",
              "      <td>0</td>\n",
              "      <td>0</td>\n",
              "      <td>0</td>\n",
              "      <td>0</td>\n",
              "      <td>0</td>\n",
              "      <td>0</td>\n",
              "      <td>0</td>\n",
              "      <td>0</td>\n",
              "      <td>0</td>\n",
              "      <td>0</td>\n",
              "    </tr>\n",
              "    <tr>\n",
              "      <th>3</th>\n",
              "      <td>-0.094912</td>\n",
              "      <td>0.165864</td>\n",
              "      <td>0.351854</td>\n",
              "      <td>1</td>\n",
              "      <td>0</td>\n",
              "      <td>0.0</td>\n",
              "      <td>1</td>\n",
              "      <td>0</td>\n",
              "      <td>0</td>\n",
              "      <td>0</td>\n",
              "      <td>0</td>\n",
              "      <td>0</td>\n",
              "      <td>0</td>\n",
              "      <td>0</td>\n",
              "      <td>0</td>\n",
              "      <td>0</td>\n",
              "      <td>0</td>\n",
              "      <td>0</td>\n",
              "      <td>0</td>\n",
              "      <td>0</td>\n",
              "      <td>0</td>\n",
              "      <td>0</td>\n",
              "      <td>0</td>\n",
              "      <td>0</td>\n",
              "      <td>0</td>\n",
              "      <td>0</td>\n",
              "      <td>0</td>\n",
              "      <td>0</td>\n",
              "      <td>0</td>\n",
              "      <td>0</td>\n",
              "      <td>0</td>\n",
              "      <td>0</td>\n",
              "      <td>0</td>\n",
              "      <td>0</td>\n",
              "      <td>0</td>\n",
              "      <td>0</td>\n",
              "      <td>0</td>\n",
              "      <td>0</td>\n",
              "      <td>0</td>\n",
              "    </tr>\n",
              "    <tr>\n",
              "      <th>4</th>\n",
              "      <td>-0.163192</td>\n",
              "      <td>-0.847918</td>\n",
              "      <td>-0.195066</td>\n",
              "      <td>1</td>\n",
              "      <td>0</td>\n",
              "      <td>0.0</td>\n",
              "      <td>1</td>\n",
              "      <td>0</td>\n",
              "      <td>0</td>\n",
              "      <td>0</td>\n",
              "      <td>0</td>\n",
              "      <td>0</td>\n",
              "      <td>0</td>\n",
              "      <td>0</td>\n",
              "      <td>0</td>\n",
              "      <td>0</td>\n",
              "      <td>0</td>\n",
              "      <td>0</td>\n",
              "      <td>0</td>\n",
              "      <td>0</td>\n",
              "      <td>0</td>\n",
              "      <td>0</td>\n",
              "      <td>0</td>\n",
              "      <td>0</td>\n",
              "      <td>0</td>\n",
              "      <td>0</td>\n",
              "      <td>0</td>\n",
              "      <td>0</td>\n",
              "      <td>0</td>\n",
              "      <td>0</td>\n",
              "      <td>0</td>\n",
              "      <td>0</td>\n",
              "      <td>0</td>\n",
              "      <td>0</td>\n",
              "      <td>0</td>\n",
              "      <td>0</td>\n",
              "      <td>0</td>\n",
              "      <td>0</td>\n",
              "      <td>0</td>\n",
              "    </tr>\n",
              "  </tbody>\n",
              "</table>\n",
              "</div>"
            ],
            "text/plain": [
              "    Reviews  Tamanio_MB  ...  Categoria_VIDEO_PLAYERS  Categoria_WEATHER\n",
              "0 -0.163449   -0.108131  ...                        0                  0\n",
              "1 -0.163192   -0.336461  ...                        0                  0\n",
              "2 -0.135666   -0.578490  ...                        0                  0\n",
              "3 -0.094912    0.165864  ...                        0                  0\n",
              "4 -0.163192   -0.847918  ...                        0                  0\n",
              "\n",
              "[5 rows x 39 columns]"
            ]
          },
          "metadata": {
            "tags": []
          },
          "execution_count": 49
        }
      ]
    },
    {
      "cell_type": "code",
      "metadata": {
        "id": "cVBDPvIciOM_"
      },
      "source": [
        "from sklearn.model_selection import train_test_split"
      ],
      "execution_count": null,
      "outputs": []
    },
    {
      "cell_type": "code",
      "metadata": {
        "id": "8ZylqF31htnz"
      },
      "source": [
        "X_train, X_test, y_train, y_test = train_test_split(X_norm, y, \n",
        "                                                    test_size = 0.2, \n",
        "                                                    random_state = 23)"
      ],
      "execution_count": null,
      "outputs": []
    },
    {
      "cell_type": "code",
      "metadata": {
        "id": "-rq192Izhy1s"
      },
      "source": [
        "def get_metrics(y_test, predictions, binary = False):\n",
        "  '''\n",
        "    Esta función retorna Accuracy, Precision, Recall y F1_score.\n",
        "    binary: (default: False) Booleano que indica si la clasificación es multiclase o no\n",
        "  '''\n",
        "  from sklearn.metrics import accuracy_score, precision_score, recall_score, f1_score, roc_auc_score\n",
        "\n",
        "  if binary == False:\n",
        "    option = 'macro'\n",
        "    auc = None\n",
        "  if binary == True:\n",
        "    option = 'binary'\n",
        "    auc = roc_auc_score(y_test, predictions)\n",
        "  \n",
        "  acc = accuracy_score(y_test, predictions)\n",
        "  precision = precision_score(y_test, predictions, average= option)\n",
        "  recall = recall_score(y_test, predictions, average= option)\n",
        "  f1 = f1_score(y_test, predictions, average= option)\n",
        "  print('Metricas en el set de prueba...')\n",
        "  print('Accuracy: ', acc)\n",
        "  print('Precision: ', precision)\n",
        "  print('Recall: ', recall)\n",
        "  print('f1_score: ', recall)\n",
        "  print('AUC: ', auc)\n",
        "  print('-'*70)\n",
        "  \n",
        "\n",
        "def alg_ML(X_train, y_train, X_test, y_test, binary = False):\n",
        "  from sklearn.linear_model import LogisticRegression\n",
        "  from sklearn.svm import SVC\n",
        "  from sklearn.tree import DecisionTreeClassifier\n",
        "  from sklearn.ensemble import RandomForestClassifier\n",
        "\n",
        "  logreg = LogisticRegression(max_iter = 10000)\n",
        "  logreg.fit(X_train, y_train)\n",
        "  logreg_pred = logreg.predict(X_test)\n",
        "  print('Metrics for logistic regression:')\n",
        "  get_metrics(y_test, logreg_pred, binary = binary)\n",
        "\n",
        "  svm = SVC()\n",
        "  svm.fit(X_train, y_train) \n",
        "  svm_pred = svm.predict(X_test)\n",
        "  print('Metrics for Support Vector Machine:')\n",
        "  get_metrics(y_test, svm_pred, binary = binary)\n",
        "\n",
        "  dt = DecisionTreeClassifier()\n",
        "  dt.fit(X_train, y_train)\n",
        "  dt_pred = dt.predict(X_test)\n",
        "  print('Metrics for Decision Tree:')\n",
        "  get_metrics(y_test, dt_pred, binary = binary)\n",
        "\n",
        "  rf = RandomForestClassifier()\n",
        "  rf.fit(X_train, y_train)\n",
        "  rf_pred = rf.predict(X_test)\n",
        "  print('Metrics for Random Forrest: ')\n",
        "  get_metrics(y_test, rf_pred, binary = binary)"
      ],
      "execution_count": null,
      "outputs": []
    },
    {
      "cell_type": "code",
      "metadata": {
        "colab": {
          "base_uri": "https://localhost:8080/"
        },
        "id": "5FutVMeiilnT",
        "outputId": "305d469c-183c-42ae-c9d5-2f9f41688c5f"
      },
      "source": [
        "alg_ML(X_train, y_train, X_test, y_test, binary = True)"
      ],
      "execution_count": null,
      "outputs": [
        {
          "output_type": "stream",
          "text": [
            "Metrics for logistic regression:\n",
            "Metricas en el set de prueba...\n",
            "Accuracy:  0.7262540021344717\n",
            "Precision:  0.7259615384615384\n",
            "Recall:  1.0\n",
            "f1_score:  1.0\n",
            "AUC:  0.5019417475728155\n",
            "----------------------------------------------------------------------\n",
            "Metrics for Support Vector Machine:\n",
            "Metricas en el set de prueba...\n",
            "Accuracy:  0.7262540021344717\n",
            "Precision:  0.7262032085561497\n",
            "Recall:  0.9992641648270787\n",
            "f1_score:  0.9992641648270787\n",
            "AUC:  0.5025447037727627\n",
            "----------------------------------------------------------------------\n",
            "Metrics for Decision Tree:\n",
            "Metricas en el set de prueba...\n",
            "Accuracy:  0.6723585912486659\n",
            "Precision:  0.7807083647324793\n",
            "Recall:  0.7623252391464312\n",
            "f1_score:  0.7623252391464312\n",
            "AUC:  0.5986383477285555\n",
            "----------------------------------------------------------------------\n",
            "Metrics for Random Forrest: \n",
            "Metricas en el set de prueba...\n",
            "Accuracy:  0.732657417289221\n",
            "Precision:  0.7910447761194029\n",
            "Recall:  0.8579838116261957\n",
            "f1_score:  0.8579838116261957\n",
            "AUC:  0.6299627795995056\n",
            "----------------------------------------------------------------------\n"
          ],
          "name": "stdout"
        }
      ]
    },
    {
      "cell_type": "code",
      "metadata": {
        "colab": {
          "base_uri": "https://localhost:8080/"
        },
        "id": "VKI7ibPtiugk",
        "outputId": "c08a6782-abba-4131-f4e1-9a10b31a0bab"
      },
      "source": [
        "#Importamos los paquetes\n",
        "from imblearn.over_sampling import RandomOverSampler, SMOTE\n",
        "\n",
        "#Inicialización de los métodos de sobremuestreo\n",
        "#SMOTE\n",
        "smote = SMOTE(random_state = 1)\n",
        "\n",
        "#SMOTE. Genera nuevas muestras sintéticas\n",
        "dataSmote, targetSmote = smote.fit_resample(X_train ,y_train)\n",
        "Exito = targetSmote.sum()\n",
        "No_exito = targetSmote.shape[0]- Exito\n",
        "print('Exitos: ', Exito, ' , No_exitos: ', No_exito)"
      ],
      "execution_count": null,
      "outputs": [
        {
          "output_type": "stream",
          "text": [
            "Exitos:  5441  , No_exitos:  5441\n"
          ],
          "name": "stdout"
        },
        {
          "output_type": "stream",
          "text": [
            "/usr/local/lib/python3.7/dist-packages/sklearn/utils/deprecation.py:87: FutureWarning: Function safe_indexing is deprecated; safe_indexing is deprecated in version 0.22 and will be removed in version 0.24.\n",
            "  warnings.warn(msg, category=FutureWarning)\n"
          ],
          "name": "stderr"
        }
      ]
    },
    {
      "cell_type": "code",
      "metadata": {
        "colab": {
          "base_uri": "https://localhost:8080/"
        },
        "id": "3Q1fnlljkXED",
        "outputId": "1cf0a4ae-d2b4-4220-cf88-99f0f85d39da"
      },
      "source": [
        "alg_ML(dataSmote, targetSmote, X_test, y_test, binary= True)"
      ],
      "execution_count": null,
      "outputs": [
        {
          "output_type": "stream",
          "text": [
            "Metrics for logistic regression:\n",
            "Metricas en el set de prueba...\n",
            "Accuracy:  0.5843116328708644\n",
            "Precision:  0.8014553014553014\n",
            "Recall:  0.5673289183222958\n",
            "f1_score:  0.5673289183222958\n",
            "AUC:  0.5982275659572645\n",
            "----------------------------------------------------------------------\n",
            "Metrics for Support Vector Machine:\n",
            "Metricas en el set de prueba...\n",
            "Accuracy:  0.567769477054429\n",
            "Precision:  0.8376383763837638\n",
            "Recall:  0.5011037527593819\n",
            "f1_score:  0.5011037527593819\n",
            "AUC:  0.6223965365738657\n",
            "----------------------------------------------------------------------\n",
            "Metrics for Decision Tree:\n",
            "Metricas en el set de prueba...\n",
            "Accuracy:  0.6942369263607258\n",
            "Precision:  0.7977272727272727\n",
            "Recall:  0.7748344370860927\n",
            "f1_score:  0.7748344370860927\n",
            "AUC:  0.6281939175721726\n",
            "----------------------------------------------------------------------\n",
            "Metrics for Random Forrest: \n",
            "Metricas en el set de prueba...\n",
            "Accuracy:  0.7193169690501601\n",
            "Precision:  0.8152914458743377\n",
            "Recall:  0.7924944812362031\n",
            "f1_score:  0.7924944812362031\n",
            "AUC:  0.6593540367346065\n",
            "----------------------------------------------------------------------\n"
          ],
          "name": "stdout"
        }
      ]
    },
    {
      "cell_type": "markdown",
      "metadata": {
        "id": "pZS6rkjdVKKw"
      },
      "source": [
        "## Redes Neuronales"
      ]
    },
    {
      "cell_type": "code",
      "metadata": {
        "id": "QY4i1t9FVph2"
      },
      "source": [
        "import tensorflow as tf\n",
        "from tensorflow import keras\n",
        "from sklearn.metrics import roc_auc_score"
      ],
      "execution_count": null,
      "outputs": []
    },
    {
      "cell_type": "markdown",
      "metadata": {
        "id": "VITLrsTJVPso"
      },
      "source": [
        "### Normalizacion MinMax\n",
        "Normalizar las resenas a valores que van de 0 a 1."
      ]
    },
    {
      "cell_type": "code",
      "metadata": {
        "id": "A0thc4JoJedX",
        "colab": {
          "base_uri": "https://localhost:8080/"
        },
        "outputId": "3b5a0fba-6fb7-408a-88cd-d121a8beec52"
      },
      "source": [
        "max = expanded['Reviews'].max()\n",
        "min = expanded['Reviews'].min()\n",
        "resta = max - min\n",
        "\n",
        "expanded['Reviews'] = expanded['Reviews'].apply(lambda fila: (fila-min)/resta)\n",
        "#ex = expanded['Reviews'].apply(lambda fila: (fila-media)/std)\n",
        "print(expanded)"
      ],
      "execution_count": null,
      "outputs": [
        {
          "output_type": "stream",
          "text": [
            "            Reviews  Tamanio_MB  ...  Categoria_VIDEO_PLAYERS  Categoria_WEATHER\n",
            "0      2.021538e-06        19.0  ...                        0                  0\n",
            "1      1.235953e-05        14.0  ...                        0                  0\n",
            "2      1.119638e-03         8.7  ...                        0                  0\n",
            "3      2.759054e-03        25.0  ...                        0                  0\n",
            "4      1.235953e-05         2.8  ...                        0                  0\n",
            "...             ...         ...  ...                      ...                ...\n",
            "10834  7.676727e-08         2.6  ...                        0                  0\n",
            "10836  4.733982e-07        53.0  ...                        0                  0\n",
            "10837  3.838364e-08         3.6  ...                        0                  0\n",
            "10839  1.445784e-06         7.4  ...                        0                  0\n",
            "10840  5.096144e-03        19.0  ...                        0                  0\n",
            "\n",
            "[9366 rows x 40 columns]\n"
          ],
          "name": "stdout"
        }
      ]
    },
    {
      "cell_type": "markdown",
      "metadata": {
        "id": "_yVyeqiZVd8L"
      },
      "source": [
        "### Construyendo el modelo."
      ]
    },
    {
      "cell_type": "code",
      "metadata": {
        "id": "GThew58QVb9k"
      },
      "source": [
        "modelo = keras.Sequential([ #Modelo mas basico de una red neuronal.\n",
        "    keras.layers.Flatten(input_shape=(39,1)),        #Capa de entrada.\n",
        "    keras.layers.Dense(4, activation=tf.nn.sigmoid),      #Capa oculta.\n",
        "    keras.layers.Dense(1, activation=tf.nn.sigmoid)     #Capa de salida.\n",
        "])"
      ],
      "execution_count": null,
      "outputs": []
    },
    {
      "cell_type": "markdown",
      "metadata": {
        "id": "DXeU3tIjViZv"
      },
      "source": [
        "### Compilar el modelo."
      ]
    },
    {
      "cell_type": "code",
      "metadata": {
        "id": "pejLCyYEViu_"
      },
      "source": [
        "modelo.compile(optimizer='adam', \n",
        "               loss='binary_crossentropy', \n",
        "               metrics=['accuracy'])"
      ],
      "execution_count": null,
      "outputs": []
    },
    {
      "cell_type": "markdown",
      "metadata": {
        "id": "XgZ58szbV0YD"
      },
      "source": [
        "### Entrenar el modelo."
      ]
    },
    {
      "cell_type": "code",
      "metadata": {
        "colab": {
          "base_uri": "https://localhost:8080/"
        },
        "id": "DtHRuQ_iV3OR",
        "outputId": "87b1d60b-51c7-4b8a-a2a9-348df684bbbc"
      },
      "source": [
        "modelo.fit(X_train, y_train, epochs=6)"
      ],
      "execution_count": null,
      "outputs": [
        {
          "output_type": "stream",
          "text": [
            "Epoch 1/6\n",
            "235/235 [==============================] - 1s 1ms/step - loss: 0.5968 - accuracy: 0.7206\n",
            "Epoch 2/6\n",
            "235/235 [==============================] - 0s 1ms/step - loss: 0.5830 - accuracy: 0.7268\n",
            "Epoch 3/6\n",
            "235/235 [==============================] - 0s 1ms/step - loss: 0.5813 - accuracy: 0.7266\n",
            "Epoch 4/6\n",
            "235/235 [==============================] - 0s 1ms/step - loss: 0.5809 - accuracy: 0.7266\n",
            "Epoch 5/6\n",
            "235/235 [==============================] - 0s 1ms/step - loss: 0.5806 - accuracy: 0.7266\n",
            "Epoch 6/6\n",
            "235/235 [==============================] - 0s 1ms/step - loss: 0.5802 - accuracy: 0.7266\n"
          ],
          "name": "stdout"
        },
        {
          "output_type": "execute_result",
          "data": {
            "text/plain": [
              "<tensorflow.python.keras.callbacks.History at 0x7f14d3cb3210>"
            ]
          },
          "metadata": {
            "tags": []
          },
          "execution_count": 24
        }
      ]
    },
    {
      "cell_type": "markdown",
      "metadata": {
        "id": "oCg-OAnOV8-o"
      },
      "source": [
        "### Evaluar el modelo."
      ]
    },
    {
      "cell_type": "code",
      "metadata": {
        "colab": {
          "base_uri": "https://localhost:8080/"
        },
        "id": "DPRHNzPnWAAQ",
        "outputId": "01e487b0-2585-4b0c-cb53-c864a7cb6ed9"
      },
      "source": [
        "test_loss, test_acc = modelo.evaluate(X_test, y_test, verbose=1)\n",
        "print('Precision de las pruebas: ', test_acc)"
      ],
      "execution_count": null,
      "outputs": [
        {
          "output_type": "stream",
          "text": [
            "59/59 [==============================] - 0s 1ms/step - loss: 0.5791 - accuracy: 0.7263\n",
            "Precision de las pruebas:  0.7262539863586426\n"
          ],
          "name": "stdout"
        }
      ]
    },
    {
      "cell_type": "code",
      "metadata": {
        "colab": {
          "base_uri": "https://localhost:8080/"
        },
        "id": "b53UofDBoRI5",
        "outputId": "434e0c82-da0d-4a61-a9e4-e9a5e687f02b"
      },
      "source": [
        "pred = modelo.predict(X_test)\n",
        "print('AUC:', roc_auc_score(y_test, pred))"
      ],
      "execution_count": null,
      "outputs": [
        {
          "output_type": "stream",
          "text": [
            "AUC: 0.5646156154225337\n"
          ],
          "name": "stdout"
        }
      ]
    },
    {
      "cell_type": "markdown",
      "metadata": {
        "id": "-7MYMofQomjy"
      },
      "source": [
        "## Maquina de soporte de vectores.\n",
        "\n",
        "El método de sobremuestreo para la clase menos presentada en el set de prueba 'dataSmote' y 'targetSmote' mejoro levemente la métrica AUC, por lo que tomaremos este set para entrenar los modelos con SVM."
      ]
    },
    {
      "cell_type": "code",
      "metadata": {
        "id": "SuQrMNL6oYdh"
      },
      "source": [
        "from sklearn.model_selection import GridSearchCV\n",
        "from sklearn.svm import SVC"
      ],
      "execution_count": null,
      "outputs": []
    },
    {
      "cell_type": "code",
      "metadata": {
        "id": "fdTAE5w8qu0H"
      },
      "source": [
        "### Parametros del model.\n",
        "params = {'C': [0.01, 0.1, 1, 5, 15, 25, 50, 75, 100, 120, 150, 170, 200],\n",
        "          'kernel': ['linear', 'rbf']} \n",
        "svm = SVC(max_iter= 20000)        "
      ],
      "execution_count": null,
      "outputs": []
    },
    {
      "cell_type": "code",
      "metadata": {
        "id": "I4aML85_qI3B"
      },
      "source": [
        "best_svm = GridSearchCV(svm, param_grid= params, scoring= 'roc_auc', cv = 3)\n"
      ],
      "execution_count": null,
      "outputs": []
    },
    {
      "cell_type": "code",
      "metadata": {
        "id": "3prg-uk1qeHX"
      },
      "source": [
        "best_svm.fit(dataSmote, targetSmote);"
      ],
      "execution_count": null,
      "outputs": []
    },
    {
      "cell_type": "code",
      "metadata": {
        "id": "yDpRW6apsZgy"
      },
      "source": [
        "svm_results = pd.DataFrame(best_svm.cv_results_)\n",
        "svm_results[['params', 'split0_test_score', 'split1_test_score', 'split2_test_score', 'mean_test_score', 'std_test_score', 'rank_test_score']].to_csv('/content/drive/MyDrive/Dataset Proyecto/Bedu_Proyecto_Modulo_4/svm_results.csv')"
      ],
      "execution_count": null,
      "outputs": []
    },
    {
      "cell_type": "code",
      "metadata": {
        "colab": {
          "base_uri": "https://localhost:8080/",
          "height": 864
        },
        "id": "k36kEKlLnzs9",
        "outputId": "29e23eca-b5cd-47fa-edb6-bb8fb9b6f28c"
      },
      "source": [
        "svm_results[['params', 'split0_test_score', 'split1_test_score', 'split2_test_score', 'mean_test_score', 'std_test_score', 'rank_test_score']]"
      ],
      "execution_count": null,
      "outputs": [
        {
          "output_type": "execute_result",
          "data": {
            "text/html": [
              "<div>\n",
              "<style scoped>\n",
              "    .dataframe tbody tr th:only-of-type {\n",
              "        vertical-align: middle;\n",
              "    }\n",
              "\n",
              "    .dataframe tbody tr th {\n",
              "        vertical-align: top;\n",
              "    }\n",
              "\n",
              "    .dataframe thead th {\n",
              "        text-align: right;\n",
              "    }\n",
              "</style>\n",
              "<table border=\"1\" class=\"dataframe\">\n",
              "  <thead>\n",
              "    <tr style=\"text-align: right;\">\n",
              "      <th></th>\n",
              "      <th>params</th>\n",
              "      <th>split0_test_score</th>\n",
              "      <th>split1_test_score</th>\n",
              "      <th>split2_test_score</th>\n",
              "      <th>mean_test_score</th>\n",
              "      <th>std_test_score</th>\n",
              "      <th>rank_test_score</th>\n",
              "    </tr>\n",
              "  </thead>\n",
              "  <tbody>\n",
              "    <tr>\n",
              "      <th>0</th>\n",
              "      <td>{'C': 0.01, 'kernel': 'linear'}</td>\n",
              "      <td>0.612487</td>\n",
              "      <td>0.637065</td>\n",
              "      <td>0.634075</td>\n",
              "      <td>0.627876</td>\n",
              "      <td>0.010949</td>\n",
              "      <td>18</td>\n",
              "    </tr>\n",
              "    <tr>\n",
              "      <th>1</th>\n",
              "      <td>{'C': 0.01, 'kernel': 'rbf'}</td>\n",
              "      <td>0.600270</td>\n",
              "      <td>0.626778</td>\n",
              "      <td>0.620930</td>\n",
              "      <td>0.615993</td>\n",
              "      <td>0.011371</td>\n",
              "      <td>20</td>\n",
              "    </tr>\n",
              "    <tr>\n",
              "      <th>2</th>\n",
              "      <td>{'C': 0.1, 'kernel': 'linear'}</td>\n",
              "      <td>0.636906</td>\n",
              "      <td>0.652906</td>\n",
              "      <td>0.660073</td>\n",
              "      <td>0.649962</td>\n",
              "      <td>0.009684</td>\n",
              "      <td>17</td>\n",
              "    </tr>\n",
              "    <tr>\n",
              "      <th>3</th>\n",
              "      <td>{'C': 0.1, 'kernel': 'rbf'}</td>\n",
              "      <td>0.641754</td>\n",
              "      <td>0.669762</td>\n",
              "      <td>0.666733</td>\n",
              "      <td>0.659416</td>\n",
              "      <td>0.012550</td>\n",
              "      <td>13</td>\n",
              "    </tr>\n",
              "    <tr>\n",
              "      <th>4</th>\n",
              "      <td>{'C': 1, 'kernel': 'linear'}</td>\n",
              "      <td>0.653533</td>\n",
              "      <td>0.661885</td>\n",
              "      <td>0.667781</td>\n",
              "      <td>0.661066</td>\n",
              "      <td>0.005845</td>\n",
              "      <td>12</td>\n",
              "    </tr>\n",
              "    <tr>\n",
              "      <th>5</th>\n",
              "      <td>{'C': 1, 'kernel': 'rbf'}</td>\n",
              "      <td>0.669816</td>\n",
              "      <td>0.696608</td>\n",
              "      <td>0.700007</td>\n",
              "      <td>0.688810</td>\n",
              "      <td>0.013503</td>\n",
              "      <td>11</td>\n",
              "    </tr>\n",
              "    <tr>\n",
              "      <th>6</th>\n",
              "      <td>{'C': 5, 'kernel': 'linear'}</td>\n",
              "      <td>0.655866</td>\n",
              "      <td>0.659004</td>\n",
              "      <td>0.661579</td>\n",
              "      <td>0.658817</td>\n",
              "      <td>0.002336</td>\n",
              "      <td>14</td>\n",
              "    </tr>\n",
              "    <tr>\n",
              "      <th>7</th>\n",
              "      <td>{'C': 5, 'kernel': 'rbf'}</td>\n",
              "      <td>0.687784</td>\n",
              "      <td>0.704136</td>\n",
              "      <td>0.713753</td>\n",
              "      <td>0.701891</td>\n",
              "      <td>0.010720</td>\n",
              "      <td>10</td>\n",
              "    </tr>\n",
              "    <tr>\n",
              "      <th>8</th>\n",
              "      <td>{'C': 15, 'kernel': 'linear'}</td>\n",
              "      <td>0.650857</td>\n",
              "      <td>0.643755</td>\n",
              "      <td>0.671427</td>\n",
              "      <td>0.655346</td>\n",
              "      <td>0.011735</td>\n",
              "      <td>15</td>\n",
              "    </tr>\n",
              "    <tr>\n",
              "      <th>9</th>\n",
              "      <td>{'C': 15, 'kernel': 'rbf'}</td>\n",
              "      <td>0.700680</td>\n",
              "      <td>0.709599</td>\n",
              "      <td>0.722815</td>\n",
              "      <td>0.711032</td>\n",
              "      <td>0.009093</td>\n",
              "      <td>9</td>\n",
              "    </tr>\n",
              "    <tr>\n",
              "      <th>10</th>\n",
              "      <td>{'C': 25, 'kernel': 'linear'}</td>\n",
              "      <td>0.642683</td>\n",
              "      <td>0.654994</td>\n",
              "      <td>0.654875</td>\n",
              "      <td>0.650851</td>\n",
              "      <td>0.005776</td>\n",
              "      <td>16</td>\n",
              "    </tr>\n",
              "    <tr>\n",
              "      <th>11</th>\n",
              "      <td>{'C': 25, 'kernel': 'rbf'}</td>\n",
              "      <td>0.705911</td>\n",
              "      <td>0.716932</td>\n",
              "      <td>0.723207</td>\n",
              "      <td>0.715350</td>\n",
              "      <td>0.007149</td>\n",
              "      <td>8</td>\n",
              "    </tr>\n",
              "    <tr>\n",
              "      <th>12</th>\n",
              "      <td>{'C': 50, 'kernel': 'linear'}</td>\n",
              "      <td>0.569744</td>\n",
              "      <td>0.645317</td>\n",
              "      <td>0.654298</td>\n",
              "      <td>0.623120</td>\n",
              "      <td>0.037920</td>\n",
              "      <td>19</td>\n",
              "    </tr>\n",
              "    <tr>\n",
              "      <th>13</th>\n",
              "      <td>{'C': 50, 'kernel': 'rbf'}</td>\n",
              "      <td>0.708698</td>\n",
              "      <td>0.725318</td>\n",
              "      <td>0.731297</td>\n",
              "      <td>0.721771</td>\n",
              "      <td>0.009561</td>\n",
              "      <td>7</td>\n",
              "    </tr>\n",
              "    <tr>\n",
              "      <th>14</th>\n",
              "      <td>{'C': 75, 'kernel': 'linear'}</td>\n",
              "      <td>0.599345</td>\n",
              "      <td>0.413392</td>\n",
              "      <td>0.588220</td>\n",
              "      <td>0.533653</td>\n",
              "      <td>0.085158</td>\n",
              "      <td>22</td>\n",
              "    </tr>\n",
              "    <tr>\n",
              "      <th>15</th>\n",
              "      <td>{'C': 75, 'kernel': 'rbf'}</td>\n",
              "      <td>0.712494</td>\n",
              "      <td>0.729085</td>\n",
              "      <td>0.734065</td>\n",
              "      <td>0.725215</td>\n",
              "      <td>0.009222</td>\n",
              "      <td>6</td>\n",
              "    </tr>\n",
              "    <tr>\n",
              "      <th>16</th>\n",
              "      <td>{'C': 100, 'kernel': 'linear'}</td>\n",
              "      <td>0.478237</td>\n",
              "      <td>0.559269</td>\n",
              "      <td>0.537152</td>\n",
              "      <td>0.524886</td>\n",
              "      <td>0.034199</td>\n",
              "      <td>24</td>\n",
              "    </tr>\n",
              "    <tr>\n",
              "      <th>17</th>\n",
              "      <td>{'C': 100, 'kernel': 'rbf'}</td>\n",
              "      <td>0.711952</td>\n",
              "      <td>0.731389</td>\n",
              "      <td>0.746637</td>\n",
              "      <td>0.729993</td>\n",
              "      <td>0.014194</td>\n",
              "      <td>3</td>\n",
              "    </tr>\n",
              "    <tr>\n",
              "      <th>18</th>\n",
              "      <td>{'C': 120, 'kernel': 'linear'}</td>\n",
              "      <td>0.588415</td>\n",
              "      <td>0.450609</td>\n",
              "      <td>0.564914</td>\n",
              "      <td>0.534646</td>\n",
              "      <td>0.060193</td>\n",
              "      <td>21</td>\n",
              "    </tr>\n",
              "    <tr>\n",
              "      <th>19</th>\n",
              "      <td>{'C': 120, 'kernel': 'rbf'}</td>\n",
              "      <td>0.710141</td>\n",
              "      <td>0.734081</td>\n",
              "      <td>0.743406</td>\n",
              "      <td>0.729210</td>\n",
              "      <td>0.014010</td>\n",
              "      <td>4</td>\n",
              "    </tr>\n",
              "    <tr>\n",
              "      <th>20</th>\n",
              "      <td>{'C': 150, 'kernel': 'linear'}</td>\n",
              "      <td>0.512663</td>\n",
              "      <td>0.501555</td>\n",
              "      <td>0.501387</td>\n",
              "      <td>0.505202</td>\n",
              "      <td>0.005276</td>\n",
              "      <td>25</td>\n",
              "    </tr>\n",
              "    <tr>\n",
              "      <th>21</th>\n",
              "      <td>{'C': 150, 'kernel': 'rbf'}</td>\n",
              "      <td>0.713783</td>\n",
              "      <td>0.738206</td>\n",
              "      <td>0.739699</td>\n",
              "      <td>0.730563</td>\n",
              "      <td>0.011881</td>\n",
              "      <td>2</td>\n",
              "    </tr>\n",
              "    <tr>\n",
              "      <th>22</th>\n",
              "      <td>{'C': 170, 'kernel': 'linear'}</td>\n",
              "      <td>0.536891</td>\n",
              "      <td>0.433098</td>\n",
              "      <td>0.471370</td>\n",
              "      <td>0.480453</td>\n",
              "      <td>0.042857</td>\n",
              "      <td>26</td>\n",
              "    </tr>\n",
              "    <tr>\n",
              "      <th>23</th>\n",
              "      <td>{'C': 170, 'kernel': 'rbf'}</td>\n",
              "      <td>0.714729</td>\n",
              "      <td>0.731583</td>\n",
              "      <td>0.741120</td>\n",
              "      <td>0.729144</td>\n",
              "      <td>0.010911</td>\n",
              "      <td>5</td>\n",
              "    </tr>\n",
              "    <tr>\n",
              "      <th>24</th>\n",
              "      <td>{'C': 200, 'kernel': 'linear'}</td>\n",
              "      <td>0.466092</td>\n",
              "      <td>0.485169</td>\n",
              "      <td>0.626331</td>\n",
              "      <td>0.525864</td>\n",
              "      <td>0.071466</td>\n",
              "      <td>23</td>\n",
              "    </tr>\n",
              "    <tr>\n",
              "      <th>25</th>\n",
              "      <td>{'C': 200, 'kernel': 'rbf'}</td>\n",
              "      <td>0.714461</td>\n",
              "      <td>0.741000</td>\n",
              "      <td>0.744058</td>\n",
              "      <td>0.733173</td>\n",
              "      <td>0.013291</td>\n",
              "      <td>1</td>\n",
              "    </tr>\n",
              "  </tbody>\n",
              "</table>\n",
              "</div>"
            ],
            "text/plain": [
              "                             params  ...  rank_test_score\n",
              "0   {'C': 0.01, 'kernel': 'linear'}  ...               18\n",
              "1      {'C': 0.01, 'kernel': 'rbf'}  ...               20\n",
              "2    {'C': 0.1, 'kernel': 'linear'}  ...               17\n",
              "3       {'C': 0.1, 'kernel': 'rbf'}  ...               13\n",
              "4      {'C': 1, 'kernel': 'linear'}  ...               12\n",
              "5         {'C': 1, 'kernel': 'rbf'}  ...               11\n",
              "6      {'C': 5, 'kernel': 'linear'}  ...               14\n",
              "7         {'C': 5, 'kernel': 'rbf'}  ...               10\n",
              "8     {'C': 15, 'kernel': 'linear'}  ...               15\n",
              "9        {'C': 15, 'kernel': 'rbf'}  ...                9\n",
              "10    {'C': 25, 'kernel': 'linear'}  ...               16\n",
              "11       {'C': 25, 'kernel': 'rbf'}  ...                8\n",
              "12    {'C': 50, 'kernel': 'linear'}  ...               19\n",
              "13       {'C': 50, 'kernel': 'rbf'}  ...                7\n",
              "14    {'C': 75, 'kernel': 'linear'}  ...               22\n",
              "15       {'C': 75, 'kernel': 'rbf'}  ...                6\n",
              "16   {'C': 100, 'kernel': 'linear'}  ...               24\n",
              "17      {'C': 100, 'kernel': 'rbf'}  ...                3\n",
              "18   {'C': 120, 'kernel': 'linear'}  ...               21\n",
              "19      {'C': 120, 'kernel': 'rbf'}  ...                4\n",
              "20   {'C': 150, 'kernel': 'linear'}  ...               25\n",
              "21      {'C': 150, 'kernel': 'rbf'}  ...                2\n",
              "22   {'C': 170, 'kernel': 'linear'}  ...               26\n",
              "23      {'C': 170, 'kernel': 'rbf'}  ...                5\n",
              "24   {'C': 200, 'kernel': 'linear'}  ...               23\n",
              "25      {'C': 200, 'kernel': 'rbf'}  ...                1\n",
              "\n",
              "[26 rows x 7 columns]"
            ]
          },
          "metadata": {
            "tags": []
          },
          "execution_count": 82
        }
      ]
    },
    {
      "cell_type": "code",
      "metadata": {
        "colab": {
          "base_uri": "https://localhost:8080/"
        },
        "id": "P3w9nUHHn2r0",
        "outputId": "d13a1b1f-87c4-40d2-fb7f-4c280573ee89"
      },
      "source": [
        "pred = best_svm.predict(X_test)\n",
        "roc_auc_score(y_test, pred)"
      ],
      "execution_count": null,
      "outputs": [
        {
          "output_type": "execute_result",
          "data": {
            "text/plain": [
              "0.6530865785093265"
            ]
          },
          "metadata": {
            "tags": []
          },
          "execution_count": 83
        }
      ]
    },
    {
      "cell_type": "code",
      "metadata": {
        "id": "cQn0tdGtoaSL"
      },
      "source": [
        ""
      ],
      "execution_count": null,
      "outputs": []
    }
  ]
}