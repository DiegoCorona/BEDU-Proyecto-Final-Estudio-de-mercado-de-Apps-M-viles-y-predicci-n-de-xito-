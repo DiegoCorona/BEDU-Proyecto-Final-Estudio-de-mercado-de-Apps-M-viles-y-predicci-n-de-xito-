{
  "nbformat": 4,
  "nbformat_minor": 0,
  "metadata": {
    "colab": {
      "name": "Estudio de mercado de Apps Móviles y predicción de exito.ipynb",
      "provenance": [],
      "collapsed_sections": [],
      "include_colab_link": true
    },
    "kernelspec": {
      "name": "python3",
      "display_name": "Python 3"
    },
    "language_info": {
      "name": "python"
    }
  },
  "cells": [
    {
      "cell_type": "markdown",
      "metadata": {
        "id": "view-in-github",
        "colab_type": "text"
      },
      "source": [
        "<a href=\"https://colab.research.google.com/github/DiegoCorona/BEDU-Proyecto-Final-Estudio-de-mercado-de-Apps-M-viles-y-predicci-n-de-xito-/blob/main/Estudio_de_mercado_de_Apps_M%C3%B3viles_y_predicci%C3%B3n_de_exito.ipynb\" target=\"_parent\"><img src=\"https://colab.research.google.com/assets/colab-badge.svg\" alt=\"Open In Colab\"/></a>"
      ]
    },
    {
      "cell_type": "code",
      "metadata": {
        "id": "8o3WctZ_dsc4",
        "colab": {
          "base_uri": "https://localhost:8080/"
        },
        "outputId": "601968a4-1930-4eed-cda2-72c7e2c1b83a"
      },
      "source": [
        "from google.colab import drive\n",
        "drive.mount('/content/drive')"
      ],
      "execution_count": 1,
      "outputs": [
        {
          "output_type": "stream",
          "text": [
            "Mounted at /content/drive\n"
          ],
          "name": "stdout"
        }
      ]
    },
    {
      "cell_type": "markdown",
      "metadata": {
        "id": "_Qk4P2RKXc4o"
      },
      "source": [
        "## Funciones indispensables."
      ]
    },
    {
      "cell_type": "code",
      "metadata": {
        "id": "-rq192Izhy1s"
      },
      "source": [
        "def get_metrics(y_test, predictions, binary = False):\n",
        "  '''\n",
        "    Esta función retorna Accuracy, Precision, Recall y F1_score.\n",
        "    binary: (default: False) Booleano que indica si la clasificación es multiclase o no\n",
        "  '''\n",
        "  from sklearn.metrics import accuracy_score, precision_score, recall_score, f1_score, roc_auc_score\n",
        "\n",
        "  if binary == False:\n",
        "    option = 'macro'\n",
        "    auc = None\n",
        "  if binary == True:\n",
        "    option = 'binary'\n",
        "    auc = roc_auc_score(y_test, predictions)\n",
        "  \n",
        "  acc = accuracy_score(y_test, predictions)\n",
        "  precision = precision_score(y_test, predictions, average= option)\n",
        "  recall = recall_score(y_test, predictions, average= option)\n",
        "  f1 = f1_score(y_test, predictions, average= option)\n",
        "  print('Metricas en el set de prueba...')\n",
        "  print('Accuracy: ', acc)\n",
        "  print('Precision: ', precision)\n",
        "  print('Recall: ', recall)\n",
        "  print('f1_score: ', recall)\n",
        "  print('AUC: ', auc)\n",
        "  print('-'*70)\n",
        "  \n",
        "\n",
        "def alg_ML(X_train, y_train, X_test, y_test, binary = False):\n",
        "  from sklearn.linear_model import LogisticRegression\n",
        "  from sklearn.svm import SVC\n",
        "  from sklearn.tree import DecisionTreeClassifier\n",
        "  from sklearn.ensemble import RandomForestClassifier\n",
        "\n",
        "  logreg = LogisticRegression(max_iter = 10000)\n",
        "  logreg.fit(X_train, y_train)\n",
        "  logreg_pred = logreg.predict(X_test)\n",
        "  print('Metrics for logistic regression:')\n",
        "  get_metrics(y_test, logreg_pred, binary = binary)\n",
        "\n",
        "  svm = SVC()\n",
        "  svm.fit(X_train, y_train) \n",
        "  svm_pred = svm.predict(X_test)\n",
        "  print('Metrics for Support Vector Machine:')\n",
        "  get_metrics(y_test, svm_pred, binary = binary)\n",
        "\n",
        "  dt = DecisionTreeClassifier()\n",
        "  dt.fit(X_train, y_train)\n",
        "  dt_pred = dt.predict(X_test)\n",
        "  print('Metrics for Decision Tree:')\n",
        "  get_metrics(y_test, dt_pred, binary = binary)\n",
        "\n",
        "  rf = RandomForestClassifier()\n",
        "  rf.fit(X_train, y_train)\n",
        "  rf_pred = rf.predict(X_test)\n",
        "  print('Metrics for Random Forrest: ')\n",
        "  get_metrics(y_test, rf_pred, binary = binary)"
      ],
      "execution_count": 2,
      "outputs": []
    },
    {
      "cell_type": "markdown",
      "metadata": {
        "id": "4U5pfPSZX8Mx"
      },
      "source": [
        "## Checando los modelos con los parámetros por default."
      ]
    },
    {
      "cell_type": "code",
      "metadata": {
        "colab": {
          "base_uri": "https://localhost:8080/"
        },
        "id": "2O21RLYcX7YW",
        "outputId": "1acfe21b-f776-4766-8c41-eb6e3f084606"
      },
      "source": [
        "import pandas as pd\n",
        "import numpy as np\n",
        "\n",
        "data = pd.read_csv('/content/drive/MyDrive/Dataset Proyecto/Bedu_Proyecto_Modulo_4/Dataset_limpio.csv', index_col=0)\n",
        "\n",
        "expanded = pd.get_dummies(data = data, columns = ['Categoria'])\n",
        "expanded = expanded.drop(columns = ['App', 'Rating_del_contenido', 'Ultimo_updated', 'Anio_ultimo_updated','Version_actual', 'Version_Android', 'Rating'])\n",
        "\n",
        "X = expanded.drop(columns= ['Exito_app'])\n",
        "y = expanded['Exito_app']\n",
        "\n",
        "X_norm = X.copy()\n",
        "X_norm['Reviews'] = (X['Reviews'] - X['Reviews'].mean())/X['Reviews'].std()\n",
        "X_norm['Instalaciones_minimas_estimadas'] = (X['Instalaciones_minimas_estimadas'] - X['Instalaciones_minimas_estimadas'].mean())/X['Instalaciones_minimas_estimadas'].std()\n",
        "X_norm['Tamanio_MB'] = (X['Tamanio_MB'] - X['Tamanio_MB'].mean())/X['Tamanio_MB'].std()\n",
        "X_norm['Precio'] = (X['Precio'])/(X['Precio'].max()-X['Precio'].min())\n",
        "\n",
        "from sklearn.model_selection import train_test_split\n",
        "\n",
        "X_train, X_test, y_train, y_test = train_test_split(X_norm, y, \n",
        "                                                    test_size = 0.2, \n",
        "                                                    random_state = 23)\n",
        "\n",
        "print('-'*38)\n",
        "print('|||    Modelos sin sobremuestreo   |||')\n",
        "print('-'*38)\n",
        "alg_ML(X_train, y_train, X_test, y_test, binary = True)\n",
        "\n",
        "#Importamos los paquetes\n",
        "from imblearn.over_sampling import RandomOverSampler, SMOTE\n",
        "#Inicialización de los métodos de sobremuestreo\n",
        "#SMOTE\n",
        "smote = SMOTE(random_state = 1)\n",
        "\n",
        "#SMOTE. Genera nuevas muestras sintéticas\n",
        "dataSmote, targetSmote = smote.fit_resample(X_train ,y_train)\n",
        "\n",
        "print('-'*38)\n",
        "print('|||    Modelos con sobremuestreo   |||')\n",
        "print('-'*38)\n",
        "alg_ML(dataSmote, targetSmote, X_test, y_test, binary= True)"
      ],
      "execution_count": 8,
      "outputs": [
        {
          "output_type": "stream",
          "text": [
            "--------------------------------------\n",
            "|||    Modelos sin sobremuestreo   |||\n",
            "--------------------------------------\n",
            "Metrics for logistic regression:\n",
            "Metricas en el set de prueba...\n",
            "Accuracy:  0.7262540021344717\n",
            "Precision:  0.7259615384615384\n",
            "Recall:  1.0\n",
            "f1_score:  1.0\n",
            "AUC:  0.5019417475728155\n",
            "----------------------------------------------------------------------\n",
            "Metrics for Support Vector Machine:\n",
            "Metricas en el set de prueba...\n",
            "Accuracy:  0.7262540021344717\n",
            "Precision:  0.7262032085561497\n",
            "Recall:  0.9992641648270787\n",
            "f1_score:  0.9992641648270787\n",
            "AUC:  0.5025447037727627\n",
            "----------------------------------------------------------------------\n",
            "Metrics for Decision Tree:\n",
            "Metricas en el set de prueba...\n",
            "Accuracy:  0.6782283884738527\n",
            "Precision:  0.7859304084720121\n",
            "Recall:  0.7645327446651949\n",
            "f1_score:  0.7645327446651949\n",
            "AUC:  0.6075090907791993\n",
            "----------------------------------------------------------------------\n",
            "Metrics for Random Forrest: \n",
            "Metricas en el set de prueba...\n",
            "Accuracy:  0.7374599786552828\n",
            "Precision:  0.7942973523421588\n",
            "Recall:  0.8609271523178808\n",
            "f1_score:  0.8609271523178808\n",
            "AUC:  0.636288818877387\n",
            "----------------------------------------------------------------------\n",
            "--------------------------------------\n",
            "|||    Modelos con sobremuestreo   |||\n",
            "--------------------------------------\n"
          ],
          "name": "stdout"
        },
        {
          "output_type": "stream",
          "text": [
            "/usr/local/lib/python3.7/dist-packages/sklearn/utils/deprecation.py:87: FutureWarning: Function safe_indexing is deprecated; safe_indexing is deprecated in version 0.22 and will be removed in version 0.24.\n",
            "  warnings.warn(msg, category=FutureWarning)\n"
          ],
          "name": "stderr"
        },
        {
          "output_type": "stream",
          "text": [
            "Metrics for logistic regression:\n",
            "Metricas en el set de prueba...\n",
            "Accuracy:  0.5843116328708644\n",
            "Precision:  0.8014553014553014\n",
            "Recall:  0.5673289183222958\n",
            "f1_score:  0.5673289183222958\n",
            "AUC:  0.5982275659572645\n",
            "----------------------------------------------------------------------\n",
            "Metrics for Support Vector Machine:\n",
            "Metricas en el set de prueba...\n",
            "Accuracy:  0.567769477054429\n",
            "Precision:  0.8376383763837638\n",
            "Recall:  0.5011037527593819\n",
            "f1_score:  0.5011037527593819\n",
            "AUC:  0.6223965365738657\n",
            "----------------------------------------------------------------------\n",
            "Metrics for Decision Tree:\n",
            "Metricas en el set de prueba...\n",
            "Accuracy:  0.692102454642476\n",
            "Precision:  0.7975646879756468\n",
            "Recall:  0.7711552612214864\n",
            "f1_score:  0.7711552612214864\n",
            "AUC:  0.6273252034262772\n",
            "----------------------------------------------------------------------\n",
            "Metrics for Random Forrest: \n",
            "Metricas en el set de prueba...\n",
            "Accuracy:  0.7182497331910352\n",
            "Precision:  0.816933638443936\n",
            "Recall:  0.7880794701986755\n",
            "f1_score:  0.7880794701986755\n",
            "AUC:  0.6610300263614737\n",
            "----------------------------------------------------------------------\n"
          ],
          "name": "stdout"
        }
      ]
    },
    {
      "cell_type": "markdown",
      "metadata": {
        "id": "pZS6rkjdVKKw"
      },
      "source": [
        "## Redes Neuronales"
      ]
    },
    {
      "cell_type": "code",
      "metadata": {
        "id": "QY4i1t9FVph2"
      },
      "source": [
        "import tensorflow as tf\n",
        "from tensorflow import keras\n",
        "from sklearn.metrics import roc_auc_score"
      ],
      "execution_count": null,
      "outputs": []
    },
    {
      "cell_type": "markdown",
      "metadata": {
        "id": "VITLrsTJVPso"
      },
      "source": [
        "### Normalizacion MinMax\n",
        "Normalizar las resenas a valores que van de 0 a 1."
      ]
    },
    {
      "cell_type": "code",
      "metadata": {
        "id": "A0thc4JoJedX",
        "colab": {
          "base_uri": "https://localhost:8080/"
        },
        "outputId": "3b5a0fba-6fb7-408a-88cd-d121a8beec52"
      },
      "source": [
        "max = expanded['Reviews'].max()\n",
        "min = expanded['Reviews'].min()\n",
        "resta = max - min\n",
        "\n",
        "expanded['Reviews'] = expanded['Reviews'].apply(lambda fila: (fila-min)/resta)\n",
        "#ex = expanded['Reviews'].apply(lambda fila: (fila-media)/std)\n",
        "print(expanded)"
      ],
      "execution_count": null,
      "outputs": [
        {
          "output_type": "stream",
          "text": [
            "            Reviews  Tamanio_MB  ...  Categoria_VIDEO_PLAYERS  Categoria_WEATHER\n",
            "0      2.021538e-06        19.0  ...                        0                  0\n",
            "1      1.235953e-05        14.0  ...                        0                  0\n",
            "2      1.119638e-03         8.7  ...                        0                  0\n",
            "3      2.759054e-03        25.0  ...                        0                  0\n",
            "4      1.235953e-05         2.8  ...                        0                  0\n",
            "...             ...         ...  ...                      ...                ...\n",
            "10834  7.676727e-08         2.6  ...                        0                  0\n",
            "10836  4.733982e-07        53.0  ...                        0                  0\n",
            "10837  3.838364e-08         3.6  ...                        0                  0\n",
            "10839  1.445784e-06         7.4  ...                        0                  0\n",
            "10840  5.096144e-03        19.0  ...                        0                  0\n",
            "\n",
            "[9366 rows x 40 columns]\n"
          ],
          "name": "stdout"
        }
      ]
    },
    {
      "cell_type": "markdown",
      "metadata": {
        "id": "_yVyeqiZVd8L"
      },
      "source": [
        "### Construyendo el modelo."
      ]
    },
    {
      "cell_type": "code",
      "metadata": {
        "id": "GThew58QVb9k"
      },
      "source": [
        "modelo = keras.Sequential([ #Modelo mas basico de una red neuronal.\n",
        "    keras.layers.Flatten(input_shape=(39,1)),        #Capa de entrada.\n",
        "    keras.layers.Dense(4, activation=tf.nn.sigmoid),      #Capa oculta.\n",
        "    keras.layers.Dense(1, activation=tf.nn.sigmoid)     #Capa de salida.\n",
        "])"
      ],
      "execution_count": null,
      "outputs": []
    },
    {
      "cell_type": "markdown",
      "metadata": {
        "id": "DXeU3tIjViZv"
      },
      "source": [
        "### Compilar el modelo."
      ]
    },
    {
      "cell_type": "code",
      "metadata": {
        "id": "pejLCyYEViu_"
      },
      "source": [
        "modelo.compile(optimizer='adam', \n",
        "               loss='binary_crossentropy', \n",
        "               metrics=['accuracy'])"
      ],
      "execution_count": null,
      "outputs": []
    },
    {
      "cell_type": "markdown",
      "metadata": {
        "id": "XgZ58szbV0YD"
      },
      "source": [
        "### Entrenar el modelo."
      ]
    },
    {
      "cell_type": "code",
      "metadata": {
        "colab": {
          "base_uri": "https://localhost:8080/"
        },
        "id": "DtHRuQ_iV3OR",
        "outputId": "87b1d60b-51c7-4b8a-a2a9-348df684bbbc"
      },
      "source": [
        "modelo.fit(X_train, y_train, epochs=6)"
      ],
      "execution_count": null,
      "outputs": [
        {
          "output_type": "stream",
          "text": [
            "Epoch 1/6\n",
            "235/235 [==============================] - 1s 1ms/step - loss: 0.5968 - accuracy: 0.7206\n",
            "Epoch 2/6\n",
            "235/235 [==============================] - 0s 1ms/step - loss: 0.5830 - accuracy: 0.7268\n",
            "Epoch 3/6\n",
            "235/235 [==============================] - 0s 1ms/step - loss: 0.5813 - accuracy: 0.7266\n",
            "Epoch 4/6\n",
            "235/235 [==============================] - 0s 1ms/step - loss: 0.5809 - accuracy: 0.7266\n",
            "Epoch 5/6\n",
            "235/235 [==============================] - 0s 1ms/step - loss: 0.5806 - accuracy: 0.7266\n",
            "Epoch 6/6\n",
            "235/235 [==============================] - 0s 1ms/step - loss: 0.5802 - accuracy: 0.7266\n"
          ],
          "name": "stdout"
        },
        {
          "output_type": "execute_result",
          "data": {
            "text/plain": [
              "<tensorflow.python.keras.callbacks.History at 0x7f14d3cb3210>"
            ]
          },
          "metadata": {
            "tags": []
          },
          "execution_count": 24
        }
      ]
    },
    {
      "cell_type": "markdown",
      "metadata": {
        "id": "oCg-OAnOV8-o"
      },
      "source": [
        "### Evaluar el modelo."
      ]
    },
    {
      "cell_type": "code",
      "metadata": {
        "colab": {
          "base_uri": "https://localhost:8080/"
        },
        "id": "DPRHNzPnWAAQ",
        "outputId": "01e487b0-2585-4b0c-cb53-c864a7cb6ed9"
      },
      "source": [
        "test_loss, test_acc = modelo.evaluate(X_test, y_test, verbose=1)\n",
        "print('Precision de las pruebas: ', test_acc)"
      ],
      "execution_count": null,
      "outputs": [
        {
          "output_type": "stream",
          "text": [
            "59/59 [==============================] - 0s 1ms/step - loss: 0.5791 - accuracy: 0.7263\n",
            "Precision de las pruebas:  0.7262539863586426\n"
          ],
          "name": "stdout"
        }
      ]
    },
    {
      "cell_type": "code",
      "metadata": {
        "colab": {
          "base_uri": "https://localhost:8080/"
        },
        "id": "b53UofDBoRI5",
        "outputId": "434e0c82-da0d-4a61-a9e4-e9a5e687f02b"
      },
      "source": [
        "pred = modelo.predict(X_test)\n",
        "print('AUC:', roc_auc_score(y_test, pred))"
      ],
      "execution_count": null,
      "outputs": [
        {
          "output_type": "stream",
          "text": [
            "AUC: 0.5646156154225337\n"
          ],
          "name": "stdout"
        }
      ]
    },
    {
      "cell_type": "markdown",
      "metadata": {
        "id": "-7MYMofQomjy"
      },
      "source": [
        "## Maquina de soporte de vectores.\n",
        "\n",
        "El método de sobremuestreo para la clase menos presentada en el set de prueba 'dataSmote' y 'targetSmote' mejoro levemente la métrica AUC, por lo que tomaremos este set para entrenar los modelos con SVM."
      ]
    },
    {
      "cell_type": "markdown",
      "metadata": {
        "id": "ZPkw10EhgRM1"
      },
      "source": [
        "### Utilizando MinMaxScaler"
      ]
    },
    {
      "cell_type": "code",
      "metadata": {
        "colab": {
          "base_uri": "https://localhost:8080/"
        },
        "id": "zdDsAhOUaGqV",
        "outputId": "5c4e560a-6621-4832-fe36-faefbff7e68c"
      },
      "source": [
        "import pandas as pd\n",
        "import numpy as np\n",
        "from sklearn.preprocessing import MinMaxScaler\n",
        "from sklearn.model_selection import train_test_split\n",
        "from imblearn.over_sampling import RandomOverSampler, SMOTE\n",
        "from sklearn.metrics import roc_auc_score\n",
        "\n",
        "data = pd.read_csv('/content/drive/MyDrive/Dataset Proyecto/Bedu_Proyecto_Modulo_4/Dataset_limpio.csv', index_col=0)\n",
        "\n",
        "expanded = pd.get_dummies(data = data, columns = ['Categoria'])\n",
        "expanded = expanded.drop(columns = ['App', 'Rating_del_contenido', 'Ultimo_updated', 'Anio_ultimo_updated','Version_actual', 'Version_Android', 'Rating'])\n",
        "\n",
        "X = expanded.drop(columns= ['Exito_app'])\n",
        "y = expanded['Exito_app']\n",
        "\n",
        "#### MinMax Scaler\n",
        "scaler = MinMaxScaler()\n",
        "X_norm = scaler.fit_transform(X)\n",
        "\n",
        "X_train, X_test, y_train, y_test = train_test_split(X_norm, y, test_size = 0.2, random_state = 23)\n",
        "\n",
        "smote = SMOTE(random_state = 1)\n",
        "dataSmote, targetSmote = smote.fit_resample(X_train ,y_train)"
      ],
      "execution_count": 22,
      "outputs": [
        {
          "output_type": "stream",
          "text": [
            "/usr/local/lib/python3.7/dist-packages/sklearn/utils/deprecation.py:87: FutureWarning: Function safe_indexing is deprecated; safe_indexing is deprecated in version 0.22 and will be removed in version 0.24.\n",
            "  warnings.warn(msg, category=FutureWarning)\n"
          ],
          "name": "stderr"
        }
      ]
    },
    {
      "cell_type": "code",
      "metadata": {
        "id": "fdTAE5w8qu0H"
      },
      "source": [
        "from sklearn.model_selection import GridSearchCV\n",
        "from sklearn.svm import SVC\n",
        "\n",
        "### Parametros del modelo.\n",
        "params = {'C': [0.01, 0.1, 1, 5, 15, 25, 50, 75, 100, 120, 150, 170, 200],\n",
        "          'kernel': ['linear', 'rbf']} \n",
        "svm = SVC(max_iter= 20000)      \n",
        "best_svm = GridSearchCV(svm, param_grid= params, scoring= 'roc_auc', cv = 3)  \n",
        "best_svm.fit(dataSmote, targetSmote);"
      ],
      "execution_count": 13,
      "outputs": []
    },
    {
      "cell_type": "code",
      "metadata": {
        "colab": {
          "base_uri": "https://localhost:8080/",
          "height": 864
        },
        "id": "8aD2zEWNbZIQ",
        "outputId": "1f1c1cc1-1719-4eea-efb2-b47c78262ffe"
      },
      "source": [
        "svm_results = pd.DataFrame(best_svm.cv_results_)\n",
        "svm_results[['params', 'split0_test_score', 'split1_test_score', 'split2_test_score', 'mean_test_score', 'std_test_score', 'rank_test_score']].to_csv('/content/drive/MyDrive/Dataset Proyecto/Bedu_Proyecto_Modulo_4/svm_results_MinMaxScaler.csv')\n",
        "svm_results[['params', 'split0_test_score', 'split1_test_score', 'split2_test_score', 'mean_test_score', 'std_test_score', 'rank_test_score']]"
      ],
      "execution_count": 21,
      "outputs": [
        {
          "output_type": "execute_result",
          "data": {
            "text/html": [
              "<div>\n",
              "<style scoped>\n",
              "    .dataframe tbody tr th:only-of-type {\n",
              "        vertical-align: middle;\n",
              "    }\n",
              "\n",
              "    .dataframe tbody tr th {\n",
              "        vertical-align: top;\n",
              "    }\n",
              "\n",
              "    .dataframe thead th {\n",
              "        text-align: right;\n",
              "    }\n",
              "</style>\n",
              "<table border=\"1\" class=\"dataframe\">\n",
              "  <thead>\n",
              "    <tr style=\"text-align: right;\">\n",
              "      <th></th>\n",
              "      <th>params</th>\n",
              "      <th>split0_test_score</th>\n",
              "      <th>split1_test_score</th>\n",
              "      <th>split2_test_score</th>\n",
              "      <th>mean_test_score</th>\n",
              "      <th>std_test_score</th>\n",
              "      <th>rank_test_score</th>\n",
              "    </tr>\n",
              "  </thead>\n",
              "  <tbody>\n",
              "    <tr>\n",
              "      <th>0</th>\n",
              "      <td>{'C': 0.01, 'kernel': 'linear'}</td>\n",
              "      <td>0.589057</td>\n",
              "      <td>0.611096</td>\n",
              "      <td>0.605393</td>\n",
              "      <td>0.601849</td>\n",
              "      <td>0.009340</td>\n",
              "      <td>25</td>\n",
              "    </tr>\n",
              "    <tr>\n",
              "      <th>1</th>\n",
              "      <td>{'C': 0.01, 'kernel': 'rbf'}</td>\n",
              "      <td>0.585096</td>\n",
              "      <td>0.605405</td>\n",
              "      <td>0.607569</td>\n",
              "      <td>0.599357</td>\n",
              "      <td>0.010122</td>\n",
              "      <td>26</td>\n",
              "    </tr>\n",
              "    <tr>\n",
              "      <th>2</th>\n",
              "      <td>{'C': 0.1, 'kernel': 'linear'}</td>\n",
              "      <td>0.610191</td>\n",
              "      <td>0.629662</td>\n",
              "      <td>0.644045</td>\n",
              "      <td>0.627966</td>\n",
              "      <td>0.013873</td>\n",
              "      <td>22</td>\n",
              "    </tr>\n",
              "    <tr>\n",
              "      <th>3</th>\n",
              "      <td>{'C': 0.1, 'kernel': 'rbf'}</td>\n",
              "      <td>0.599498</td>\n",
              "      <td>0.625668</td>\n",
              "      <td>0.626846</td>\n",
              "      <td>0.617338</td>\n",
              "      <td>0.012624</td>\n",
              "      <td>24</td>\n",
              "    </tr>\n",
              "    <tr>\n",
              "      <th>4</th>\n",
              "      <td>{'C': 1, 'kernel': 'linear'}</td>\n",
              "      <td>0.618139</td>\n",
              "      <td>0.636755</td>\n",
              "      <td>0.655054</td>\n",
              "      <td>0.636650</td>\n",
              "      <td>0.015071</td>\n",
              "      <td>16</td>\n",
              "    </tr>\n",
              "    <tr>\n",
              "      <th>5</th>\n",
              "      <td>{'C': 1, 'kernel': 'rbf'}</td>\n",
              "      <td>0.619665</td>\n",
              "      <td>0.639596</td>\n",
              "      <td>0.645340</td>\n",
              "      <td>0.634867</td>\n",
              "      <td>0.011002</td>\n",
              "      <td>17</td>\n",
              "    </tr>\n",
              "    <tr>\n",
              "      <th>6</th>\n",
              "      <td>{'C': 5, 'kernel': 'linear'}</td>\n",
              "      <td>0.622971</td>\n",
              "      <td>0.645070</td>\n",
              "      <td>0.662085</td>\n",
              "      <td>0.643376</td>\n",
              "      <td>0.016013</td>\n",
              "      <td>14</td>\n",
              "    </tr>\n",
              "    <tr>\n",
              "      <th>7</th>\n",
              "      <td>{'C': 5, 'kernel': 'rbf'}</td>\n",
              "      <td>0.637671</td>\n",
              "      <td>0.660240</td>\n",
              "      <td>0.659482</td>\n",
              "      <td>0.652464</td>\n",
              "      <td>0.010465</td>\n",
              "      <td>12</td>\n",
              "    </tr>\n",
              "    <tr>\n",
              "      <th>8</th>\n",
              "      <td>{'C': 15, 'kernel': 'linear'}</td>\n",
              "      <td>0.642380</td>\n",
              "      <td>0.662834</td>\n",
              "      <td>0.663132</td>\n",
              "      <td>0.656116</td>\n",
              "      <td>0.009713</td>\n",
              "      <td>10</td>\n",
              "    </tr>\n",
              "    <tr>\n",
              "      <th>9</th>\n",
              "      <td>{'C': 15, 'kernel': 'rbf'}</td>\n",
              "      <td>0.650454</td>\n",
              "      <td>0.672292</td>\n",
              "      <td>0.669825</td>\n",
              "      <td>0.664190</td>\n",
              "      <td>0.009765</td>\n",
              "      <td>9</td>\n",
              "    </tr>\n",
              "    <tr>\n",
              "      <th>10</th>\n",
              "      <td>{'C': 25, 'kernel': 'linear'}</td>\n",
              "      <td>0.638426</td>\n",
              "      <td>0.664811</td>\n",
              "      <td>0.662576</td>\n",
              "      <td>0.655271</td>\n",
              "      <td>0.011946</td>\n",
              "      <td>11</td>\n",
              "    </tr>\n",
              "    <tr>\n",
              "      <th>11</th>\n",
              "      <td>{'C': 25, 'kernel': 'rbf'}</td>\n",
              "      <td>0.653998</td>\n",
              "      <td>0.674998</td>\n",
              "      <td>0.675040</td>\n",
              "      <td>0.668012</td>\n",
              "      <td>0.009909</td>\n",
              "      <td>8</td>\n",
              "    </tr>\n",
              "    <tr>\n",
              "      <th>12</th>\n",
              "      <td>{'C': 50, 'kernel': 'linear'}</td>\n",
              "      <td>0.636467</td>\n",
              "      <td>0.655184</td>\n",
              "      <td>0.647149</td>\n",
              "      <td>0.646267</td>\n",
              "      <td>0.007666</td>\n",
              "      <td>13</td>\n",
              "    </tr>\n",
              "    <tr>\n",
              "      <th>13</th>\n",
              "      <td>{'C': 50, 'kernel': 'rbf'}</td>\n",
              "      <td>0.657518</td>\n",
              "      <td>0.681245</td>\n",
              "      <td>0.679392</td>\n",
              "      <td>0.672718</td>\n",
              "      <td>0.010775</td>\n",
              "      <td>7</td>\n",
              "    </tr>\n",
              "    <tr>\n",
              "      <th>14</th>\n",
              "      <td>{'C': 75, 'kernel': 'linear'}</td>\n",
              "      <td>0.624101</td>\n",
              "      <td>0.637916</td>\n",
              "      <td>0.651450</td>\n",
              "      <td>0.637822</td>\n",
              "      <td>0.011165</td>\n",
              "      <td>15</td>\n",
              "    </tr>\n",
              "    <tr>\n",
              "      <th>15</th>\n",
              "      <td>{'C': 75, 'kernel': 'rbf'}</td>\n",
              "      <td>0.658427</td>\n",
              "      <td>0.686911</td>\n",
              "      <td>0.682278</td>\n",
              "      <td>0.675872</td>\n",
              "      <td>0.012480</td>\n",
              "      <td>5</td>\n",
              "    </tr>\n",
              "    <tr>\n",
              "      <th>16</th>\n",
              "      <td>{'C': 100, 'kernel': 'linear'}</td>\n",
              "      <td>0.618691</td>\n",
              "      <td>0.642325</td>\n",
              "      <td>0.641605</td>\n",
              "      <td>0.634207</td>\n",
              "      <td>0.010976</td>\n",
              "      <td>19</td>\n",
              "    </tr>\n",
              "    <tr>\n",
              "      <th>17</th>\n",
              "      <td>{'C': 100, 'kernel': 'rbf'}</td>\n",
              "      <td>0.657790</td>\n",
              "      <td>0.685626</td>\n",
              "      <td>0.683331</td>\n",
              "      <td>0.675582</td>\n",
              "      <td>0.012616</td>\n",
              "      <td>6</td>\n",
              "    </tr>\n",
              "    <tr>\n",
              "      <th>18</th>\n",
              "      <td>{'C': 120, 'kernel': 'linear'}</td>\n",
              "      <td>0.619818</td>\n",
              "      <td>0.638538</td>\n",
              "      <td>0.644565</td>\n",
              "      <td>0.634307</td>\n",
              "      <td>0.010537</td>\n",
              "      <td>18</td>\n",
              "    </tr>\n",
              "    <tr>\n",
              "      <th>19</th>\n",
              "      <td>{'C': 120, 'kernel': 'rbf'}</td>\n",
              "      <td>0.657026</td>\n",
              "      <td>0.688439</td>\n",
              "      <td>0.685544</td>\n",
              "      <td>0.677003</td>\n",
              "      <td>0.014175</td>\n",
              "      <td>4</td>\n",
              "    </tr>\n",
              "    <tr>\n",
              "      <th>20</th>\n",
              "      <td>{'C': 150, 'kernel': 'linear'}</td>\n",
              "      <td>0.623392</td>\n",
              "      <td>0.647408</td>\n",
              "      <td>0.627850</td>\n",
              "      <td>0.632883</td>\n",
              "      <td>0.010430</td>\n",
              "      <td>20</td>\n",
              "    </tr>\n",
              "    <tr>\n",
              "      <th>21</th>\n",
              "      <td>{'C': 150, 'kernel': 'rbf'}</td>\n",
              "      <td>0.657696</td>\n",
              "      <td>0.691330</td>\n",
              "      <td>0.687625</td>\n",
              "      <td>0.678884</td>\n",
              "      <td>0.015058</td>\n",
              "      <td>2</td>\n",
              "    </tr>\n",
              "    <tr>\n",
              "      <th>22</th>\n",
              "      <td>{'C': 170, 'kernel': 'linear'}</td>\n",
              "      <td>0.617931</td>\n",
              "      <td>0.634650</td>\n",
              "      <td>0.630571</td>\n",
              "      <td>0.627717</td>\n",
              "      <td>0.007117</td>\n",
              "      <td>23</td>\n",
              "    </tr>\n",
              "    <tr>\n",
              "      <th>23</th>\n",
              "      <td>{'C': 170, 'kernel': 'rbf'}</td>\n",
              "      <td>0.659695</td>\n",
              "      <td>0.693878</td>\n",
              "      <td>0.686562</td>\n",
              "      <td>0.680045</td>\n",
              "      <td>0.014696</td>\n",
              "      <td>1</td>\n",
              "    </tr>\n",
              "    <tr>\n",
              "      <th>24</th>\n",
              "      <td>{'C': 200, 'kernel': 'linear'}</td>\n",
              "      <td>0.623034</td>\n",
              "      <td>0.638565</td>\n",
              "      <td>0.634770</td>\n",
              "      <td>0.632123</td>\n",
              "      <td>0.006611</td>\n",
              "      <td>21</td>\n",
              "    </tr>\n",
              "    <tr>\n",
              "      <th>25</th>\n",
              "      <td>{'C': 200, 'kernel': 'rbf'}</td>\n",
              "      <td>0.658419</td>\n",
              "      <td>0.690754</td>\n",
              "      <td>0.686613</td>\n",
              "      <td>0.678595</td>\n",
              "      <td>0.014367</td>\n",
              "      <td>3</td>\n",
              "    </tr>\n",
              "  </tbody>\n",
              "</table>\n",
              "</div>"
            ],
            "text/plain": [
              "                             params  ...  rank_test_score\n",
              "0   {'C': 0.01, 'kernel': 'linear'}  ...               25\n",
              "1      {'C': 0.01, 'kernel': 'rbf'}  ...               26\n",
              "2    {'C': 0.1, 'kernel': 'linear'}  ...               22\n",
              "3       {'C': 0.1, 'kernel': 'rbf'}  ...               24\n",
              "4      {'C': 1, 'kernel': 'linear'}  ...               16\n",
              "5         {'C': 1, 'kernel': 'rbf'}  ...               17\n",
              "6      {'C': 5, 'kernel': 'linear'}  ...               14\n",
              "7         {'C': 5, 'kernel': 'rbf'}  ...               12\n",
              "8     {'C': 15, 'kernel': 'linear'}  ...               10\n",
              "9        {'C': 15, 'kernel': 'rbf'}  ...                9\n",
              "10    {'C': 25, 'kernel': 'linear'}  ...               11\n",
              "11       {'C': 25, 'kernel': 'rbf'}  ...                8\n",
              "12    {'C': 50, 'kernel': 'linear'}  ...               13\n",
              "13       {'C': 50, 'kernel': 'rbf'}  ...                7\n",
              "14    {'C': 75, 'kernel': 'linear'}  ...               15\n",
              "15       {'C': 75, 'kernel': 'rbf'}  ...                5\n",
              "16   {'C': 100, 'kernel': 'linear'}  ...               19\n",
              "17      {'C': 100, 'kernel': 'rbf'}  ...                6\n",
              "18   {'C': 120, 'kernel': 'linear'}  ...               18\n",
              "19      {'C': 120, 'kernel': 'rbf'}  ...                4\n",
              "20   {'C': 150, 'kernel': 'linear'}  ...               20\n",
              "21      {'C': 150, 'kernel': 'rbf'}  ...                2\n",
              "22   {'C': 170, 'kernel': 'linear'}  ...               23\n",
              "23      {'C': 170, 'kernel': 'rbf'}  ...                1\n",
              "24   {'C': 200, 'kernel': 'linear'}  ...               21\n",
              "25      {'C': 200, 'kernel': 'rbf'}  ...                3\n",
              "\n",
              "[26 rows x 7 columns]"
            ]
          },
          "metadata": {
            "tags": []
          },
          "execution_count": 21
        }
      ]
    },
    {
      "cell_type": "code",
      "metadata": {
        "colab": {
          "base_uri": "https://localhost:8080/"
        },
        "id": "r8aEhs9nhjCd",
        "outputId": "589c3257-46b9-41a8-9fe2-ea0128d81515"
      },
      "source": [
        "pred_scaled = best_svm.predict(X_test)\n",
        "roc_auc_score(y_test, pred_scaled)"
      ],
      "execution_count": 23,
      "outputs": [
        {
          "output_type": "execute_result",
          "data": {
            "text/plain": [
              "0.611491887953021"
            ]
          },
          "metadata": {
            "tags": []
          },
          "execution_count": 23
        }
      ]
    },
    {
      "cell_type": "markdown",
      "metadata": {
        "id": "maa99t5Fh7EH"
      },
      "source": [
        "### Escalando algunas variables de manera indivudual."
      ]
    },
    {
      "cell_type": "code",
      "metadata": {
        "id": "cQn0tdGtoaSL",
        "colab": {
          "base_uri": "https://localhost:8080/"
        },
        "outputId": "abd0e832-225a-46d7-8bcc-043c557fe3d9"
      },
      "source": [
        "data = pd.read_csv('/content/drive/MyDrive/Dataset Proyecto/Bedu_Proyecto_Modulo_4/Dataset_limpio.csv', index_col=0)\n",
        "\n",
        "expanded = pd.get_dummies(data = data, columns = ['Categoria'])\n",
        "expanded = expanded.drop(columns = ['App', 'Rating_del_contenido', 'Ultimo_updated', 'Anio_ultimo_updated','Version_actual', 'Version_Android', 'Rating'])\n",
        "\n",
        "X = expanded.drop(columns= ['Exito_app'])\n",
        "y = expanded['Exito_app']\n",
        "\n",
        "#### Escalando variables de manera individual.\n",
        "X_norm_ind = X.copy()\n",
        "X_norm_ind['Reviews'] = (X['Reviews'] - X['Reviews'].mean())/X['Reviews'].std()\n",
        "X_norm_ind['Instalaciones_minimas_estimadas'] = (X['Instalaciones_minimas_estimadas'] - X['Instalaciones_minimas_estimadas'].mean())/X['Instalaciones_minimas_estimadas'].std()\n",
        "X_norm_ind['Tamanio_MB'] = (X['Tamanio_MB'] - X['Tamanio_MB'].mean())/X['Tamanio_MB'].std()\n",
        "X_norm_ind['Precio'] = (X['Precio'])/(X['Precio'].max()-X['Precio'].min())\n",
        "\n",
        "X_train, X_test, y_train, y_test = train_test_split(X_norm_ind, y, test_size = 0.2, random_state = 23)\n",
        "\n",
        "smote = SMOTE(random_state = 1)\n",
        "dataSmote_ind, targetSmote_ind = smote.fit_resample(X_train ,y_train)\n"
      ],
      "execution_count": 24,
      "outputs": [
        {
          "output_type": "stream",
          "text": [
            "/usr/local/lib/python3.7/dist-packages/sklearn/utils/deprecation.py:87: FutureWarning: Function safe_indexing is deprecated; safe_indexing is deprecated in version 0.22 and will be removed in version 0.24.\n",
            "  warnings.warn(msg, category=FutureWarning)\n"
          ],
          "name": "stderr"
        }
      ]
    },
    {
      "cell_type": "code",
      "metadata": {
        "id": "G7wEwE6kiBGH"
      },
      "source": [
        "### Parametros del modelo.\n",
        "params = {'C': [0.01, 0.1, 1, 5, 15, 25, 50, 75, 100, 120, 150, 170, 200],\n",
        "          'kernel': ['linear', 'rbf']} \n",
        "svm = SVC(max_iter= 20000)      \n",
        "best_svm_ind = GridSearchCV(svm, param_grid= params, scoring= 'roc_auc', cv = 3)  \n",
        "best_svm_ind.fit(dataSmote_ind, targetSmote_ind);"
      ],
      "execution_count": null,
      "outputs": []
    },
    {
      "cell_type": "code",
      "metadata": {
        "colab": {
          "base_uri": "https://localhost:8080/",
          "height": 864
        },
        "id": "mx87zh9liLWi",
        "outputId": "6a2152fe-8c1a-4c63-cdd0-0a17c99a5a30"
      },
      "source": [
        "svm_results_ind = pd.DataFrame(best_svm_ind.cv_results_)\n",
        "svm_results_ind[['params', 'split0_test_score', 'split1_test_score', 'split2_test_score', 'mean_test_score', 'std_test_score', 'rank_test_score']].to_csv('/content/drive/MyDrive/Dataset Proyecto/Bedu_Proyecto_Modulo_4/svm_results_individual.csv')\n",
        "svm_results_ind[['params', 'split0_test_score', 'split1_test_score', 'split2_test_score', 'mean_test_score', 'std_test_score', 'rank_test_score']]"
      ],
      "execution_count": 26,
      "outputs": [
        {
          "output_type": "execute_result",
          "data": {
            "text/html": [
              "<div>\n",
              "<style scoped>\n",
              "    .dataframe tbody tr th:only-of-type {\n",
              "        vertical-align: middle;\n",
              "    }\n",
              "\n",
              "    .dataframe tbody tr th {\n",
              "        vertical-align: top;\n",
              "    }\n",
              "\n",
              "    .dataframe thead th {\n",
              "        text-align: right;\n",
              "    }\n",
              "</style>\n",
              "<table border=\"1\" class=\"dataframe\">\n",
              "  <thead>\n",
              "    <tr style=\"text-align: right;\">\n",
              "      <th></th>\n",
              "      <th>params</th>\n",
              "      <th>split0_test_score</th>\n",
              "      <th>split1_test_score</th>\n",
              "      <th>split2_test_score</th>\n",
              "      <th>mean_test_score</th>\n",
              "      <th>std_test_score</th>\n",
              "      <th>rank_test_score</th>\n",
              "    </tr>\n",
              "  </thead>\n",
              "  <tbody>\n",
              "    <tr>\n",
              "      <th>0</th>\n",
              "      <td>{'C': 0.01, 'kernel': 'linear'}</td>\n",
              "      <td>0.612487</td>\n",
              "      <td>0.637065</td>\n",
              "      <td>0.634075</td>\n",
              "      <td>0.627876</td>\n",
              "      <td>0.010949</td>\n",
              "      <td>18</td>\n",
              "    </tr>\n",
              "    <tr>\n",
              "      <th>1</th>\n",
              "      <td>{'C': 0.01, 'kernel': 'rbf'}</td>\n",
              "      <td>0.600270</td>\n",
              "      <td>0.626778</td>\n",
              "      <td>0.620930</td>\n",
              "      <td>0.615993</td>\n",
              "      <td>0.011371</td>\n",
              "      <td>20</td>\n",
              "    </tr>\n",
              "    <tr>\n",
              "      <th>2</th>\n",
              "      <td>{'C': 0.1, 'kernel': 'linear'}</td>\n",
              "      <td>0.636906</td>\n",
              "      <td>0.652906</td>\n",
              "      <td>0.660073</td>\n",
              "      <td>0.649962</td>\n",
              "      <td>0.009684</td>\n",
              "      <td>17</td>\n",
              "    </tr>\n",
              "    <tr>\n",
              "      <th>3</th>\n",
              "      <td>{'C': 0.1, 'kernel': 'rbf'}</td>\n",
              "      <td>0.641754</td>\n",
              "      <td>0.669762</td>\n",
              "      <td>0.666733</td>\n",
              "      <td>0.659416</td>\n",
              "      <td>0.012550</td>\n",
              "      <td>13</td>\n",
              "    </tr>\n",
              "    <tr>\n",
              "      <th>4</th>\n",
              "      <td>{'C': 1, 'kernel': 'linear'}</td>\n",
              "      <td>0.653533</td>\n",
              "      <td>0.661885</td>\n",
              "      <td>0.667781</td>\n",
              "      <td>0.661066</td>\n",
              "      <td>0.005845</td>\n",
              "      <td>12</td>\n",
              "    </tr>\n",
              "    <tr>\n",
              "      <th>5</th>\n",
              "      <td>{'C': 1, 'kernel': 'rbf'}</td>\n",
              "      <td>0.669816</td>\n",
              "      <td>0.696608</td>\n",
              "      <td>0.700007</td>\n",
              "      <td>0.688810</td>\n",
              "      <td>0.013503</td>\n",
              "      <td>11</td>\n",
              "    </tr>\n",
              "    <tr>\n",
              "      <th>6</th>\n",
              "      <td>{'C': 5, 'kernel': 'linear'}</td>\n",
              "      <td>0.655866</td>\n",
              "      <td>0.659004</td>\n",
              "      <td>0.661579</td>\n",
              "      <td>0.658817</td>\n",
              "      <td>0.002336</td>\n",
              "      <td>14</td>\n",
              "    </tr>\n",
              "    <tr>\n",
              "      <th>7</th>\n",
              "      <td>{'C': 5, 'kernel': 'rbf'}</td>\n",
              "      <td>0.687784</td>\n",
              "      <td>0.704136</td>\n",
              "      <td>0.713753</td>\n",
              "      <td>0.701891</td>\n",
              "      <td>0.010720</td>\n",
              "      <td>10</td>\n",
              "    </tr>\n",
              "    <tr>\n",
              "      <th>8</th>\n",
              "      <td>{'C': 15, 'kernel': 'linear'}</td>\n",
              "      <td>0.650857</td>\n",
              "      <td>0.643755</td>\n",
              "      <td>0.671427</td>\n",
              "      <td>0.655346</td>\n",
              "      <td>0.011735</td>\n",
              "      <td>15</td>\n",
              "    </tr>\n",
              "    <tr>\n",
              "      <th>9</th>\n",
              "      <td>{'C': 15, 'kernel': 'rbf'}</td>\n",
              "      <td>0.700680</td>\n",
              "      <td>0.709599</td>\n",
              "      <td>0.722815</td>\n",
              "      <td>0.711032</td>\n",
              "      <td>0.009093</td>\n",
              "      <td>9</td>\n",
              "    </tr>\n",
              "    <tr>\n",
              "      <th>10</th>\n",
              "      <td>{'C': 25, 'kernel': 'linear'}</td>\n",
              "      <td>0.642683</td>\n",
              "      <td>0.654994</td>\n",
              "      <td>0.654875</td>\n",
              "      <td>0.650851</td>\n",
              "      <td>0.005776</td>\n",
              "      <td>16</td>\n",
              "    </tr>\n",
              "    <tr>\n",
              "      <th>11</th>\n",
              "      <td>{'C': 25, 'kernel': 'rbf'}</td>\n",
              "      <td>0.705911</td>\n",
              "      <td>0.716932</td>\n",
              "      <td>0.723207</td>\n",
              "      <td>0.715350</td>\n",
              "      <td>0.007149</td>\n",
              "      <td>8</td>\n",
              "    </tr>\n",
              "    <tr>\n",
              "      <th>12</th>\n",
              "      <td>{'C': 50, 'kernel': 'linear'}</td>\n",
              "      <td>0.569744</td>\n",
              "      <td>0.645317</td>\n",
              "      <td>0.654298</td>\n",
              "      <td>0.623120</td>\n",
              "      <td>0.037920</td>\n",
              "      <td>19</td>\n",
              "    </tr>\n",
              "    <tr>\n",
              "      <th>13</th>\n",
              "      <td>{'C': 50, 'kernel': 'rbf'}</td>\n",
              "      <td>0.708698</td>\n",
              "      <td>0.725318</td>\n",
              "      <td>0.731297</td>\n",
              "      <td>0.721771</td>\n",
              "      <td>0.009561</td>\n",
              "      <td>7</td>\n",
              "    </tr>\n",
              "    <tr>\n",
              "      <th>14</th>\n",
              "      <td>{'C': 75, 'kernel': 'linear'}</td>\n",
              "      <td>0.599345</td>\n",
              "      <td>0.413392</td>\n",
              "      <td>0.588220</td>\n",
              "      <td>0.533653</td>\n",
              "      <td>0.085158</td>\n",
              "      <td>22</td>\n",
              "    </tr>\n",
              "    <tr>\n",
              "      <th>15</th>\n",
              "      <td>{'C': 75, 'kernel': 'rbf'}</td>\n",
              "      <td>0.712494</td>\n",
              "      <td>0.729085</td>\n",
              "      <td>0.734065</td>\n",
              "      <td>0.725215</td>\n",
              "      <td>0.009222</td>\n",
              "      <td>6</td>\n",
              "    </tr>\n",
              "    <tr>\n",
              "      <th>16</th>\n",
              "      <td>{'C': 100, 'kernel': 'linear'}</td>\n",
              "      <td>0.478237</td>\n",
              "      <td>0.559269</td>\n",
              "      <td>0.537152</td>\n",
              "      <td>0.524886</td>\n",
              "      <td>0.034199</td>\n",
              "      <td>24</td>\n",
              "    </tr>\n",
              "    <tr>\n",
              "      <th>17</th>\n",
              "      <td>{'C': 100, 'kernel': 'rbf'}</td>\n",
              "      <td>0.711952</td>\n",
              "      <td>0.731389</td>\n",
              "      <td>0.746637</td>\n",
              "      <td>0.729993</td>\n",
              "      <td>0.014194</td>\n",
              "      <td>3</td>\n",
              "    </tr>\n",
              "    <tr>\n",
              "      <th>18</th>\n",
              "      <td>{'C': 120, 'kernel': 'linear'}</td>\n",
              "      <td>0.588415</td>\n",
              "      <td>0.450609</td>\n",
              "      <td>0.564914</td>\n",
              "      <td>0.534646</td>\n",
              "      <td>0.060193</td>\n",
              "      <td>21</td>\n",
              "    </tr>\n",
              "    <tr>\n",
              "      <th>19</th>\n",
              "      <td>{'C': 120, 'kernel': 'rbf'}</td>\n",
              "      <td>0.710141</td>\n",
              "      <td>0.734081</td>\n",
              "      <td>0.743406</td>\n",
              "      <td>0.729210</td>\n",
              "      <td>0.014010</td>\n",
              "      <td>4</td>\n",
              "    </tr>\n",
              "    <tr>\n",
              "      <th>20</th>\n",
              "      <td>{'C': 150, 'kernel': 'linear'}</td>\n",
              "      <td>0.512663</td>\n",
              "      <td>0.501555</td>\n",
              "      <td>0.501387</td>\n",
              "      <td>0.505202</td>\n",
              "      <td>0.005276</td>\n",
              "      <td>25</td>\n",
              "    </tr>\n",
              "    <tr>\n",
              "      <th>21</th>\n",
              "      <td>{'C': 150, 'kernel': 'rbf'}</td>\n",
              "      <td>0.713783</td>\n",
              "      <td>0.738206</td>\n",
              "      <td>0.739699</td>\n",
              "      <td>0.730563</td>\n",
              "      <td>0.011881</td>\n",
              "      <td>2</td>\n",
              "    </tr>\n",
              "    <tr>\n",
              "      <th>22</th>\n",
              "      <td>{'C': 170, 'kernel': 'linear'}</td>\n",
              "      <td>0.536891</td>\n",
              "      <td>0.433098</td>\n",
              "      <td>0.471370</td>\n",
              "      <td>0.480453</td>\n",
              "      <td>0.042857</td>\n",
              "      <td>26</td>\n",
              "    </tr>\n",
              "    <tr>\n",
              "      <th>23</th>\n",
              "      <td>{'C': 170, 'kernel': 'rbf'}</td>\n",
              "      <td>0.714729</td>\n",
              "      <td>0.731583</td>\n",
              "      <td>0.741120</td>\n",
              "      <td>0.729144</td>\n",
              "      <td>0.010911</td>\n",
              "      <td>5</td>\n",
              "    </tr>\n",
              "    <tr>\n",
              "      <th>24</th>\n",
              "      <td>{'C': 200, 'kernel': 'linear'}</td>\n",
              "      <td>0.466092</td>\n",
              "      <td>0.485169</td>\n",
              "      <td>0.626331</td>\n",
              "      <td>0.525864</td>\n",
              "      <td>0.071466</td>\n",
              "      <td>23</td>\n",
              "    </tr>\n",
              "    <tr>\n",
              "      <th>25</th>\n",
              "      <td>{'C': 200, 'kernel': 'rbf'}</td>\n",
              "      <td>0.714461</td>\n",
              "      <td>0.741000</td>\n",
              "      <td>0.744058</td>\n",
              "      <td>0.733173</td>\n",
              "      <td>0.013291</td>\n",
              "      <td>1</td>\n",
              "    </tr>\n",
              "  </tbody>\n",
              "</table>\n",
              "</div>"
            ],
            "text/plain": [
              "                             params  ...  rank_test_score\n",
              "0   {'C': 0.01, 'kernel': 'linear'}  ...               18\n",
              "1      {'C': 0.01, 'kernel': 'rbf'}  ...               20\n",
              "2    {'C': 0.1, 'kernel': 'linear'}  ...               17\n",
              "3       {'C': 0.1, 'kernel': 'rbf'}  ...               13\n",
              "4      {'C': 1, 'kernel': 'linear'}  ...               12\n",
              "5         {'C': 1, 'kernel': 'rbf'}  ...               11\n",
              "6      {'C': 5, 'kernel': 'linear'}  ...               14\n",
              "7         {'C': 5, 'kernel': 'rbf'}  ...               10\n",
              "8     {'C': 15, 'kernel': 'linear'}  ...               15\n",
              "9        {'C': 15, 'kernel': 'rbf'}  ...                9\n",
              "10    {'C': 25, 'kernel': 'linear'}  ...               16\n",
              "11       {'C': 25, 'kernel': 'rbf'}  ...                8\n",
              "12    {'C': 50, 'kernel': 'linear'}  ...               19\n",
              "13       {'C': 50, 'kernel': 'rbf'}  ...                7\n",
              "14    {'C': 75, 'kernel': 'linear'}  ...               22\n",
              "15       {'C': 75, 'kernel': 'rbf'}  ...                6\n",
              "16   {'C': 100, 'kernel': 'linear'}  ...               24\n",
              "17      {'C': 100, 'kernel': 'rbf'}  ...                3\n",
              "18   {'C': 120, 'kernel': 'linear'}  ...               21\n",
              "19      {'C': 120, 'kernel': 'rbf'}  ...                4\n",
              "20   {'C': 150, 'kernel': 'linear'}  ...               25\n",
              "21      {'C': 150, 'kernel': 'rbf'}  ...                2\n",
              "22   {'C': 170, 'kernel': 'linear'}  ...               26\n",
              "23      {'C': 170, 'kernel': 'rbf'}  ...                5\n",
              "24   {'C': 200, 'kernel': 'linear'}  ...               23\n",
              "25      {'C': 200, 'kernel': 'rbf'}  ...                1\n",
              "\n",
              "[26 rows x 7 columns]"
            ]
          },
          "metadata": {
            "tags": []
          },
          "execution_count": 26
        }
      ]
    },
    {
      "cell_type": "code",
      "metadata": {
        "colab": {
          "base_uri": "https://localhost:8080/"
        },
        "id": "jwLv5PYTj_ef",
        "outputId": "14a32753-7eeb-4859-da4b-059c6481a98a"
      },
      "source": [
        "pred_scaled = best_svm_ind.predict(X_test)\n",
        "roc_auc_score(y_test, pred_scaled)"
      ],
      "execution_count": 27,
      "outputs": [
        {
          "output_type": "execute_result",
          "data": {
            "text/plain": [
              "0.6530865785093265"
            ]
          },
          "metadata": {
            "tags": []
          },
          "execution_count": 27
        }
      ]
    },
    {
      "cell_type": "code",
      "metadata": {
        "id": "K02mRTnikGUb"
      },
      "source": [
        ""
      ],
      "execution_count": null,
      "outputs": []
    }
  ]
}