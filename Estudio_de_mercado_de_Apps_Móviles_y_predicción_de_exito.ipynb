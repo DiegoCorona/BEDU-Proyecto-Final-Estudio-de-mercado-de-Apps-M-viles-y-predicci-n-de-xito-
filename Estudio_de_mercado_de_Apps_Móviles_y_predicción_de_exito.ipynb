{
  "nbformat": 4,
  "nbformat_minor": 0,
  "metadata": {
    "colab": {
      "name": "Estudio de mercado de Apps Móviles y predicción de exito.ipynb",
      "provenance": [],
      "collapsed_sections": [],
      "include_colab_link": true
    },
    "kernelspec": {
      "name": "python3",
      "display_name": "Python 3"
    },
    "language_info": {
      "name": "python"
    }
  },
  "cells": [
    {
      "cell_type": "markdown",
      "metadata": {
        "id": "view-in-github",
        "colab_type": "text"
      },
      "source": [
        "<a href=\"https://colab.research.google.com/github/DiegoCorona/BEDU-Proyecto-Final-Estudio-de-mercado-de-Apps-Moviles-y-prediccion-de-exito-/blob/main/Estudio_de_mercado_de_Apps_M%C3%B3viles_y_predicci%C3%B3n_de_exito.ipynb\" target=\"_parent\"><img src=\"https://colab.research.google.com/assets/colab-badge.svg\" alt=\"Open In Colab\"/></a>"
      ]
    },
    {
      "cell_type": "markdown",
      "metadata": {
        "id": "vMX_Yy5iZncY"
      },
      "source": [
        "## Contexto del proyecto.\n",
        "\n",
        "En el repositorio anterior [(Estudio de Mercado en las aplicaciones móviles)](https://github.com/DiegoCorona/Proyecto_BEDU_Modulo4_An-lisis_de_Datos_con_Python/blob/main/Proyecto_Modulo4_An%C3%A1lisis_de_Datos_con_Python.ipynb) se pudo estudiar, de una manera descriptiva y estadística el comportamiento de las características presentes en nuestro dataset. Pudimos notar que muchas de nuetras variables de estudio se encontraban sesgadas, y contabamos con gran variedad de variables categóricas. \n",
        "\n",
        "También, al final de todo el script, se trato de resolver el problema principal del proyecto de una manera simple: Ajustar una regresión logística a nuestros datos para así poder predecir si una aplicación movíl se podía considerar como exitosa o no exitosa, dadas ciertas características presentes en la misma aplicación. \n",
        "\n",
        "El resultado obtenido con está regresión logística era prometedor, ya que obtuvimos un **accuracy en el set de prueba de 0.7195729537366548**, este resultado no era nada malo, en apariencia, para un modelo con datos sin preprocesamiento y con los parámetros por default de la paquetería *Sklearn*.\n",
        "\n",
        "El problema se vio al momento de obtener la matriz de confusión proporcionada por el modelo en el set de prueba: \n",
        "\n",
        "![Captura.PNG](data:image/png;base64,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)\n",
        "\n",
        "Se prodía notar que el modelo tenía grandes problemas para poder detectar los ejemplos pertenecientes a la clase **0**, es decir, aplicaciones que se considerán no exitosas.\n",
        "\n",
        "Además, el accuracy tan grande se debió principalmente al desbalanceo entre ambas clase, esto provovó que el modelo predijerá la mayoría de las veces que el elemento pertenecía a la clase positiva, es deicr, el modelo no se esforzaba por tratar de predecir una clase a un ejemplo dadas las características, si no que se limitaba a predecir casi siempre la etiqueta con mayor proporción en el dataset."
      ]
    },
    {
      "cell_type": "markdown",
      "metadata": {
        "id": "TWkTaVA4iCIr"
      },
      "source": [
        "Este mismo resultado se pudo corroborar al obtener la métrica AUC en el se de prueba, el cual fue **0.5071277692685027**, por lo que el modelo inicial tenía un pobre rendimiento.\n",
        "\n",
        "Esta presente parte del proyecto se centra principalmente en solucionar este problema, tratar de obtener un modelo que pueda tener un mejor rendimiento dados los datos y, al mismo tiempo, mitigar el problema del desbalanceo en el dataset."
      ]
    },
    {
      "cell_type": "markdown",
      "metadata": {
        "id": "bMbKENUfkKs5"
      },
      "source": [
        "### Aspectos técnicos importantes.\n",
        "\n",
        "Para algunas partes de este estudio haremos uso de métodos de sobremuestreo sobre el set de entremamiento, se utilizará el método **SMOTE** [(Técnica de sobremuestreo de minorías sintéticas)](https://programmerclick.com/article/50951545113/), que se basa en generar ejemplos artificiales sobre la clase menos representada en el dataset a partir de los ejemplos ya presentes en esta misma clase, esto es: toma *n* ejemplos en la clase menos representada y crea un ejemplo nuevo por, ya sea la variación de una características o el punto medio entre estos n ejemplos hasta poder crear un dataset con el mismo tamaño entre las etiquetas presentes en cada clase.\n",
        "\n",
        "Se eligió este método de sobremuestreo por encima de los demás ya que le da un poco de variabilidad a los ejemplos en la clase menos representada, por lo que, para el modelo son ejemplos distintos, y puede evitar un poco el sobreajuste.\n",
        "\n",
        "También se hará uso de diferentes algoritmos enfocados a clasificación, tales como **modelos lineales, Support Vector Machine, Random Forest y Neural Networks** así como diferentes arquitecturas y conjuntos de hiperpárametros.\n",
        " \n",
        "Los resultados obtenidos se registrán en nuestra [Bitácora de resultados.](https://github.com/DiegoCorona/BEDU-Proyecto-Final-Estudio-de-mercado-de-Apps-Moviles-y-prediccion-de-exito-/blob/main/Bitacora_de_resultados.ipynb)\n",
        "\n",
        "**Importante: Cabe mencionar que se eligió el 'MEJOR MODELO' tomando como métrica de referencia el AUC obtenido en el set de prueba de cada modelo, esto para no caer en confusiones con los resultados de otras métricas, como el accucary.**"
      ]
    },
    {
      "cell_type": "markdown",
      "metadata": {
        "id": "_Qk4P2RKXc4o"
      },
      "source": [
        "### Funciones indispensables.\n",
        "\n",
        "Las siguientes funciones son de gran ayuda para poder evaluar el comportamiento de distintos modelos dados los parámetros por default en la paquetería SKlearn, esto para guiarnos un poco sobre el camino que debemos seguir."
      ]
    },
    {
      "cell_type": "code",
      "metadata": {
        "id": "Nb-Vsmm2pQCu",
        "colab": {
          "base_uri": "https://localhost:8080/"
        },
        "outputId": "ff8ed501-cb34-4f43-a976-f403bbbcc428"
      },
      "source": [
        "from google.colab import drive\n",
        "drive.mount('/content/drive')"
      ],
      "execution_count": 1,
      "outputs": [
        {
          "output_type": "stream",
          "text": [
            "Mounted at /content/drive\n"
          ],
          "name": "stdout"
        }
      ]
    },
    {
      "cell_type": "code",
      "metadata": {
        "id": "-rq192Izhy1s"
      },
      "source": [
        "import warnings\n",
        "warnings.filterwarnings('ignore')\n",
        "\n",
        "def get_metrics(y_test, predictions, binary = False):\n",
        "  '''\n",
        "    Esta función retorna Accuracy, Precision, Recall y F1_score.\n",
        "    binary: (default: False) Booleano que indica si la clasificación es multiclase o no\n",
        "  '''\n",
        "  from sklearn.metrics import accuracy_score, precision_score, recall_score, f1_score, roc_auc_score\n",
        "\n",
        "  if binary == False:\n",
        "    option = 'macro'\n",
        "    auc = None\n",
        "  if binary == True:\n",
        "    option = 'binary'\n",
        "    auc = roc_auc_score(y_test, predictions)\n",
        "  \n",
        "  acc = accuracy_score(y_test, predictions)\n",
        "  precision = precision_score(y_test, predictions, average= option)\n",
        "  recall = recall_score(y_test, predictions, average= option)\n",
        "  f1 = f1_score(y_test, predictions, average= option)\n",
        "  print('Metricas en el set de prueba...')\n",
        "  print('Accuracy: ', acc)\n",
        "  print('Precision: ', precision)\n",
        "  print('Recall: ', recall)\n",
        "  print('f1_score: ', recall)\n",
        "  print('AUC: ', auc)\n",
        "  print('-'*70)\n",
        "  \n",
        "\n",
        "def alg_ML(X_train, y_train, X_test, y_test, binary = False):\n",
        "  from sklearn.linear_model import LogisticRegression\n",
        "  from sklearn.svm import SVC\n",
        "  from sklearn.tree import DecisionTreeClassifier\n",
        "  from sklearn.ensemble import RandomForestClassifier\n",
        "\n",
        "  logreg = LogisticRegression(max_iter = 10000)\n",
        "  logreg.fit(X_train, y_train)\n",
        "  logreg_pred = logreg.predict(X_test)\n",
        "  print('Metrics for logistic regression:')\n",
        "  get_metrics(y_test, logreg_pred, binary = binary)\n",
        "\n",
        "  svm = SVC()\n",
        "  svm.fit(X_train, y_train) \n",
        "  svm_pred = svm.predict(X_test)\n",
        "  print('Metrics for Support Vector Machine:')\n",
        "  get_metrics(y_test, svm_pred, binary = binary)\n",
        "\n",
        "  dt = DecisionTreeClassifier()\n",
        "  dt.fit(X_train, y_train)\n",
        "  dt_pred = dt.predict(X_test)\n",
        "  print('Metrics for Decision Tree:')\n",
        "  get_metrics(y_test, dt_pred, binary = binary)\n",
        "\n",
        "  rf = RandomForestClassifier()\n",
        "  rf.fit(X_train, y_train)\n",
        "  rf_pred = rf.predict(X_test)\n",
        "  print('Metrics for Random Forrest: ')\n",
        "  get_metrics(y_test, rf_pred, binary = binary)"
      ],
      "execution_count": null,
      "outputs": []
    },
    {
      "cell_type": "markdown",
      "metadata": {
        "id": "4U5pfPSZX8Mx"
      },
      "source": [
        "## Checando los modelos con los parámetros por default.\n",
        "\n",
        "Con los parámetros iniciales, obtuvimos lo siguiente:\n",
        "\n",
        "* **Modelos sin sobremuestreo:** La regresión logística y SVM tuvieron el peor rendimiento en la métrica AUC, con un valor cercano de 0.5 en el set de prueba, los árboles de decisión y random forest presentaron un mejor desempeño, con valores AUC iguales a 0.6039935132200289 y 0.6320374061452954, respectivamente y con valores de accuracy mayores a 0.60. Esto nos da una noción que, estos dos últimos algoritmos podrían tener un mejor desempeño.\n",
        "\n",
        "* **Modelos con sobremuestreo:** Después de aplicar sobremuestreo a el dataset de entrenamiento, se mejoró la métricas AUC con todos los algoritmos: La regresión logística tuvo 0.5982, y SVM 0.6223, mientras que árboles de decisión obtuvo 0.6347 (con un descenso en el accuracy), mientras que los bosques aleatorios obtuvieron un AUC igual a 0.6615 y un accuracy de 0.72251, presentando el mejor rendimiento tanto con sobremuetreo como sin sobremuetreo."
      ]
    },
    {
      "cell_type": "code",
      "metadata": {
        "colab": {
          "base_uri": "https://localhost:8080/"
        },
        "id": "2O21RLYcX7YW",
        "outputId": "ef29c13d-3f06-428a-b830-211001d8facc"
      },
      "source": [
        "import pandas as pd\n",
        "import numpy as np\n",
        "\n",
        "data = pd.read_csv('/content/drive/MyDrive/Dataset Proyecto/Bedu_Proyecto_Modulo_4/Dataset_limpio.csv', index_col=0)\n",
        "\n",
        "expanded = pd.get_dummies(data = data, columns = ['Categoria'])\n",
        "expanded = expanded.drop(columns = ['App', 'Rating_del_contenido', 'Ultimo_updated', 'Anio_ultimo_updated','Version_actual', 'Version_Android', 'Rating'])\n",
        "\n",
        "X = expanded.drop(columns= ['Exito_app'])\n",
        "y = expanded['Exito_app']\n",
        "\n",
        "X_norm = X.copy()\n",
        "X_norm['Reviews'] = (X['Reviews'] - X['Reviews'].mean())/X['Reviews'].std()\n",
        "X_norm['Instalaciones_minimas_estimadas'] = (X['Instalaciones_minimas_estimadas'] - X['Instalaciones_minimas_estimadas'].mean())/X['Instalaciones_minimas_estimadas'].std()\n",
        "X_norm['Tamanio_MB'] = (X['Tamanio_MB'] - X['Tamanio_MB'].mean())/X['Tamanio_MB'].std()\n",
        "X_norm['Precio'] = (X['Precio'])/(X['Precio'].max()-X['Precio'].min())\n",
        "\n",
        "from sklearn.model_selection import train_test_split\n",
        "\n",
        "X_train, X_test, y_train, y_test = train_test_split(X_norm, y, \n",
        "                                                    test_size = 0.2, \n",
        "                                                    random_state = 23)\n",
        "\n",
        "print('-'*38)\n",
        "print('|||    Modelos sin sobremuestreo   |||')\n",
        "print('-'*38)\n",
        "alg_ML(X_train, y_train, X_test, y_test, binary = True)\n",
        "\n",
        "#Importamos los paquetes\n",
        "from imblearn.over_sampling import RandomOverSampler, SMOTE\n",
        "#Inicialización de los métodos de sobremuestreo\n",
        "#SMOTE\n",
        "smote = SMOTE(random_state = 1)\n",
        "\n",
        "#SMOTE. Genera nuevas muestras sintéticas\n",
        "dataSmote, targetSmote = smote.fit_resample(X_train ,y_train)\n",
        "\n",
        "print('-'*38)\n",
        "print('|||    Modelos con sobremuestreo   |||')\n",
        "print('-'*38)\n",
        "alg_ML(dataSmote, targetSmote, X_test, y_test, binary= True)"
      ],
      "execution_count": null,
      "outputs": [
        {
          "output_type": "stream",
          "text": [
            "--------------------------------------\n",
            "|||    Modelos sin sobremuestreo   |||\n",
            "--------------------------------------\n",
            "Metrics for logistic regression:\n",
            "Metricas en el set de prueba...\n",
            "Accuracy:  0.7262540021344717\n",
            "Precision:  0.7259615384615384\n",
            "Recall:  1.0\n",
            "f1_score:  1.0\n",
            "AUC:  0.5019417475728155\n",
            "----------------------------------------------------------------------\n",
            "Metrics for Support Vector Machine:\n",
            "Metricas en el set de prueba...\n",
            "Accuracy:  0.7262540021344717\n",
            "Precision:  0.7262032085561497\n",
            "Recall:  0.9992641648270787\n",
            "f1_score:  0.9992641648270787\n",
            "AUC:  0.5025447037727627\n",
            "----------------------------------------------------------------------\n",
            "Metrics for Decision Tree:\n",
            "Metricas en el set de prueba...\n",
            "Accuracy:  0.6766275346851655\n",
            "Precision:  0.7837226827430294\n",
            "Recall:  0.7652685798381162\n",
            "f1_score:  0.7652685798381162\n",
            "AUC:  0.6039935132200289\n",
            "----------------------------------------------------------------------\n",
            "Metrics for Random Forrest: \n",
            "Metricas en el set de prueba...\n",
            "Accuracy:  0.7347918890074706\n",
            "Precision:  0.7920054200542005\n",
            "Recall:  0.8601913171449596\n",
            "f1_score:  0.8601913171449596\n",
            "AUC:  0.6320374061452954\n",
            "----------------------------------------------------------------------\n",
            "--------------------------------------\n",
            "|||    Modelos con sobremuestreo   |||\n",
            "--------------------------------------\n",
            "Metrics for logistic regression:\n",
            "Metricas en el set de prueba...\n",
            "Accuracy:  0.5843116328708644\n",
            "Precision:  0.8014553014553014\n",
            "Recall:  0.5673289183222958\n",
            "f1_score:  0.5673289183222958\n",
            "AUC:  0.5982275659572645\n",
            "----------------------------------------------------------------------\n",
            "Metrics for Support Vector Machine:\n",
            "Metricas en el set de prueba...\n",
            "Accuracy:  0.567769477054429\n",
            "Precision:  0.8376383763837638\n",
            "Recall:  0.5011037527593819\n",
            "f1_score:  0.5011037527593819\n",
            "AUC:  0.6223965365738657\n",
            "----------------------------------------------------------------------\n",
            "Metrics for Decision Tree:\n",
            "Metricas en el set de prueba...\n",
            "Accuracy:  0.6985058697972252\n",
            "Precision:  0.8016717325227963\n",
            "Recall:  0.7763061074319353\n",
            "f1_score:  0.7763061074319353\n",
            "AUC:  0.6347549954635405\n",
            "----------------------------------------------------------------------\n",
            "Metrics for Random Forrest: \n",
            "Metricas en el set de prueba...\n",
            "Accuracy:  0.7225186766275347\n",
            "Precision:  0.8161266013564431\n",
            "Recall:  0.7969094922737306\n",
            "f1_score:  0.7969094922737306\n",
            "AUC:  0.6615615422533702\n",
            "----------------------------------------------------------------------\n"
          ],
          "name": "stdout"
        }
      ]
    },
    {
      "cell_type": "markdown",
      "metadata": {
        "id": "Qcfr5HBvrSLb"
      },
      "source": [
        "## Función para la obtención automática de datos normalizados y particionados por entrenamiento y prueba.\n",
        "\n",
        "Las siguientes funciones nos fueron de gran utilidad para el preprocesamiento de los datos antes de aplicar algoritmos de redes neuronales:\n"
      ]
    },
    {
      "cell_type": "code",
      "metadata": {
        "id": "RqhB2gWMreeZ"
      },
      "source": [
        "def process_data():\n",
        "  #Cargar el dataset.\n",
        "  data = pd.read_csv('/content/drive/MyDrive/Dataset Proyecto/Bedu_Proyecto_Modulo_4/Dataset_limpio.csv', index_col=0)\n",
        "\n",
        "  #Remover columnas inecesarias.\n",
        "  data_clean = data.drop(columns = ['App', 'Rating_del_contenido', 'Ultimo_updated', 'Anio_ultimo_updated','Version_actual', 'Version_Android'])\n",
        "  #expanded = pd.get_dummies(data = data_clean, columns = ['Categoria'])\n",
        "\n",
        "  #Normalizar valores a un rango entre 0 y 1.\n",
        "  col_norm = ['Tamanio_MB',\t'Instalaciones_minimas_estimadas', 'Precio']\n",
        "  df_norm = data_clean[col_norm]\n",
        "  df_norm_v = data_clean[col_norm].apply(lambda x: ((x-x.min()) / (x.max()-x.min())))\n",
        "  y_data = data_clean['Exito_app']\n",
        "\n",
        "  #Obtener datos de entrenamiento y prueba.\n",
        "  x_train, x_test, y_train, y_test = train_test_split(df_norm_v, y_data, test_size = 0.4, random_state = 24)\n",
        "  return x_train, x_test, y_train, y_test"
      ],
      "execution_count": null,
      "outputs": []
    },
    {
      "cell_type": "markdown",
      "metadata": {
        "id": "T9GKEgjdtAyJ"
      },
      "source": [
        "## Función para la obtención automática del mapa de caracteristicas del dataset."
      ]
    },
    {
      "cell_type": "code",
      "metadata": {
        "id": "_QFbe2Z1tQlS"
      },
      "source": [
        "def crear_columnas_caracteristicas():\n",
        "  feature_tamanio = tf.feature_column.numeric_column('Tamanio_MB')\n",
        "  feature_instalaciones_minimas = tf.feature_column.numeric_column('Instalaciones_minimas_estimadas')\n",
        "  feature_precio = tf.feature_column.numeric_column('Precio')\n",
        "\n",
        "  feature_columns = [feature_tamanio, feature_instalaciones_minimas, feature_precio]\n",
        "  return feature_columns"
      ],
      "execution_count": null,
      "outputs": []
    },
    {
      "cell_type": "markdown",
      "metadata": {
        "id": "6tJsWyvZtnzk"
      },
      "source": [
        "## Constructor de funcion de entrada."
      ]
    },
    {
      "cell_type": "code",
      "metadata": {
        "id": "p_F7ZlYdtmoM"
      },
      "source": [
        "def make_input_fn(data_df, label_df, num_epochs = 1000, shuffle = True, batch_size = 32):\n",
        "  def input_function(): #Funcion interna, esta sera regresada.\n",
        "    ds = tf.data.Dataset.from_tensor_slices((dict(data_df), label_df))\n",
        "    if shuffle:\n",
        "      ds = ds.shuffle(1000) #Aleatorizar el orden de los datos.\n",
        "    ds = ds.batch(batch_size).repeat(num_epochs)  #Separar el conjunto de datos en lotes de 32 y repetir el proceso por el numero de epochs.\n",
        "    return ds #Regresar un lote del dataset.\n",
        "  return input_function #Regresar un objeto de la funcion para su uso."
      ],
      "execution_count": null,
      "outputs": []
    },
    {
      "cell_type": "markdown",
      "metadata": {
        "id": "pZS6rkjdVKKw"
      },
      "source": [
        "## Redes Neuronales"
      ]
    },
    {
      "cell_type": "code",
      "metadata": {
        "id": "QY4i1t9FVph2"
      },
      "source": [
        "import pandas as pd\n",
        "import numpy as np\n",
        "import matplotlib.pyplot as plt\n",
        "from IPython.display import clear_output\n",
        "from sklearn.model_selection import train_test_split\n",
        "from sklearn.metrics import roc_auc_score\n",
        "\n",
        "#Tensorflow related.\n",
        "import tensorflow as tf\n",
        "import tensorflow.compat.v2.feature_column as fc\n",
        "from tensorflow import keras\n",
        "%tensorflow_version 2.x"
      ],
      "execution_count": null,
      "outputs": []
    },
    {
      "cell_type": "code",
      "metadata": {
        "colab": {
          "base_uri": "https://localhost:8080/",
          "height": 413
        },
        "id": "z7sbKmDghKmN",
        "outputId": "ad429e39-2c50-4a8f-894b-c7e2a8d5b3f2"
      },
      "source": [
        "#Cargar el dataset.\n",
        "data = pd.read_csv('/content/drive/MyDrive/Dataset Proyecto/Bedu_Proyecto_Modulo_4/Dataset_limpio.csv', index_col=0)\n",
        "(pd.concat([data.head(2), data.tail(2)], axis=0, ignore_index=True)) #(9366, 15)"
      ],
      "execution_count": null,
      "outputs": [
        {
          "output_type": "execute_result",
          "data": {
            "text/html": [
              "<div>\n",
              "<style scoped>\n",
              "    .dataframe tbody tr th:only-of-type {\n",
              "        vertical-align: middle;\n",
              "    }\n",
              "\n",
              "    .dataframe tbody tr th {\n",
              "        vertical-align: top;\n",
              "    }\n",
              "\n",
              "    .dataframe thead th {\n",
              "        text-align: right;\n",
              "    }\n",
              "</style>\n",
              "<table border=\"1\" class=\"dataframe\">\n",
              "  <thead>\n",
              "    <tr style=\"text-align: right;\">\n",
              "      <th></th>\n",
              "      <th>App</th>\n",
              "      <th>Categoria</th>\n",
              "      <th>Reviews</th>\n",
              "      <th>Tamanio_MB</th>\n",
              "      <th>Instalaciones_minimas_estimadas</th>\n",
              "      <th>App_gratuita</th>\n",
              "      <th>App_pago</th>\n",
              "      <th>Precio</th>\n",
              "      <th>Rating_del_contenido</th>\n",
              "      <th>Ultimo_updated</th>\n",
              "      <th>Anio_ultimo_updated</th>\n",
              "      <th>Version_actual</th>\n",
              "      <th>Version_Android</th>\n",
              "      <th>Rating</th>\n",
              "      <th>Exito_app</th>\n",
              "    </tr>\n",
              "  </thead>\n",
              "  <tbody>\n",
              "    <tr>\n",
              "      <th>0</th>\n",
              "      <td>Photo Editor &amp; Candy Camera &amp; Grid &amp; ScrapBook</td>\n",
              "      <td>ART_AND_DESIGN</td>\n",
              "      <td>159</td>\n",
              "      <td>19.0</td>\n",
              "      <td>10000</td>\n",
              "      <td>1</td>\n",
              "      <td>0</td>\n",
              "      <td>0.0</td>\n",
              "      <td>Everyone</td>\n",
              "      <td>January 7, 2018</td>\n",
              "      <td>2018</td>\n",
              "      <td>1.0.0</td>\n",
              "      <td>4.0.3 and up</td>\n",
              "      <td>4.1</td>\n",
              "      <td>1</td>\n",
              "    </tr>\n",
              "    <tr>\n",
              "      <th>1</th>\n",
              "      <td>Coloring book moana</td>\n",
              "      <td>ART_AND_DESIGN</td>\n",
              "      <td>967</td>\n",
              "      <td>14.0</td>\n",
              "      <td>500000</td>\n",
              "      <td>1</td>\n",
              "      <td>0</td>\n",
              "      <td>0.0</td>\n",
              "      <td>Everyone</td>\n",
              "      <td>January 15, 2018</td>\n",
              "      <td>2018</td>\n",
              "      <td>2.0.0</td>\n",
              "      <td>4.0.3 and up</td>\n",
              "      <td>3.9</td>\n",
              "      <td>0</td>\n",
              "    </tr>\n",
              "    <tr>\n",
              "      <th>2</th>\n",
              "      <td>The SCP Foundation DB fr nn5n</td>\n",
              "      <td>BOOKS_AND_REFERENCE</td>\n",
              "      <td>114</td>\n",
              "      <td>7.4</td>\n",
              "      <td>1000</td>\n",
              "      <td>1</td>\n",
              "      <td>0</td>\n",
              "      <td>0.0</td>\n",
              "      <td>Mature 17+</td>\n",
              "      <td>January 19, 2015</td>\n",
              "      <td>2015</td>\n",
              "      <td>Varies with device</td>\n",
              "      <td>Varies with device</td>\n",
              "      <td>4.5</td>\n",
              "      <td>1</td>\n",
              "    </tr>\n",
              "    <tr>\n",
              "      <th>3</th>\n",
              "      <td>iHoroscope - 2018 Daily Horoscope &amp; Astrology</td>\n",
              "      <td>LIFESTYLE</td>\n",
              "      <td>398307</td>\n",
              "      <td>19.0</td>\n",
              "      <td>10000000</td>\n",
              "      <td>1</td>\n",
              "      <td>0</td>\n",
              "      <td>0.0</td>\n",
              "      <td>Everyone</td>\n",
              "      <td>July 25, 2018</td>\n",
              "      <td>2018</td>\n",
              "      <td>Varies with device</td>\n",
              "      <td>Varies with device</td>\n",
              "      <td>4.5</td>\n",
              "      <td>1</td>\n",
              "    </tr>\n",
              "  </tbody>\n",
              "</table>\n",
              "</div>"
            ],
            "text/plain": [
              "                                              App  ... Exito_app\n",
              "0  Photo Editor & Candy Camera & Grid & ScrapBook  ...         1\n",
              "1                             Coloring book moana  ...         0\n",
              "2                   The SCP Foundation DB fr nn5n  ...         1\n",
              "3   iHoroscope - 2018 Daily Horoscope & Astrology  ...         1\n",
              "\n",
              "[4 rows x 15 columns]"
            ]
          },
          "metadata": {
            "tags": []
          },
          "execution_count": 6
        }
      ]
    },
    {
      "cell_type": "markdown",
      "metadata": {
        "id": "f8moLaPwhktY"
      },
      "source": [
        "### Remover columnas inecesarias."
      ]
    },
    {
      "cell_type": "code",
      "metadata": {
        "colab": {
          "base_uri": "https://localhost:8080/",
          "height": 98
        },
        "id": "uSf8UR_nhp40",
        "outputId": "30ca6286-68e5-41ce-b23a-53353ca5839e"
      },
      "source": [
        "#Remover columnas inecesarias.\n",
        "data_clean = data.drop(columns = ['App', 'Rating_del_contenido', 'Ultimo_updated', 'Anio_ultimo_updated','Version_actual', 'Version_Android'])\n",
        "expanded = pd.get_dummies(data = data_clean, columns = ['Categoria'])\n",
        "expanded.head(1)"
      ],
      "execution_count": null,
      "outputs": [
        {
          "output_type": "execute_result",
          "data": {
            "text/html": [
              "<div>\n",
              "<style scoped>\n",
              "    .dataframe tbody tr th:only-of-type {\n",
              "        vertical-align: middle;\n",
              "    }\n",
              "\n",
              "    .dataframe tbody tr th {\n",
              "        vertical-align: top;\n",
              "    }\n",
              "\n",
              "    .dataframe thead th {\n",
              "        text-align: right;\n",
              "    }\n",
              "</style>\n",
              "<table border=\"1\" class=\"dataframe\">\n",
              "  <thead>\n",
              "    <tr style=\"text-align: right;\">\n",
              "      <th></th>\n",
              "      <th>Reviews</th>\n",
              "      <th>Tamanio_MB</th>\n",
              "      <th>Instalaciones_minimas_estimadas</th>\n",
              "      <th>App_gratuita</th>\n",
              "      <th>App_pago</th>\n",
              "      <th>Precio</th>\n",
              "      <th>Rating</th>\n",
              "      <th>Exito_app</th>\n",
              "      <th>Categoria_ART_AND_DESIGN</th>\n",
              "      <th>Categoria_AUTO_AND_VEHICLES</th>\n",
              "      <th>Categoria_BEAUTY</th>\n",
              "      <th>Categoria_BOOKS_AND_REFERENCE</th>\n",
              "      <th>Categoria_BUSINESS</th>\n",
              "      <th>Categoria_COMICS</th>\n",
              "      <th>Categoria_COMMUNICATION</th>\n",
              "      <th>Categoria_DATING</th>\n",
              "      <th>Categoria_EDUCATION</th>\n",
              "      <th>Categoria_ENTERTAINMENT</th>\n",
              "      <th>Categoria_EVENTS</th>\n",
              "      <th>Categoria_FAMILY</th>\n",
              "      <th>Categoria_FINANCE</th>\n",
              "      <th>Categoria_FOOD_AND_DRINK</th>\n",
              "      <th>Categoria_GAME</th>\n",
              "      <th>Categoria_HEALTH_AND_FITNESS</th>\n",
              "      <th>Categoria_HOUSE_AND_HOME</th>\n",
              "      <th>Categoria_LIBRARIES_AND_DEMO</th>\n",
              "      <th>Categoria_LIFESTYLE</th>\n",
              "      <th>Categoria_MAPS_AND_NAVIGATION</th>\n",
              "      <th>Categoria_MEDICAL</th>\n",
              "      <th>Categoria_NEWS_AND_MAGAZINES</th>\n",
              "      <th>Categoria_PARENTING</th>\n",
              "      <th>Categoria_PERSONALIZATION</th>\n",
              "      <th>Categoria_PHOTOGRAPHY</th>\n",
              "      <th>Categoria_PRODUCTIVITY</th>\n",
              "      <th>Categoria_SHOPPING</th>\n",
              "      <th>Categoria_SOCIAL</th>\n",
              "      <th>Categoria_SPORTS</th>\n",
              "      <th>Categoria_TOOLS</th>\n",
              "      <th>Categoria_TRAVEL_AND_LOCAL</th>\n",
              "      <th>Categoria_VIDEO_PLAYERS</th>\n",
              "      <th>Categoria_WEATHER</th>\n",
              "    </tr>\n",
              "  </thead>\n",
              "  <tbody>\n",
              "    <tr>\n",
              "      <th>0</th>\n",
              "      <td>159</td>\n",
              "      <td>19.0</td>\n",
              "      <td>10000</td>\n",
              "      <td>1</td>\n",
              "      <td>0</td>\n",
              "      <td>0.0</td>\n",
              "      <td>4.1</td>\n",
              "      <td>1</td>\n",
              "      <td>1</td>\n",
              "      <td>0</td>\n",
              "      <td>0</td>\n",
              "      <td>0</td>\n",
              "      <td>0</td>\n",
              "      <td>0</td>\n",
              "      <td>0</td>\n",
              "      <td>0</td>\n",
              "      <td>0</td>\n",
              "      <td>0</td>\n",
              "      <td>0</td>\n",
              "      <td>0</td>\n",
              "      <td>0</td>\n",
              "      <td>0</td>\n",
              "      <td>0</td>\n",
              "      <td>0</td>\n",
              "      <td>0</td>\n",
              "      <td>0</td>\n",
              "      <td>0</td>\n",
              "      <td>0</td>\n",
              "      <td>0</td>\n",
              "      <td>0</td>\n",
              "      <td>0</td>\n",
              "      <td>0</td>\n",
              "      <td>0</td>\n",
              "      <td>0</td>\n",
              "      <td>0</td>\n",
              "      <td>0</td>\n",
              "      <td>0</td>\n",
              "      <td>0</td>\n",
              "      <td>0</td>\n",
              "      <td>0</td>\n",
              "      <td>0</td>\n",
              "    </tr>\n",
              "  </tbody>\n",
              "</table>\n",
              "</div>"
            ],
            "text/plain": [
              "   Reviews  Tamanio_MB  ...  Categoria_VIDEO_PLAYERS  Categoria_WEATHER\n",
              "0      159        19.0  ...                        0                  0\n",
              "\n",
              "[1 rows x 41 columns]"
            ]
          },
          "metadata": {
            "tags": []
          },
          "execution_count": 7
        }
      ]
    },
    {
      "cell_type": "markdown",
      "metadata": {
        "id": "zYZYv4bRhrhQ"
      },
      "source": [
        "### Normalizacion."
      ]
    },
    {
      "cell_type": "code",
      "metadata": {
        "colab": {
          "base_uri": "https://localhost:8080/",
          "height": 348
        },
        "id": "l_eoWQFqhwFU",
        "outputId": "a3cf6e19-5f35-4fb4-ba03-ed67a0b83454"
      },
      "source": [
        "col_norm = ['Tamanio_MB',\t'Instalaciones_minimas_estimadas', 'Precio']\n",
        "df_norm = data_clean[col_norm]\n",
        "df_norm_v = data_clean[col_norm].apply(lambda x: ((x-x.min()) / (x.max()-x.min())))\n",
        "y_data = data_clean['Exito_app']\n",
        "df_norm_v.head(10)"
      ],
      "execution_count": null,
      "outputs": [
        {
          "output_type": "execute_result",
          "data": {
            "text/html": [
              "<div>\n",
              "<style scoped>\n",
              "    .dataframe tbody tr th:only-of-type {\n",
              "        vertical-align: middle;\n",
              "    }\n",
              "\n",
              "    .dataframe tbody tr th {\n",
              "        vertical-align: top;\n",
              "    }\n",
              "\n",
              "    .dataframe thead th {\n",
              "        text-align: right;\n",
              "    }\n",
              "</style>\n",
              "<table border=\"1\" class=\"dataframe\">\n",
              "  <thead>\n",
              "    <tr style=\"text-align: right;\">\n",
              "      <th></th>\n",
              "      <th>Tamanio_MB</th>\n",
              "      <th>Instalaciones_minimas_estimadas</th>\n",
              "      <th>Precio</th>\n",
              "    </tr>\n",
              "  </thead>\n",
              "  <tbody>\n",
              "    <tr>\n",
              "      <th>0</th>\n",
              "      <td>0.189937</td>\n",
              "      <td>0.00001</td>\n",
              "      <td>0.0</td>\n",
              "    </tr>\n",
              "    <tr>\n",
              "      <th>1</th>\n",
              "      <td>0.139933</td>\n",
              "      <td>0.00050</td>\n",
              "      <td>0.0</td>\n",
              "    </tr>\n",
              "    <tr>\n",
              "      <th>2</th>\n",
              "      <td>0.086929</td>\n",
              "      <td>0.00500</td>\n",
              "      <td>0.0</td>\n",
              "    </tr>\n",
              "    <tr>\n",
              "      <th>3</th>\n",
              "      <td>0.249941</td>\n",
              "      <td>0.05000</td>\n",
              "      <td>0.0</td>\n",
              "    </tr>\n",
              "    <tr>\n",
              "      <th>4</th>\n",
              "      <td>0.027924</td>\n",
              "      <td>0.00010</td>\n",
              "      <td>0.0</td>\n",
              "    </tr>\n",
              "    <tr>\n",
              "      <th>5</th>\n",
              "      <td>0.055926</td>\n",
              "      <td>0.00005</td>\n",
              "      <td>0.0</td>\n",
              "    </tr>\n",
              "    <tr>\n",
              "      <th>6</th>\n",
              "      <td>0.189937</td>\n",
              "      <td>0.00005</td>\n",
              "      <td>0.0</td>\n",
              "    </tr>\n",
              "    <tr>\n",
              "      <th>7</th>\n",
              "      <td>0.289945</td>\n",
              "      <td>0.00100</td>\n",
              "      <td>0.0</td>\n",
              "    </tr>\n",
              "    <tr>\n",
              "      <th>8</th>\n",
              "      <td>0.329948</td>\n",
              "      <td>0.00100</td>\n",
              "      <td>0.0</td>\n",
              "    </tr>\n",
              "    <tr>\n",
              "      <th>9</th>\n",
              "      <td>0.030924</td>\n",
              "      <td>0.00001</td>\n",
              "      <td>0.0</td>\n",
              "    </tr>\n",
              "  </tbody>\n",
              "</table>\n",
              "</div>"
            ],
            "text/plain": [
              "   Tamanio_MB  Instalaciones_minimas_estimadas  Precio\n",
              "0    0.189937                          0.00001     0.0\n",
              "1    0.139933                          0.00050     0.0\n",
              "2    0.086929                          0.00500     0.0\n",
              "3    0.249941                          0.05000     0.0\n",
              "4    0.027924                          0.00010     0.0\n",
              "5    0.055926                          0.00005     0.0\n",
              "6    0.189937                          0.00005     0.0\n",
              "7    0.289945                          0.00100     0.0\n",
              "8    0.329948                          0.00100     0.0\n",
              "9    0.030924                          0.00001     0.0"
            ]
          },
          "metadata": {
            "tags": []
          },
          "execution_count": 32
        }
      ]
    },
    {
      "cell_type": "markdown",
      "metadata": {
        "id": "f6lD2Vuzh4aG"
      },
      "source": [
        "### Definir columnas de caracteristicas."
      ]
    },
    {
      "cell_type": "code",
      "metadata": {
        "id": "myO1T1yOiAw1"
      },
      "source": [
        "feature_tamanio = tf.feature_column.numeric_column('Tamanio_MB')\n",
        "feature_instalaciones_minimas = tf.feature_column.numeric_column('Instalaciones_minimas_estimadas')\n",
        "feature_precio = tf.feature_column.numeric_column('Precio')\n",
        "#feature_rating = tf.feature_column.numeric_column('Rating')\n",
        "\n",
        "feature_columns = [feature_tamanio, feature_instalaciones_minimas, feature_precio]"
      ],
      "execution_count": null,
      "outputs": []
    },
    {
      "cell_type": "code",
      "metadata": {
        "id": "RNVTmsqKufNC"
      },
      "source": [
        "x_train, x_test, y_train, y_test = train_test_split(df_norm_v, y_data, test_size = 0.4, random_state = 24)\n",
        "train_function = make_input_fn(x_train, y_train)\n",
        "test_function = make_input_fn(x_test, y_test, num_epochs=1)"
      ],
      "execution_count": null,
      "outputs": []
    },
    {
      "cell_type": "markdown",
      "metadata": {
        "id": "17fJEzl0iUe3"
      },
      "source": [
        "### Clasificador lineal."
      ]
    },
    {
      "cell_type": "code",
      "metadata": {
        "colab": {
          "base_uri": "https://localhost:8080/"
        },
        "id": "EsB3QKD0iaDO",
        "outputId": "d8812ef7-c106-48c0-9af7-e2aa6905a12d"
      },
      "source": [
        "modelo = tf.estimator.LinearClassifier(feature_columns=feature_columns, n_classes=2)"
      ],
      "execution_count": null,
      "outputs": [
        {
          "output_type": "stream",
          "text": [
            "INFO:tensorflow:Using default config.\n",
            "WARNING:tensorflow:Using temporary folder as model directory: /tmp/tmp7i3z6qpl\n",
            "INFO:tensorflow:Using config: {'_model_dir': '/tmp/tmp7i3z6qpl', '_tf_random_seed': None, '_save_summary_steps': 100, '_save_checkpoints_steps': None, '_save_checkpoints_secs': 600, '_session_config': allow_soft_placement: true\n",
            "graph_options {\n",
            "  rewrite_options {\n",
            "    meta_optimizer_iterations: ONE\n",
            "  }\n",
            "}\n",
            ", '_keep_checkpoint_max': 5, '_keep_checkpoint_every_n_hours': 10000, '_log_step_count_steps': 100, '_train_distribute': None, '_device_fn': None, '_protocol': None, '_eval_distribute': None, '_experimental_distribute': None, '_experimental_max_worker_delay_secs': None, '_session_creation_timeout_secs': 7200, '_checkpoint_save_graph_def': True, '_service': None, '_cluster_spec': ClusterSpec({}), '_task_type': 'worker', '_task_id': 0, '_global_id_in_cluster': 0, '_master': '', '_evaluation_master': '', '_is_chief': True, '_num_ps_replicas': 0, '_num_worker_replicas': 1}\n"
          ],
          "name": "stdout"
        }
      ]
    },
    {
      "cell_type": "markdown",
      "metadata": {
        "id": "1V10uBZDifDI"
      },
      "source": [
        "### Entrenar el modelo."
      ]
    },
    {
      "cell_type": "code",
      "metadata": {
        "colab": {
          "base_uri": "https://localhost:8080/"
        },
        "id": "GAd7E4YRiij_",
        "outputId": "527848ce-9f22-4f24-b398-95adc6a8fff9"
      },
      "source": [
        "modelo.train(input_fn=train_function, steps=10000)"
      ],
      "execution_count": null,
      "outputs": [
        {
          "output_type": "stream",
          "text": [
            "INFO:tensorflow:Calling model_fn.\n"
          ],
          "name": "stdout"
        },
        {
          "output_type": "stream",
          "text": [
            "/usr/local/lib/python3.7/dist-packages/tensorflow/python/keras/engine/base_layer_v1.py:1700: UserWarning: `layer.add_variable` is deprecated and will be removed in a future version. Please use `layer.add_weight` method instead.\n",
            "  warnings.warn('`layer.add_variable` is deprecated and '\n"
          ],
          "name": "stderr"
        },
        {
          "output_type": "stream",
          "text": [
            "INFO:tensorflow:Done calling model_fn.\n",
            "INFO:tensorflow:Create CheckpointSaverHook.\n",
            "INFO:tensorflow:Graph was finalized.\n",
            "INFO:tensorflow:Restoring parameters from /tmp/tmp7i3z6qpl/model.ckpt-8000\n",
            "INFO:tensorflow:Running local_init_op.\n",
            "INFO:tensorflow:Done running local_init_op.\n",
            "INFO:tensorflow:Calling checkpoint listeners before saving checkpoint 8000...\n",
            "INFO:tensorflow:Saving checkpoints for 8000 into /tmp/tmp7i3z6qpl/model.ckpt.\n",
            "INFO:tensorflow:Calling checkpoint listeners after saving checkpoint 8000...\n",
            "INFO:tensorflow:loss = 0.72042805, step = 8000\n",
            "INFO:tensorflow:global_step/sec: 550.485\n",
            "INFO:tensorflow:loss = 0.44830984, step = 8100 (0.187 sec)\n",
            "INFO:tensorflow:global_step/sec: 993.179\n",
            "INFO:tensorflow:loss = 0.60950166, step = 8200 (0.097 sec)\n",
            "INFO:tensorflow:global_step/sec: 976.312\n",
            "INFO:tensorflow:loss = 0.6846503, step = 8300 (0.103 sec)\n",
            "INFO:tensorflow:global_step/sec: 862.27\n",
            "INFO:tensorflow:loss = 0.58164537, step = 8400 (0.118 sec)\n",
            "INFO:tensorflow:global_step/sec: 890.448\n",
            "INFO:tensorflow:loss = 0.6380211, step = 8500 (0.110 sec)\n",
            "INFO:tensorflow:global_step/sec: 943.257\n",
            "INFO:tensorflow:loss = 0.5754088, step = 8600 (0.106 sec)\n",
            "INFO:tensorflow:global_step/sec: 777.44\n",
            "INFO:tensorflow:loss = 0.6241611, step = 8700 (0.133 sec)\n",
            "INFO:tensorflow:global_step/sec: 825.581\n",
            "INFO:tensorflow:loss = 0.55750334, step = 8800 (0.116 sec)\n",
            "INFO:tensorflow:global_step/sec: 870.236\n",
            "INFO:tensorflow:loss = 0.5044469, step = 8900 (0.118 sec)\n",
            "INFO:tensorflow:global_step/sec: 902.976\n",
            "INFO:tensorflow:loss = 0.5929646, step = 9000 (0.112 sec)\n",
            "INFO:tensorflow:global_step/sec: 860.391\n",
            "INFO:tensorflow:loss = 0.6411511, step = 9100 (0.115 sec)\n",
            "INFO:tensorflow:global_step/sec: 849.927\n",
            "INFO:tensorflow:loss = 0.6147834, step = 9200 (0.117 sec)\n",
            "INFO:tensorflow:global_step/sec: 879.984\n",
            "INFO:tensorflow:loss = 0.71353513, step = 9300 (0.117 sec)\n",
            "INFO:tensorflow:global_step/sec: 949.52\n",
            "INFO:tensorflow:loss = 0.4995664, step = 9400 (0.100 sec)\n",
            "INFO:tensorflow:global_step/sec: 908.594\n",
            "INFO:tensorflow:loss = 0.631588, step = 9500 (0.109 sec)\n",
            "INFO:tensorflow:global_step/sec: 850.383\n",
            "INFO:tensorflow:loss = 0.6001905, step = 9600 (0.120 sec)\n",
            "INFO:tensorflow:global_step/sec: 904.885\n",
            "INFO:tensorflow:loss = 0.58980834, step = 9700 (0.111 sec)\n",
            "INFO:tensorflow:global_step/sec: 899.448\n",
            "INFO:tensorflow:loss = 0.46923542, step = 9800 (0.111 sec)\n",
            "INFO:tensorflow:global_step/sec: 952.171\n",
            "INFO:tensorflow:loss = 0.64847374, step = 9900 (0.105 sec)\n",
            "INFO:tensorflow:global_step/sec: 945.485\n",
            "INFO:tensorflow:loss = 0.64038706, step = 10000 (0.106 sec)\n",
            "INFO:tensorflow:global_step/sec: 941.07\n",
            "INFO:tensorflow:loss = 0.62313014, step = 10100 (0.104 sec)\n",
            "INFO:tensorflow:global_step/sec: 978.999\n",
            "INFO:tensorflow:loss = 0.48104355, step = 10200 (0.101 sec)\n",
            "INFO:tensorflow:global_step/sec: 864.153\n",
            "INFO:tensorflow:loss = 0.5432122, step = 10300 (0.119 sec)\n",
            "INFO:tensorflow:global_step/sec: 916.003\n",
            "INFO:tensorflow:loss = 0.5106771, step = 10400 (0.106 sec)\n",
            "INFO:tensorflow:global_step/sec: 860.587\n",
            "INFO:tensorflow:loss = 0.6774776, step = 10500 (0.120 sec)\n",
            "INFO:tensorflow:global_step/sec: 951.918\n",
            "INFO:tensorflow:loss = 0.5336876, step = 10600 (0.101 sec)\n",
            "INFO:tensorflow:global_step/sec: 934.202\n",
            "INFO:tensorflow:loss = 0.47534806, step = 10700 (0.107 sec)\n",
            "INFO:tensorflow:global_step/sec: 935.091\n",
            "INFO:tensorflow:loss = 0.5704114, step = 10800 (0.107 sec)\n",
            "INFO:tensorflow:global_step/sec: 935.191\n",
            "INFO:tensorflow:loss = 0.64663553, step = 10900 (0.110 sec)\n",
            "INFO:tensorflow:global_step/sec: 893.513\n",
            "INFO:tensorflow:loss = 0.5903503, step = 11000 (0.109 sec)\n",
            "INFO:tensorflow:global_step/sec: 916.393\n",
            "INFO:tensorflow:loss = 0.48179603, step = 11100 (0.109 sec)\n",
            "INFO:tensorflow:global_step/sec: 911.964\n",
            "INFO:tensorflow:loss = 0.65681213, step = 11200 (0.113 sec)\n",
            "INFO:tensorflow:global_step/sec: 805.361\n",
            "INFO:tensorflow:loss = 0.58331245, step = 11300 (0.120 sec)\n",
            "INFO:tensorflow:global_step/sec: 837.578\n",
            "INFO:tensorflow:loss = 0.49687555, step = 11400 (0.123 sec)\n",
            "INFO:tensorflow:global_step/sec: 964.751\n",
            "INFO:tensorflow:loss = 0.5343796, step = 11500 (0.101 sec)\n",
            "INFO:tensorflow:global_step/sec: 908.143\n",
            "INFO:tensorflow:loss = 0.49193123, step = 11600 (0.110 sec)\n",
            "INFO:tensorflow:global_step/sec: 938.934\n",
            "INFO:tensorflow:loss = 0.6202532, step = 11700 (0.107 sec)\n",
            "INFO:tensorflow:global_step/sec: 918.512\n",
            "INFO:tensorflow:loss = 0.6067752, step = 11800 (0.108 sec)\n",
            "INFO:tensorflow:global_step/sec: 988.102\n",
            "INFO:tensorflow:loss = 0.3267163, step = 11900 (0.101 sec)\n",
            "INFO:tensorflow:global_step/sec: 736.175\n",
            "INFO:tensorflow:loss = 0.69252723, step = 12000 (0.138 sec)\n",
            "INFO:tensorflow:global_step/sec: 862.461\n",
            "INFO:tensorflow:loss = 0.5941915, step = 12100 (0.113 sec)\n",
            "INFO:tensorflow:global_step/sec: 937.57\n",
            "INFO:tensorflow:loss = 0.51680255, step = 12200 (0.107 sec)\n",
            "INFO:tensorflow:global_step/sec: 920.322\n",
            "INFO:tensorflow:loss = 0.5700175, step = 12300 (0.109 sec)\n",
            "INFO:tensorflow:global_step/sec: 921.649\n",
            "INFO:tensorflow:loss = 0.4984234, step = 12400 (0.111 sec)\n",
            "INFO:tensorflow:global_step/sec: 966.311\n",
            "INFO:tensorflow:loss = 0.5562572, step = 12500 (0.101 sec)\n",
            "INFO:tensorflow:global_step/sec: 955.616\n",
            "INFO:tensorflow:loss = 0.5672941, step = 12600 (0.108 sec)\n",
            "INFO:tensorflow:global_step/sec: 906.561\n",
            "INFO:tensorflow:loss = 0.59395504, step = 12700 (0.107 sec)\n",
            "INFO:tensorflow:global_step/sec: 863.157\n",
            "INFO:tensorflow:loss = 0.6066573, step = 12800 (0.120 sec)\n",
            "INFO:tensorflow:global_step/sec: 847.81\n",
            "INFO:tensorflow:loss = 0.47416383, step = 12900 (0.114 sec)\n",
            "INFO:tensorflow:global_step/sec: 908.757\n",
            "INFO:tensorflow:loss = 0.41739976, step = 13000 (0.110 sec)\n",
            "INFO:tensorflow:global_step/sec: 898.779\n",
            "INFO:tensorflow:loss = 0.52972543, step = 13100 (0.115 sec)\n",
            "INFO:tensorflow:global_step/sec: 798.726\n",
            "INFO:tensorflow:loss = 0.5428368, step = 13200 (0.122 sec)\n",
            "INFO:tensorflow:global_step/sec: 963.565\n",
            "INFO:tensorflow:loss = 0.6103831, step = 13300 (0.103 sec)\n",
            "INFO:tensorflow:global_step/sec: 896.702\n",
            "INFO:tensorflow:loss = 0.77440923, step = 13400 (0.115 sec)\n",
            "INFO:tensorflow:global_step/sec: 931.61\n",
            "INFO:tensorflow:loss = 0.5878677, step = 13500 (0.107 sec)\n",
            "INFO:tensorflow:global_step/sec: 891.572\n",
            "INFO:tensorflow:loss = 0.5915743, step = 13600 (0.112 sec)\n",
            "INFO:tensorflow:global_step/sec: 858.56\n",
            "INFO:tensorflow:loss = 0.4826787, step = 13700 (0.117 sec)\n",
            "INFO:tensorflow:global_step/sec: 888.242\n",
            "INFO:tensorflow:loss = 0.57872057, step = 13800 (0.108 sec)\n",
            "INFO:tensorflow:global_step/sec: 864.694\n",
            "INFO:tensorflow:loss = 0.5342239, step = 13900 (0.119 sec)\n",
            "INFO:tensorflow:global_step/sec: 803.773\n",
            "INFO:tensorflow:loss = 0.5753243, step = 14000 (0.125 sec)\n",
            "INFO:tensorflow:global_step/sec: 802.543\n",
            "INFO:tensorflow:loss = 0.5397897, step = 14100 (0.125 sec)\n",
            "INFO:tensorflow:global_step/sec: 898.715\n",
            "INFO:tensorflow:loss = 0.5551292, step = 14200 (0.111 sec)\n",
            "INFO:tensorflow:global_step/sec: 930.199\n",
            "INFO:tensorflow:loss = 0.54819536, step = 14300 (0.108 sec)\n",
            "INFO:tensorflow:global_step/sec: 898.005\n",
            "INFO:tensorflow:loss = 0.7870812, step = 14400 (0.111 sec)\n",
            "INFO:tensorflow:global_step/sec: 908.643\n",
            "INFO:tensorflow:loss = 0.6411115, step = 14500 (0.110 sec)\n",
            "INFO:tensorflow:global_step/sec: 930.164\n",
            "INFO:tensorflow:loss = 0.70105356, step = 14600 (0.107 sec)\n",
            "INFO:tensorflow:global_step/sec: 928.332\n",
            "INFO:tensorflow:loss = 0.5363442, step = 14700 (0.107 sec)\n",
            "INFO:tensorflow:global_step/sec: 828.053\n",
            "INFO:tensorflow:loss = 0.5745281, step = 14800 (0.121 sec)\n",
            "INFO:tensorflow:global_step/sec: 870.948\n",
            "INFO:tensorflow:loss = 0.73741543, step = 14900 (0.115 sec)\n",
            "INFO:tensorflow:global_step/sec: 890.821\n",
            "INFO:tensorflow:loss = 0.5688992, step = 15000 (0.113 sec)\n",
            "INFO:tensorflow:global_step/sec: 894.846\n",
            "INFO:tensorflow:loss = 0.6587843, step = 15100 (0.108 sec)\n",
            "INFO:tensorflow:global_step/sec: 892.339\n",
            "INFO:tensorflow:loss = 0.5736747, step = 15200 (0.115 sec)\n",
            "INFO:tensorflow:global_step/sec: 917.783\n",
            "INFO:tensorflow:loss = 0.67079324, step = 15300 (0.105 sec)\n",
            "INFO:tensorflow:global_step/sec: 864.892\n",
            "INFO:tensorflow:loss = 0.5260053, step = 15400 (0.120 sec)\n",
            "INFO:tensorflow:global_step/sec: 852.092\n",
            "INFO:tensorflow:loss = 0.6779305, step = 15500 (0.113 sec)\n",
            "INFO:tensorflow:global_step/sec: 810.141\n",
            "INFO:tensorflow:loss = 0.46268874, step = 15600 (0.131 sec)\n",
            "INFO:tensorflow:global_step/sec: 751.814\n",
            "INFO:tensorflow:loss = 0.5738704, step = 15700 (0.129 sec)\n",
            "INFO:tensorflow:global_step/sec: 885.126\n",
            "INFO:tensorflow:loss = 0.58031934, step = 15800 (0.110 sec)\n",
            "INFO:tensorflow:global_step/sec: 801.895\n",
            "INFO:tensorflow:loss = 0.55016005, step = 15900 (0.128 sec)\n",
            "INFO:tensorflow:global_step/sec: 811.599\n",
            "INFO:tensorflow:loss = 0.55930364, step = 16000 (0.124 sec)\n",
            "INFO:tensorflow:global_step/sec: 866.518\n",
            "INFO:tensorflow:loss = 0.54476047, step = 16100 (0.112 sec)\n",
            "INFO:tensorflow:global_step/sec: 855.192\n",
            "INFO:tensorflow:loss = 0.6328175, step = 16200 (0.117 sec)\n",
            "INFO:tensorflow:global_step/sec: 893.006\n",
            "INFO:tensorflow:loss = 0.41904548, step = 16300 (0.112 sec)\n",
            "INFO:tensorflow:global_step/sec: 855.904\n",
            "INFO:tensorflow:loss = 0.49713233, step = 16400 (0.120 sec)\n",
            "INFO:tensorflow:global_step/sec: 831.637\n",
            "INFO:tensorflow:loss = 0.5468781, step = 16500 (0.117 sec)\n",
            "INFO:tensorflow:global_step/sec: 890.488\n",
            "INFO:tensorflow:loss = 0.579005, step = 16600 (0.112 sec)\n",
            "INFO:tensorflow:global_step/sec: 978.325\n",
            "INFO:tensorflow:loss = 0.6252465, step = 16700 (0.102 sec)\n",
            "INFO:tensorflow:global_step/sec: 769.051\n",
            "INFO:tensorflow:loss = 0.60974246, step = 16800 (0.131 sec)\n",
            "INFO:tensorflow:global_step/sec: 734.193\n",
            "INFO:tensorflow:loss = 0.42654437, step = 16900 (0.139 sec)\n",
            "INFO:tensorflow:global_step/sec: 911.625\n",
            "INFO:tensorflow:loss = 0.5593597, step = 17000 (0.110 sec)\n",
            "INFO:tensorflow:global_step/sec: 918.917\n",
            "INFO:tensorflow:loss = 0.52607626, step = 17100 (0.108 sec)\n",
            "INFO:tensorflow:global_step/sec: 981.585\n",
            "INFO:tensorflow:loss = 0.6051568, step = 17200 (0.102 sec)\n",
            "INFO:tensorflow:global_step/sec: 940.041\n",
            "INFO:tensorflow:loss = 0.54063404, step = 17300 (0.103 sec)\n",
            "INFO:tensorflow:global_step/sec: 894.018\n",
            "INFO:tensorflow:loss = 0.59759307, step = 17400 (0.112 sec)\n",
            "INFO:tensorflow:global_step/sec: 944.097\n",
            "INFO:tensorflow:loss = 0.55033386, step = 17500 (0.109 sec)\n",
            "INFO:tensorflow:global_step/sec: 870.847\n",
            "INFO:tensorflow:loss = 0.5133517, step = 17600 (0.115 sec)\n",
            "INFO:tensorflow:global_step/sec: 813.905\n",
            "INFO:tensorflow:loss = 0.53329253, step = 17700 (0.122 sec)\n",
            "INFO:tensorflow:global_step/sec: 867.98\n",
            "INFO:tensorflow:loss = 0.6116221, step = 17800 (0.116 sec)\n",
            "INFO:tensorflow:global_step/sec: 931.796\n",
            "INFO:tensorflow:loss = 0.64037836, step = 17900 (0.104 sec)\n",
            "INFO:tensorflow:Calling checkpoint listeners before saving checkpoint 18000...\n",
            "INFO:tensorflow:Saving checkpoints for 18000 into /tmp/tmp7i3z6qpl/model.ckpt.\n",
            "INFO:tensorflow:Calling checkpoint listeners after saving checkpoint 18000...\n",
            "INFO:tensorflow:Loss for final step: 0.4863141.\n"
          ],
          "name": "stdout"
        },
        {
          "output_type": "execute_result",
          "data": {
            "text/plain": [
              "<tensorflow_estimator.python.estimator.canned.linear.LinearClassifierV2 at 0x7f2979252750>"
            ]
          },
          "metadata": {
            "tags": []
          },
          "execution_count": 44
        }
      ]
    },
    {
      "cell_type": "markdown",
      "metadata": {
        "id": "klKFSFjNisPt"
      },
      "source": [
        "### Resultados."
      ]
    },
    {
      "cell_type": "markdown",
      "metadata": {
        "id": "9CZewc3uogS5"
      },
      "source": [
        "Para este proceso usando redes neuronales se obtubo un AUC igual a 0.59609205, resultado que mejoró con los cambios en los parámetros del medelo pero no siendo suficiente para mejorar el resultado obtenido con Bosques aleatorios."
      ]
    },
    {
      "cell_type": "code",
      "metadata": {
        "colab": {
          "base_uri": "https://localhost:8080/"
        },
        "id": "LDzm1N7oiuFU",
        "outputId": "1d9eb281-13fc-44c8-c397-814236ca46fa"
      },
      "source": [
        "results = modelo.evaluate(test_function)"
      ],
      "execution_count": null,
      "outputs": [
        {
          "output_type": "stream",
          "text": [
            "INFO:tensorflow:Calling model_fn.\n"
          ],
          "name": "stdout"
        },
        {
          "output_type": "stream",
          "text": [
            "/usr/local/lib/python3.7/dist-packages/tensorflow/python/keras/engine/base_layer_v1.py:1700: UserWarning: `layer.add_variable` is deprecated and will be removed in a future version. Please use `layer.add_weight` method instead.\n",
            "  warnings.warn('`layer.add_variable` is deprecated and '\n"
          ],
          "name": "stderr"
        },
        {
          "output_type": "stream",
          "text": [
            "INFO:tensorflow:Done calling model_fn.\n",
            "INFO:tensorflow:Starting evaluation at 2021-06-19T00:06:06\n",
            "INFO:tensorflow:Graph was finalized.\n",
            "INFO:tensorflow:Restoring parameters from /tmp/tmp7i3z6qpl/model.ckpt-18000\n",
            "INFO:tensorflow:Running local_init_op.\n",
            "INFO:tensorflow:Done running local_init_op.\n",
            "INFO:tensorflow:Inference Time : 0.74095s\n",
            "INFO:tensorflow:Finished evaluation at 2021-06-19-00:06:07\n",
            "INFO:tensorflow:Saving dict for global step 18000: accuracy = 0.72858286, accuracy_baseline = 0.7280491, auc = 0.59609205, auc_precision_recall = 0.79599285, average_loss = 0.58132637, global_step = 18000, label/mean = 0.7280491, loss = 0.5794403, precision = 0.72856, prediction/mean = 0.72791976, recall = 0.99963343\n",
            "INFO:tensorflow:Saving 'checkpoint_path' summary for global step 18000: /tmp/tmp7i3z6qpl/model.ckpt-18000\n"
          ],
          "name": "stdout"
        }
      ]
    },
    {
      "cell_type": "markdown",
      "metadata": {
        "id": "OFGy87VZv1hf"
      },
      "source": [
        "También, el accuracy presentado fue de 0.87, pero tal como el presentado con regresión logística, puede ser engañoso dada la métrica AUC."
      ]
    },
    {
      "cell_type": "code",
      "metadata": {
        "colab": {
          "base_uri": "https://localhost:8080/"
        },
        "id": "SPsjAv5uiy5v",
        "outputId": "45dfe925-5916-4db7-a15a-d152bc473459"
      },
      "source": [
        "results['accuracy']"
      ],
      "execution_count": null,
      "outputs": [
        {
          "output_type": "execute_result",
          "data": {
            "text/plain": [
              "0.8791033"
            ]
          },
          "metadata": {
            "tags": []
          },
          "execution_count": 31
        }
      ]
    },
    {
      "cell_type": "markdown",
      "metadata": {
        "id": "gOKb4PUoqOcH"
      },
      "source": [
        "## Red Neuronal Profunda (DNN)."
      ]
    },
    {
      "cell_type": "code",
      "metadata": {
        "id": "hM04OdIOqdsB"
      },
      "source": [
        "import pandas as pd\n",
        "import numpy as np\n",
        "import matplotlib.pyplot as plt\n",
        "%matplotlib inline\n",
        "\n",
        "from sklearn.model_selection import train_test_split\n",
        "from sklearn.metrics import confusion_matrix, classification_report\n",
        "import scikitplot as skplt\n",
        "\n",
        "#Tensorflow related.\n",
        "import tensorflow as tf\n",
        "import tensorflow.compat.v2.feature_column as fc\n",
        "from tensorflow import keras\n",
        "%tensorflow_version 2.x"
      ],
      "execution_count": null,
      "outputs": []
    },
    {
      "cell_type": "markdown",
      "metadata": {
        "id": "DlvXkPA7t1cf"
      },
      "source": [
        "### Obtener datos base."
      ]
    },
    {
      "cell_type": "code",
      "metadata": {
        "id": "tHKca6Int6Ky"
      },
      "source": [
        "DNNX_Train, DNNX_Test, DNNY_Train, DNNY_Test = process_data()\n",
        "columnas_de_caracteristica = crear_columnas_caracteristicas()\n",
        "\n",
        "DNNtrain_function = make_input_fn(DNNX_Train, DNNY_Train)\n",
        "DNNtest_function = make_input_fn(DNNX_Test, DNNY_Test, num_epochs=1)"
      ],
      "execution_count": null,
      "outputs": []
    },
    {
      "cell_type": "markdown",
      "metadata": {
        "id": "WNsGNsumu-V6"
      },
      "source": [
        "### Crear modelo."
      ]
    },
    {
      "cell_type": "code",
      "metadata": {
        "colab": {
          "base_uri": "https://localhost:8080/"
        },
        "id": "sgNcD__FvC2K",
        "outputId": "5d2d7a34-6b3a-4812-c46d-b562622671f2"
      },
      "source": [
        "dnnmodel = tf.estimator.DNNClassifier(\n",
        "    hidden_units = [20,20],\n",
        "    feature_columns = columnas_de_caracteristica,\n",
        "    n_classes = 2,\n",
        "    activation_fn=tf.nn.softmax,\n",
        "    dropout=None,\n",
        "    optimizer=tf.optimizers.Adam(learning_rate=0.01)\n",
        ")"
      ],
      "execution_count": null,
      "outputs": [
        {
          "output_type": "stream",
          "text": [
            "INFO:tensorflow:Using default config.\n",
            "WARNING:tensorflow:Using temporary folder as model directory: /tmp/tmpuym3rgn7\n",
            "INFO:tensorflow:Using config: {'_model_dir': '/tmp/tmpuym3rgn7', '_tf_random_seed': None, '_save_summary_steps': 100, '_save_checkpoints_steps': None, '_save_checkpoints_secs': 600, '_session_config': allow_soft_placement: true\n",
            "graph_options {\n",
            "  rewrite_options {\n",
            "    meta_optimizer_iterations: ONE\n",
            "  }\n",
            "}\n",
            ", '_keep_checkpoint_max': 5, '_keep_checkpoint_every_n_hours': 10000, '_log_step_count_steps': 100, '_train_distribute': None, '_device_fn': None, '_protocol': None, '_eval_distribute': None, '_experimental_distribute': None, '_experimental_max_worker_delay_secs': None, '_session_creation_timeout_secs': 7200, '_checkpoint_save_graph_def': True, '_service': None, '_cluster_spec': ClusterSpec({}), '_task_type': 'worker', '_task_id': 0, '_global_id_in_cluster': 0, '_master': '', '_evaluation_master': '', '_is_chief': True, '_num_ps_replicas': 0, '_num_worker_replicas': 1}\n"
          ],
          "name": "stdout"
        }
      ]
    },
    {
      "cell_type": "markdown",
      "metadata": {
        "id": "LUvgt0ttvzyL"
      },
      "source": [
        "### Entrenar el modelo."
      ]
    },
    {
      "cell_type": "code",
      "metadata": {
        "colab": {
          "base_uri": "https://localhost:8080/"
        },
        "id": "y38imhM0v8Mi",
        "outputId": "0a9f15af-3581-4246-a7a3-4adf03c6e36c"
      },
      "source": [
        "history = dnnmodel.train(input_fn=DNNtrain_function, steps=10000)"
      ],
      "execution_count": null,
      "outputs": [
        {
          "output_type": "stream",
          "text": [
            "INFO:tensorflow:Calling model_fn.\n",
            "INFO:tensorflow:Done calling model_fn.\n",
            "INFO:tensorflow:Create CheckpointSaverHook.\n",
            "INFO:tensorflow:Graph was finalized.\n",
            "INFO:tensorflow:Running local_init_op.\n",
            "INFO:tensorflow:Done running local_init_op.\n",
            "INFO:tensorflow:Calling checkpoint listeners before saving checkpoint 0...\n",
            "INFO:tensorflow:Saving checkpoints for 0 into /tmp/tmpuym3rgn7/model.ckpt.\n",
            "INFO:tensorflow:Calling checkpoint listeners after saving checkpoint 0...\n",
            "INFO:tensorflow:loss = 0.66605735, step = 0\n",
            "INFO:tensorflow:global_step/sec: 493.453\n",
            "INFO:tensorflow:loss = 0.53106827, step = 100 (0.207 sec)\n",
            "INFO:tensorflow:global_step/sec: 783.259\n",
            "INFO:tensorflow:loss = 0.63064533, step = 200 (0.128 sec)\n",
            "INFO:tensorflow:global_step/sec: 834.819\n",
            "INFO:tensorflow:loss = 0.55996466, step = 300 (0.117 sec)\n",
            "INFO:tensorflow:global_step/sec: 804.709\n",
            "INFO:tensorflow:loss = 0.45071414, step = 400 (0.127 sec)\n",
            "INFO:tensorflow:global_step/sec: 782.302\n",
            "INFO:tensorflow:loss = 0.68594784, step = 500 (0.125 sec)\n",
            "INFO:tensorflow:global_step/sec: 753.153\n",
            "INFO:tensorflow:loss = 0.57166344, step = 600 (0.135 sec)\n",
            "INFO:tensorflow:global_step/sec: 708.64\n",
            "INFO:tensorflow:loss = 0.52887994, step = 700 (0.145 sec)\n",
            "INFO:tensorflow:global_step/sec: 735.621\n",
            "INFO:tensorflow:loss = 0.61455584, step = 800 (0.130 sec)\n",
            "INFO:tensorflow:global_step/sec: 805.199\n",
            "INFO:tensorflow:loss = 0.545886, step = 900 (0.128 sec)\n",
            "INFO:tensorflow:global_step/sec: 758.969\n",
            "INFO:tensorflow:loss = 0.4620176, step = 1000 (0.128 sec)\n",
            "INFO:tensorflow:global_step/sec: 794.82\n",
            "INFO:tensorflow:loss = 0.4969246, step = 1100 (0.125 sec)\n",
            "INFO:tensorflow:global_step/sec: 816.762\n",
            "INFO:tensorflow:loss = 0.5758975, step = 1200 (0.124 sec)\n",
            "INFO:tensorflow:global_step/sec: 809.552\n",
            "INFO:tensorflow:loss = 0.55160743, step = 1300 (0.122 sec)\n",
            "INFO:tensorflow:global_step/sec: 788.842\n",
            "INFO:tensorflow:loss = 0.6578466, step = 1400 (0.127 sec)\n",
            "INFO:tensorflow:global_step/sec: 762.026\n",
            "INFO:tensorflow:loss = 0.5091301, step = 1500 (0.140 sec)\n",
            "INFO:tensorflow:global_step/sec: 767.715\n",
            "INFO:tensorflow:loss = 0.6422488, step = 1600 (0.125 sec)\n",
            "INFO:tensorflow:global_step/sec: 783.894\n",
            "INFO:tensorflow:loss = 0.36616182, step = 1700 (0.124 sec)\n",
            "INFO:tensorflow:global_step/sec: 821.319\n",
            "INFO:tensorflow:loss = 0.42619717, step = 1800 (0.122 sec)\n",
            "INFO:tensorflow:global_step/sec: 807.751\n",
            "INFO:tensorflow:loss = 0.6291949, step = 1900 (0.126 sec)\n",
            "INFO:tensorflow:global_step/sec: 818.388\n",
            "INFO:tensorflow:loss = 0.5526703, step = 2000 (0.124 sec)\n",
            "INFO:tensorflow:global_step/sec: 743.635\n",
            "INFO:tensorflow:loss = 0.45012796, step = 2100 (0.134 sec)\n",
            "INFO:tensorflow:global_step/sec: 806.994\n",
            "INFO:tensorflow:loss = 0.5381787, step = 2200 (0.123 sec)\n",
            "INFO:tensorflow:global_step/sec: 797.011\n",
            "INFO:tensorflow:loss = 0.49316186, step = 2300 (0.127 sec)\n",
            "INFO:tensorflow:global_step/sec: 757.795\n",
            "INFO:tensorflow:loss = 0.5956354, step = 2400 (0.129 sec)\n",
            "INFO:tensorflow:global_step/sec: 829.106\n",
            "INFO:tensorflow:loss = 0.5047485, step = 2500 (0.119 sec)\n",
            "INFO:tensorflow:global_step/sec: 851.936\n",
            "INFO:tensorflow:loss = 0.6020061, step = 2600 (0.122 sec)\n",
            "INFO:tensorflow:global_step/sec: 763.673\n",
            "INFO:tensorflow:loss = 0.5070733, step = 2700 (0.129 sec)\n",
            "INFO:tensorflow:global_step/sec: 690.656\n",
            "INFO:tensorflow:loss = 0.569314, step = 2800 (0.146 sec)\n",
            "INFO:tensorflow:global_step/sec: 742.8\n",
            "INFO:tensorflow:loss = 0.65316695, step = 2900 (0.134 sec)\n",
            "INFO:tensorflow:global_step/sec: 815.365\n",
            "INFO:tensorflow:loss = 0.6961384, step = 3000 (0.123 sec)\n",
            "INFO:tensorflow:global_step/sec: 768.223\n",
            "INFO:tensorflow:loss = 0.67390037, step = 3100 (0.129 sec)\n",
            "INFO:tensorflow:global_step/sec: 772.402\n",
            "INFO:tensorflow:loss = 0.5048676, step = 3200 (0.130 sec)\n",
            "INFO:tensorflow:global_step/sec: 769.666\n",
            "INFO:tensorflow:loss = 0.65126014, step = 3300 (0.131 sec)\n",
            "INFO:tensorflow:global_step/sec: 761.689\n",
            "INFO:tensorflow:loss = 0.5544812, step = 3400 (0.131 sec)\n",
            "INFO:tensorflow:global_step/sec: 757.725\n",
            "INFO:tensorflow:loss = 0.52813476, step = 3500 (0.128 sec)\n",
            "INFO:tensorflow:global_step/sec: 819.975\n",
            "INFO:tensorflow:loss = 0.43086964, step = 3600 (0.125 sec)\n",
            "INFO:tensorflow:global_step/sec: 820.386\n",
            "INFO:tensorflow:loss = 0.5449256, step = 3700 (0.122 sec)\n",
            "INFO:tensorflow:global_step/sec: 786.85\n",
            "INFO:tensorflow:loss = 0.70584935, step = 3800 (0.128 sec)\n",
            "INFO:tensorflow:global_step/sec: 739.305\n",
            "INFO:tensorflow:loss = 0.61967707, step = 3900 (0.134 sec)\n",
            "INFO:tensorflow:global_step/sec: 808.968\n",
            "INFO:tensorflow:loss = 0.47677898, step = 4000 (0.124 sec)\n",
            "INFO:tensorflow:global_step/sec: 805.346\n",
            "INFO:tensorflow:loss = 0.45403296, step = 4100 (0.121 sec)\n",
            "INFO:tensorflow:global_step/sec: 849.942\n",
            "INFO:tensorflow:loss = 0.42982012, step = 4200 (0.121 sec)\n",
            "INFO:tensorflow:global_step/sec: 741.034\n",
            "INFO:tensorflow:loss = 0.57378364, step = 4300 (0.136 sec)\n",
            "INFO:tensorflow:global_step/sec: 807.561\n",
            "INFO:tensorflow:loss = 0.50227135, step = 4400 (0.123 sec)\n",
            "INFO:tensorflow:global_step/sec: 759.949\n",
            "INFO:tensorflow:loss = 0.5499443, step = 4500 (0.131 sec)\n",
            "INFO:tensorflow:global_step/sec: 829.047\n",
            "INFO:tensorflow:loss = 0.5501138, step = 4600 (0.123 sec)\n",
            "INFO:tensorflow:global_step/sec: 782.035\n",
            "INFO:tensorflow:loss = 0.5565388, step = 4700 (0.125 sec)\n",
            "INFO:tensorflow:global_step/sec: 826.075\n",
            "INFO:tensorflow:loss = 0.49771252, step = 4800 (0.121 sec)\n",
            "INFO:tensorflow:global_step/sec: 818.188\n",
            "INFO:tensorflow:loss = 0.6492114, step = 4900 (0.120 sec)\n",
            "INFO:tensorflow:global_step/sec: 841.947\n",
            "INFO:tensorflow:loss = 0.57673335, step = 5000 (0.119 sec)\n",
            "INFO:tensorflow:global_step/sec: 917.415\n",
            "INFO:tensorflow:loss = 0.49407145, step = 5100 (0.109 sec)\n",
            "INFO:tensorflow:global_step/sec: 810.295\n",
            "INFO:tensorflow:loss = 0.5291753, step = 5200 (0.123 sec)\n",
            "INFO:tensorflow:global_step/sec: 784.246\n",
            "INFO:tensorflow:loss = 0.6189008, step = 5300 (0.131 sec)\n",
            "INFO:tensorflow:global_step/sec: 807.261\n",
            "INFO:tensorflow:loss = 0.77539694, step = 5400 (0.124 sec)\n",
            "INFO:tensorflow:global_step/sec: 828.994\n",
            "INFO:tensorflow:loss = 0.54033065, step = 5500 (0.121 sec)\n",
            "INFO:tensorflow:global_step/sec: 766.544\n",
            "INFO:tensorflow:loss = 0.5195869, step = 5600 (0.127 sec)\n",
            "INFO:tensorflow:global_step/sec: 831.042\n",
            "INFO:tensorflow:loss = 0.61137104, step = 5700 (0.123 sec)\n",
            "INFO:tensorflow:global_step/sec: 837.879\n",
            "INFO:tensorflow:loss = 0.51986396, step = 5800 (0.117 sec)\n",
            "INFO:tensorflow:global_step/sec: 806.076\n",
            "INFO:tensorflow:loss = 0.55704707, step = 5900 (0.127 sec)\n",
            "INFO:tensorflow:global_step/sec: 810.57\n",
            "INFO:tensorflow:loss = 0.6360645, step = 6000 (0.120 sec)\n",
            "INFO:tensorflow:global_step/sec: 772.228\n",
            "INFO:tensorflow:loss = 0.65951407, step = 6100 (0.130 sec)\n",
            "INFO:tensorflow:global_step/sec: 782.07\n",
            "INFO:tensorflow:loss = 0.6239073, step = 6200 (0.131 sec)\n",
            "INFO:tensorflow:global_step/sec: 741.759\n",
            "INFO:tensorflow:loss = 0.6120402, step = 6300 (0.132 sec)\n",
            "INFO:tensorflow:global_step/sec: 762.247\n",
            "INFO:tensorflow:loss = 0.5633749, step = 6400 (0.134 sec)\n",
            "INFO:tensorflow:global_step/sec: 801.272\n",
            "INFO:tensorflow:loss = 0.60668045, step = 6500 (0.125 sec)\n",
            "INFO:tensorflow:global_step/sec: 681.695\n",
            "INFO:tensorflow:loss = 0.5179274, step = 6600 (0.149 sec)\n",
            "INFO:tensorflow:global_step/sec: 741.625\n",
            "INFO:tensorflow:loss = 0.53545314, step = 6700 (0.131 sec)\n",
            "INFO:tensorflow:global_step/sec: 822.076\n",
            "INFO:tensorflow:loss = 0.5182166, step = 6800 (0.124 sec)\n",
            "INFO:tensorflow:global_step/sec: 757.121\n",
            "INFO:tensorflow:loss = 0.6074732, step = 6900 (0.132 sec)\n",
            "INFO:tensorflow:global_step/sec: 775.706\n",
            "INFO:tensorflow:loss = 0.5959827, step = 7000 (0.129 sec)\n",
            "INFO:tensorflow:global_step/sec: 811.827\n",
            "INFO:tensorflow:loss = 0.72614145, step = 7100 (0.125 sec)\n",
            "INFO:tensorflow:global_step/sec: 757.402\n",
            "INFO:tensorflow:loss = 0.45886773, step = 7200 (0.128 sec)\n",
            "INFO:tensorflow:global_step/sec: 791.704\n",
            "INFO:tensorflow:loss = 0.5446136, step = 7300 (0.130 sec)\n",
            "INFO:tensorflow:global_step/sec: 752.959\n",
            "INFO:tensorflow:loss = 0.7220186, step = 7400 (0.129 sec)\n",
            "INFO:tensorflow:global_step/sec: 731.315\n",
            "INFO:tensorflow:loss = 0.38199705, step = 7500 (0.137 sec)\n",
            "INFO:tensorflow:global_step/sec: 773.288\n",
            "INFO:tensorflow:loss = 0.61214834, step = 7600 (0.133 sec)\n",
            "INFO:tensorflow:global_step/sec: 851.955\n",
            "INFO:tensorflow:loss = 0.5240581, step = 7700 (0.117 sec)\n",
            "INFO:tensorflow:global_step/sec: 782.149\n",
            "INFO:tensorflow:loss = 0.58239293, step = 7800 (0.128 sec)\n",
            "INFO:tensorflow:global_step/sec: 819.064\n",
            "INFO:tensorflow:loss = 0.49524212, step = 7900 (0.126 sec)\n",
            "INFO:tensorflow:global_step/sec: 778.571\n",
            "INFO:tensorflow:loss = 0.6802218, step = 8000 (0.124 sec)\n",
            "INFO:tensorflow:global_step/sec: 855.57\n",
            "INFO:tensorflow:loss = 0.33366597, step = 8100 (0.116 sec)\n",
            "INFO:tensorflow:global_step/sec: 812.683\n",
            "INFO:tensorflow:loss = 0.5805946, step = 8200 (0.124 sec)\n",
            "INFO:tensorflow:global_step/sec: 726.004\n",
            "INFO:tensorflow:loss = 0.6461406, step = 8300 (0.137 sec)\n",
            "INFO:tensorflow:global_step/sec: 724.198\n",
            "INFO:tensorflow:loss = 0.5278137, step = 8400 (0.135 sec)\n",
            "INFO:tensorflow:global_step/sec: 721.248\n",
            "INFO:tensorflow:loss = 0.60294116, step = 8500 (0.142 sec)\n",
            "INFO:tensorflow:global_step/sec: 750.375\n",
            "INFO:tensorflow:loss = 0.49009094, step = 8600 (0.129 sec)\n",
            "INFO:tensorflow:global_step/sec: 805.697\n",
            "INFO:tensorflow:loss = 0.61033916, step = 8700 (0.126 sec)\n",
            "INFO:tensorflow:global_step/sec: 838.604\n",
            "INFO:tensorflow:loss = 0.4389021, step = 8800 (0.118 sec)\n",
            "INFO:tensorflow:global_step/sec: 762.825\n",
            "INFO:tensorflow:loss = 0.45298177, step = 8900 (0.131 sec)\n",
            "INFO:tensorflow:global_step/sec: 764.837\n",
            "INFO:tensorflow:loss = 0.48963588, step = 9000 (0.134 sec)\n",
            "INFO:tensorflow:global_step/sec: 757.959\n",
            "INFO:tensorflow:loss = 0.5257854, step = 9100 (0.128 sec)\n",
            "INFO:tensorflow:global_step/sec: 825.48\n",
            "INFO:tensorflow:loss = 0.58376074, step = 9200 (0.124 sec)\n",
            "INFO:tensorflow:global_step/sec: 802.076\n",
            "INFO:tensorflow:loss = 0.7595651, step = 9300 (0.123 sec)\n",
            "INFO:tensorflow:global_step/sec: 796.831\n",
            "INFO:tensorflow:loss = 0.5452263, step = 9400 (0.127 sec)\n",
            "INFO:tensorflow:global_step/sec: 789.378\n",
            "INFO:tensorflow:loss = 0.544564, step = 9500 (0.123 sec)\n",
            "INFO:tensorflow:global_step/sec: 858.67\n",
            "INFO:tensorflow:loss = 0.48584914, step = 9600 (0.119 sec)\n",
            "INFO:tensorflow:global_step/sec: 837.41\n",
            "INFO:tensorflow:loss = 0.495024, step = 9700 (0.117 sec)\n",
            "INFO:tensorflow:global_step/sec: 760.448\n",
            "INFO:tensorflow:loss = 0.5204388, step = 9800 (0.137 sec)\n",
            "INFO:tensorflow:global_step/sec: 596.104\n",
            "INFO:tensorflow:loss = 0.5175323, step = 9900 (0.166 sec)\n",
            "INFO:tensorflow:Calling checkpoint listeners before saving checkpoint 10000...\n",
            "INFO:tensorflow:Saving checkpoints for 10000 into /tmp/tmpuym3rgn7/model.ckpt.\n",
            "INFO:tensorflow:Calling checkpoint listeners after saving checkpoint 10000...\n",
            "INFO:tensorflow:Loss for final step: 0.5878307.\n"
          ],
          "name": "stdout"
        }
      ]
    },
    {
      "cell_type": "markdown",
      "metadata": {
        "id": "X9icL2IUwzFo"
      },
      "source": [
        "### Evaluar el modelo."
      ]
    },
    {
      "cell_type": "code",
      "metadata": {
        "colab": {
          "base_uri": "https://localhost:8080/"
        },
        "id": "8xOcvfJmw1r_",
        "outputId": "08fb15bb-e0f1-4ad6-879d-d846c4455e87"
      },
      "source": [
        "dnnmodel.evaluate(DNNtest_function)"
      ],
      "execution_count": null,
      "outputs": [
        {
          "output_type": "stream",
          "text": [
            "INFO:tensorflow:Calling model_fn.\n",
            "INFO:tensorflow:Done calling model_fn.\n",
            "INFO:tensorflow:Starting evaluation at 2021-06-19T00:55:09\n",
            "INFO:tensorflow:Graph was finalized.\n",
            "INFO:tensorflow:Restoring parameters from /tmp/tmpuym3rgn7/model.ckpt-10000\n",
            "INFO:tensorflow:Running local_init_op.\n",
            "INFO:tensorflow:Done running local_init_op.\n",
            "INFO:tensorflow:Inference Time : 0.83280s\n",
            "INFO:tensorflow:Finished evaluation at 2021-06-19-00:55:10\n",
            "INFO:tensorflow:Saving dict for global step 10000: accuracy = 0.72884977, accuracy_baseline = 0.7280491, auc = 0.64797854, auc_precision_recall = 0.8358711, average_loss = 0.55344886, global_step = 10000, label/mean = 0.7280491, loss = 0.5538232, precision = 0.7287547, prediction/mean = 0.7378426, recall = 0.99963343\n",
            "INFO:tensorflow:Saving 'checkpoint_path' summary for global step 10000: /tmp/tmpuym3rgn7/model.ckpt-10000\n"
          ],
          "name": "stdout"
        },
        {
          "output_type": "execute_result",
          "data": {
            "text/plain": [
              "{'accuracy': 0.72884977,\n",
              " 'accuracy_baseline': 0.7280491,\n",
              " 'auc': 0.64797854,\n",
              " 'auc_precision_recall': 0.8358711,\n",
              " 'average_loss': 0.55344886,\n",
              " 'global_step': 10000,\n",
              " 'label/mean': 0.7280491,\n",
              " 'loss': 0.5538232,\n",
              " 'precision': 0.7287547,\n",
              " 'prediction/mean': 0.7378426,\n",
              " 'recall': 0.99963343}"
            ]
          },
          "metadata": {
            "tags": []
          },
          "execution_count": 65
        }
      ]
    },
    {
      "cell_type": "markdown",
      "metadata": {
        "id": "OC1ODXD0xIso"
      },
      "source": [
        "### Predicciones y análisis."
      ]
    },
    {
      "cell_type": "code",
      "metadata": {
        "colab": {
          "base_uri": "https://localhost:8080/"
        },
        "id": "VMWjeDDXxLbi",
        "outputId": "016b8ca8-18b0-4369-f9d8-21dad4bbb7f8"
      },
      "source": [
        "predicciones = list(dnnmodel.predict(input_fn=test_function))\n",
        "prediccion = [p[\"class_ids\"][0] for p in predicciones]\n",
        "data = classification_report(DNNY_Test, prediccion)\n",
        "conmat = confusion_matrix(DNNY_Test, prediccion)"
      ],
      "execution_count": null,
      "outputs": [
        {
          "output_type": "stream",
          "text": [
            "INFO:tensorflow:Calling model_fn.\n",
            "INFO:tensorflow:Done calling model_fn.\n",
            "INFO:tensorflow:Graph was finalized.\n",
            "INFO:tensorflow:Restoring parameters from /tmp/tmpuym3rgn7/model.ckpt-10000\n",
            "INFO:tensorflow:Running local_init_op.\n",
            "INFO:tensorflow:Done running local_init_op.\n"
          ],
          "name": "stdout"
        }
      ]
    },
    {
      "cell_type": "code",
      "metadata": {
        "colab": {
          "base_uri": "https://localhost:8080/",
          "height": 377
        },
        "id": "M2n2P8HLx1wX",
        "outputId": "144ccb60-efab-4400-a55d-025a1743c71c"
      },
      "source": [
        "skplt.metrics.plot_confusion_matrix(DNNY_Test, prediccion, figsize=(6,6), title=\"Matriz de confusion\")"
      ],
      "execution_count": null,
      "outputs": [
        {
          "output_type": "execute_result",
          "data": {
            "text/plain": [
              "<matplotlib.axes._subplots.AxesSubplot at 0x7f2966b315d0>"
            ]
          },
          "metadata": {
            "tags": []
          },
          "execution_count": 76
        },
        {
          "output_type": "display_data",
          "data": {
            "image/png": "[encoded data removed]",
            "text/plain": [
              "<Figure size 432x432 with 2 Axes>"
            ]
          },
          "metadata": {
            "tags": [],
            "needs_background": "light"
          }
        }
      ]
    },
    {
      "cell_type": "markdown",
      "metadata": {
        "id": "mg5jr8XbwKiL"
      },
      "source": [
        "El uso de redes neuronales profundas pudo mejorar un poco las métricas, pero, como se puede apreciar en la matriz de confusión anterior, el modelo tiene graves problemas para predecir la clase 0, por lo que el rendimiento no es el esperado."
      ]
    },
    {
      "cell_type": "markdown",
      "metadata": {
        "id": "-7MYMofQomjy"
      },
      "source": [
        "## Máquina de soporte de vectores.\n",
        "\n",
        "Para SVM se utilizará el método MinMaxScaler contenido en skLearn para preprocesar un poco el dataset, pero también se provará preprocesando solo algunas columnas del dataset en específico.\n",
        "\n",
        "También se hará uso de la función **GridSearchCV**, la cual, por medio de un diccionario de hiperparámetros puede ajustar tantos modelos como combinación de parámetros se puedan realizar, al mismo tiempo de poder evaluar los modelos por medio de validación cruzada.\n",
        "\n",
        "El diccionario de parámetros solo tomará en cuenta el valor 'C', que regula la regularización del modelo, y el 'kernel', el cual se encarga de tomar diferentes funciones de similaridad entre los ejemplos en el dataset.\n",
        "\n",
        "En estos modelos se práctica con sobremuestreo en todos los modelos, ya que así se obtuvo mejor rendimiento con los parámetros por defecto."
      ]
    },
    {
      "cell_type": "markdown",
      "metadata": {
        "id": "ZPkw10EhgRM1"
      },
      "source": [
        "### Utilizando MinMaxScaler"
      ]
    },
    {
      "cell_type": "code",
      "metadata": {
        "id": "zdDsAhOUaGqV"
      },
      "source": [
        "import pandas as pd\n",
        "import numpy as np\n",
        "from sklearn.preprocessing import MinMaxScaler\n",
        "from sklearn.model_selection import train_test_split\n",
        "from imblearn.over_sampling import RandomOverSampler, SMOTE\n",
        "from sklearn.metrics import roc_auc_score\n",
        "\n",
        "data = pd.read_csv('/content/drive/MyDrive/Dataset Proyecto/Bedu_Proyecto_Modulo_4/Dataset_limpio.csv', index_col=0)\n",
        "\n",
        "expanded = pd.get_dummies(data = data, columns = ['Categoria'])\n",
        "expanded = expanded.drop(columns = ['App', 'Rating_del_contenido', 'Ultimo_updated', 'Anio_ultimo_updated','Version_actual', 'Version_Android', 'Rating'])\n",
        "\n",
        "X = expanded.drop(columns= ['Exito_app'])\n",
        "y = expanded['Exito_app']\n",
        "\n",
        "#### MinMax Scaler\n",
        "scaler = MinMaxScaler()\n",
        "X_norm = scaler.fit_transform(X)\n",
        "\n",
        "X_train, X_test, y_train, y_test = train_test_split(X_norm, y, test_size = 0.2, random_state = 23)\n",
        "\n",
        "smote = SMOTE(random_state = 1)\n",
        "dataSmote, targetSmote = smote.fit_resample(X_train ,y_train)"
      ],
      "execution_count": null,
      "outputs": []
    },
    {
      "cell_type": "code",
      "metadata": {
        "id": "fdTAE5w8qu0H"
      },
      "source": [
        "from sklearn.model_selection import GridSearchCV\n",
        "from sklearn.svm import SVC\n",
        "\n",
        "### Parametros del modelo.\n",
        "params = {'C': [0.01, 0.1, 1, 5, 15, 25, 50, 75, 100, 120, 150, 170, 200],\n",
        "          'kernel': ['linear', 'rbf']} \n",
        "svm = SVC(max_iter= 20000)      \n",
        "best_svm = GridSearchCV(svm, param_grid= params, scoring= 'roc_auc', cv = 3)  \n",
        "best_svm.fit(dataSmote, targetSmote);"
      ],
      "execution_count": null,
      "outputs": []
    },
    {
      "cell_type": "markdown",
      "metadata": {
        "id": "wRpIBNR-zwTy"
      },
      "source": [
        "La siguente tabla muestra los resultados obtenidos por las combinaciones de parámetros en los modelos.\n",
        "\n",
        "La columna **mean_test_score**, muestra el AUC promedio entre los tres set de validación cruzada creados al momento de ejecutar la función, notamos que la combinación de 'C': 170 y 'kernel': 'rbf' obtuvo el mejor AUC promedio con 0.680045.\t"
      ]
    },
    {
      "cell_type": "code",
      "metadata": {
        "colab": {
          "base_uri": "https://localhost:8080/",
          "height": 864
        },
        "id": "8aD2zEWNbZIQ",
        "outputId": "1f1c1cc1-1719-4eea-efb2-b47c78262ffe"
      },
      "source": [
        "svm_results = pd.DataFrame(best_svm.cv_results_)\n",
        "svm_results[['params', 'split0_test_score', 'split1_test_score', 'split2_test_score', 'mean_test_score', 'std_test_score', 'rank_test_score']].to_csv('/content/drive/MyDrive/Dataset Proyecto/Bedu_Proyecto_Modulo_4/svm_results_MinMaxScaler.csv')\n",
        "svm_results[['params', 'split0_test_score', 'split1_test_score', 'split2_test_score', 'mean_test_score', 'std_test_score', 'rank_test_score']]"
      ],
      "execution_count": null,
      "outputs": [
        {
          "output_type": "execute_result",
          "data": {
            "text/html": [
              "<div>\n",
              "<style scoped>\n",
              "    .dataframe tbody tr th:only-of-type {\n",
              "        vertical-align: middle;\n",
              "    }\n",
              "\n",
              "    .dataframe tbody tr th {\n",
              "        vertical-align: top;\n",
              "    }\n",
              "\n",
              "    .dataframe thead th {\n",
              "        text-align: right;\n",
              "    }\n",
              "</style>\n",
              "<table border=\"1\" class=\"dataframe\">\n",
              "  <thead>\n",
              "    <tr style=\"text-align: right;\">\n",
              "      <th></th>\n",
              "      <th>params</th>\n",
              "      <th>split0_test_score</th>\n",
              "      <th>split1_test_score</th>\n",
              "      <th>split2_test_score</th>\n",
              "      <th>mean_test_score</th>\n",
              "      <th>std_test_score</th>\n",
              "      <th>rank_test_score</th>\n",
              "    </tr>\n",
              "  </thead>\n",
              "  <tbody>\n",
              "    <tr>\n",
              "      <th>0</th>\n",
              "      <td>{'C': 0.01, 'kernel': 'linear'}</td>\n",
              "      <td>0.589057</td>\n",
              "      <td>0.611096</td>\n",
              "      <td>0.605393</td>\n",
              "      <td>0.601849</td>\n",
              "      <td>0.009340</td>\n",
              "      <td>25</td>\n",
              "    </tr>\n",
              "    <tr>\n",
              "      <th>1</th>\n",
              "      <td>{'C': 0.01, 'kernel': 'rbf'}</td>\n",
              "      <td>0.585096</td>\n",
              "      <td>0.605405</td>\n",
              "      <td>0.607569</td>\n",
              "      <td>0.599357</td>\n",
              "      <td>0.010122</td>\n",
              "      <td>26</td>\n",
              "    </tr>\n",
              "    <tr>\n",
              "      <th>2</th>\n",
              "      <td>{'C': 0.1, 'kernel': 'linear'}</td>\n",
              "      <td>0.610191</td>\n",
              "      <td>0.629662</td>\n",
              "      <td>0.644045</td>\n",
              "      <td>0.627966</td>\n",
              "      <td>0.013873</td>\n",
              "      <td>22</td>\n",
              "    </tr>\n",
              "    <tr>\n",
              "      <th>3</th>\n",
              "      <td>{'C': 0.1, 'kernel': 'rbf'}</td>\n",
              "      <td>0.599498</td>\n",
              "      <td>0.625668</td>\n",
              "      <td>0.626846</td>\n",
              "      <td>0.617338</td>\n",
              "      <td>0.012624</td>\n",
              "      <td>24</td>\n",
              "    </tr>\n",
              "    <tr>\n",
              "      <th>4</th>\n",
              "      <td>{'C': 1, 'kernel': 'linear'}</td>\n",
              "      <td>0.618139</td>\n",
              "      <td>0.636755</td>\n",
              "      <td>0.655054</td>\n",
              "      <td>0.636650</td>\n",
              "      <td>0.015071</td>\n",
              "      <td>16</td>\n",
              "    </tr>\n",
              "    <tr>\n",
              "      <th>5</th>\n",
              "      <td>{'C': 1, 'kernel': 'rbf'}</td>\n",
              "      <td>0.619665</td>\n",
              "      <td>0.639596</td>\n",
              "      <td>0.645340</td>\n",
              "      <td>0.634867</td>\n",
              "      <td>0.011002</td>\n",
              "      <td>17</td>\n",
              "    </tr>\n",
              "    <tr>\n",
              "      <th>6</th>\n",
              "      <td>{'C': 5, 'kernel': 'linear'}</td>\n",
              "      <td>0.622971</td>\n",
              "      <td>0.645070</td>\n",
              "      <td>0.662085</td>\n",
              "      <td>0.643376</td>\n",
              "      <td>0.016013</td>\n",
              "      <td>14</td>\n",
              "    </tr>\n",
              "    <tr>\n",
              "      <th>7</th>\n",
              "      <td>{'C': 5, 'kernel': 'rbf'}</td>\n",
              "      <td>0.637671</td>\n",
              "      <td>0.660240</td>\n",
              "      <td>0.659482</td>\n",
              "      <td>0.652464</td>\n",
              "      <td>0.010465</td>\n",
              "      <td>12</td>\n",
              "    </tr>\n",
              "    <tr>\n",
              "      <th>8</th>\n",
              "      <td>{'C': 15, 'kernel': 'linear'}</td>\n",
              "      <td>0.642380</td>\n",
              "      <td>0.662834</td>\n",
              "      <td>0.663132</td>\n",
              "      <td>0.656116</td>\n",
              "      <td>0.009713</td>\n",
              "      <td>10</td>\n",
              "    </tr>\n",
              "    <tr>\n",
              "      <th>9</th>\n",
              "      <td>{'C': 15, 'kernel': 'rbf'}</td>\n",
              "      <td>0.650454</td>\n",
              "      <td>0.672292</td>\n",
              "      <td>0.669825</td>\n",
              "      <td>0.664190</td>\n",
              "      <td>0.009765</td>\n",
              "      <td>9</td>\n",
              "    </tr>\n",
              "    <tr>\n",
              "      <th>10</th>\n",
              "      <td>{'C': 25, 'kernel': 'linear'}</td>\n",
              "      <td>0.638426</td>\n",
              "      <td>0.664811</td>\n",
              "      <td>0.662576</td>\n",
              "      <td>0.655271</td>\n",
              "      <td>0.011946</td>\n",
              "      <td>11</td>\n",
              "    </tr>\n",
              "    <tr>\n",
              "      <th>11</th>\n",
              "      <td>{'C': 25, 'kernel': 'rbf'}</td>\n",
              "      <td>0.653998</td>\n",
              "      <td>0.674998</td>\n",
              "      <td>0.675040</td>\n",
              "      <td>0.668012</td>\n",
              "      <td>0.009909</td>\n",
              "      <td>8</td>\n",
              "    </tr>\n",
              "    <tr>\n",
              "      <th>12</th>\n",
              "      <td>{'C': 50, 'kernel': 'linear'}</td>\n",
              "      <td>0.636467</td>\n",
              "      <td>0.655184</td>\n",
              "      <td>0.647149</td>\n",
              "      <td>0.646267</td>\n",
              "      <td>0.007666</td>\n",
              "      <td>13</td>\n",
              "    </tr>\n",
              "    <tr>\n",
              "      <th>13</th>\n",
              "      <td>{'C': 50, 'kernel': 'rbf'}</td>\n",
              "      <td>0.657518</td>\n",
              "      <td>0.681245</td>\n",
              "      <td>0.679392</td>\n",
              "      <td>0.672718</td>\n",
              "      <td>0.010775</td>\n",
              "      <td>7</td>\n",
              "    </tr>\n",
              "    <tr>\n",
              "      <th>14</th>\n",
              "      <td>{'C': 75, 'kernel': 'linear'}</td>\n",
              "      <td>0.624101</td>\n",
              "      <td>0.637916</td>\n",
              "      <td>0.651450</td>\n",
              "      <td>0.637822</td>\n",
              "      <td>0.011165</td>\n",
              "      <td>15</td>\n",
              "    </tr>\n",
              "    <tr>\n",
              "      <th>15</th>\n",
              "      <td>{'C': 75, 'kernel': 'rbf'}</td>\n",
              "      <td>0.658427</td>\n",
              "      <td>0.686911</td>\n",
              "      <td>0.682278</td>\n",
              "      <td>0.675872</td>\n",
              "      <td>0.012480</td>\n",
              "      <td>5</td>\n",
              "    </tr>\n",
              "    <tr>\n",
              "      <th>16</th>\n",
              "      <td>{'C': 100, 'kernel': 'linear'}</td>\n",
              "      <td>0.618691</td>\n",
              "      <td>0.642325</td>\n",
              "      <td>0.641605</td>\n",
              "      <td>0.634207</td>\n",
              "      <td>0.010976</td>\n",
              "      <td>19</td>\n",
              "    </tr>\n",
              "    <tr>\n",
              "      <th>17</th>\n",
              "      <td>{'C': 100, 'kernel': 'rbf'}</td>\n",
              "      <td>0.657790</td>\n",
              "      <td>0.685626</td>\n",
              "      <td>0.683331</td>\n",
              "      <td>0.675582</td>\n",
              "      <td>0.012616</td>\n",
              "      <td>6</td>\n",
              "    </tr>\n",
              "    <tr>\n",
              "      <th>18</th>\n",
              "      <td>{'C': 120, 'kernel': 'linear'}</td>\n",
              "      <td>0.619818</td>\n",
              "      <td>0.638538</td>\n",
              "      <td>0.644565</td>\n",
              "      <td>0.634307</td>\n",
              "      <td>0.010537</td>\n",
              "      <td>18</td>\n",
              "    </tr>\n",
              "    <tr>\n",
              "      <th>19</th>\n",
              "      <td>{'C': 120, 'kernel': 'rbf'}</td>\n",
              "      <td>0.657026</td>\n",
              "      <td>0.688439</td>\n",
              "      <td>0.685544</td>\n",
              "      <td>0.677003</td>\n",
              "      <td>0.014175</td>\n",
              "      <td>4</td>\n",
              "    </tr>\n",
              "    <tr>\n",
              "      <th>20</th>\n",
              "      <td>{'C': 150, 'kernel': 'linear'}</td>\n",
              "      <td>0.623392</td>\n",
              "      <td>0.647408</td>\n",
              "      <td>0.627850</td>\n",
              "      <td>0.632883</td>\n",
              "      <td>0.010430</td>\n",
              "      <td>20</td>\n",
              "    </tr>\n",
              "    <tr>\n",
              "      <th>21</th>\n",
              "      <td>{'C': 150, 'kernel': 'rbf'}</td>\n",
              "      <td>0.657696</td>\n",
              "      <td>0.691330</td>\n",
              "      <td>0.687625</td>\n",
              "      <td>0.678884</td>\n",
              "      <td>0.015058</td>\n",
              "      <td>2</td>\n",
              "    </tr>\n",
              "    <tr>\n",
              "      <th>22</th>\n",
              "      <td>{'C': 170, 'kernel': 'linear'}</td>\n",
              "      <td>0.617931</td>\n",
              "      <td>0.634650</td>\n",
              "      <td>0.630571</td>\n",
              "      <td>0.627717</td>\n",
              "      <td>0.007117</td>\n",
              "      <td>23</td>\n",
              "    </tr>\n",
              "    <tr>\n",
              "      <th>23</th>\n",
              "      <td>{'C': 170, 'kernel': 'rbf'}</td>\n",
              "      <td>0.659695</td>\n",
              "      <td>0.693878</td>\n",
              "      <td>0.686562</td>\n",
              "      <td>0.680045</td>\n",
              "      <td>0.014696</td>\n",
              "      <td>1</td>\n",
              "    </tr>\n",
              "    <tr>\n",
              "      <th>24</th>\n",
              "      <td>{'C': 200, 'kernel': 'linear'}</td>\n",
              "      <td>0.623034</td>\n",
              "      <td>0.638565</td>\n",
              "      <td>0.634770</td>\n",
              "      <td>0.632123</td>\n",
              "      <td>0.006611</td>\n",
              "      <td>21</td>\n",
              "    </tr>\n",
              "    <tr>\n",
              "      <th>25</th>\n",
              "      <td>{'C': 200, 'kernel': 'rbf'}</td>\n",
              "      <td>0.658419</td>\n",
              "      <td>0.690754</td>\n",
              "      <td>0.686613</td>\n",
              "      <td>0.678595</td>\n",
              "      <td>0.014367</td>\n",
              "      <td>3</td>\n",
              "    </tr>\n",
              "  </tbody>\n",
              "</table>\n",
              "</div>"
            ],
            "text/plain": [
              "                             params  ...  rank_test_score\n",
              "0   {'C': 0.01, 'kernel': 'linear'}  ...               25\n",
              "1      {'C': 0.01, 'kernel': 'rbf'}  ...               26\n",
              "2    {'C': 0.1, 'kernel': 'linear'}  ...               22\n",
              "3       {'C': 0.1, 'kernel': 'rbf'}  ...               24\n",
              "4      {'C': 1, 'kernel': 'linear'}  ...               16\n",
              "5         {'C': 1, 'kernel': 'rbf'}  ...               17\n",
              "6      {'C': 5, 'kernel': 'linear'}  ...               14\n",
              "7         {'C': 5, 'kernel': 'rbf'}  ...               12\n",
              "8     {'C': 15, 'kernel': 'linear'}  ...               10\n",
              "9        {'C': 15, 'kernel': 'rbf'}  ...                9\n",
              "10    {'C': 25, 'kernel': 'linear'}  ...               11\n",
              "11       {'C': 25, 'kernel': 'rbf'}  ...                8\n",
              "12    {'C': 50, 'kernel': 'linear'}  ...               13\n",
              "13       {'C': 50, 'kernel': 'rbf'}  ...                7\n",
              "14    {'C': 75, 'kernel': 'linear'}  ...               15\n",
              "15       {'C': 75, 'kernel': 'rbf'}  ...                5\n",
              "16   {'C': 100, 'kernel': 'linear'}  ...               19\n",
              "17      {'C': 100, 'kernel': 'rbf'}  ...                6\n",
              "18   {'C': 120, 'kernel': 'linear'}  ...               18\n",
              "19      {'C': 120, 'kernel': 'rbf'}  ...                4\n",
              "20   {'C': 150, 'kernel': 'linear'}  ...               20\n",
              "21      {'C': 150, 'kernel': 'rbf'}  ...                2\n",
              "22   {'C': 170, 'kernel': 'linear'}  ...               23\n",
              "23      {'C': 170, 'kernel': 'rbf'}  ...                1\n",
              "24   {'C': 200, 'kernel': 'linear'}  ...               21\n",
              "25      {'C': 200, 'kernel': 'rbf'}  ...                3\n",
              "\n",
              "[26 rows x 7 columns]"
            ]
          },
          "metadata": {
            "tags": []
          },
          "execution_count": 21
        }
      ]
    },
    {
      "cell_type": "markdown",
      "metadata": {
        "id": "JRUk3Go00oul"
      },
      "source": [
        "Y al momento de probar el modelo en el set de prueba se ubtuvo un AUC igual a 0.611491887953021, es decir, un resultado poco peor a los obtenidos al inicio, con los parámetros predeterminados, por lo que, jugar con MInMAxScaler no cambio demasiado los resultados ya obtenidos."
      ]
    },
    {
      "cell_type": "code",
      "metadata": {
        "colab": {
          "base_uri": "https://localhost:8080/"
        },
        "id": "r8aEhs9nhjCd",
        "outputId": "589c3257-46b9-41a8-9fe2-ea0128d81515"
      },
      "source": [
        "pred_scaled = best_svm.predict(X_test)\n",
        "roc_auc_score(y_test, pred_scaled)"
      ],
      "execution_count": null,
      "outputs": [
        {
          "output_type": "execute_result",
          "data": {
            "text/plain": [
              "0.611491887953021"
            ]
          },
          "metadata": {
            "tags": []
          },
          "execution_count": 23
        }
      ]
    },
    {
      "cell_type": "markdown",
      "metadata": {
        "id": "maa99t5Fh7EH"
      },
      "source": [
        "### Escalando algunas variables de manera indivudual.\n",
        "\n",
        "Probando solo escalando algunas variables, se escalarán las columnas **Reviews, Instalaciones_minimas_estimadas, Tamanio_MB y Precio**"
      ]
    },
    {
      "cell_type": "code",
      "metadata": {
        "id": "cQn0tdGtoaSL"
      },
      "source": [
        "data = pd.read_csv('/content/drive/MyDrive/Dataset Proyecto/Bedu_Proyecto_Modulo_4/Dataset_limpio.csv', index_col=0)\n",
        "\n",
        "expanded = pd.get_dummies(data = data, columns = ['Categoria'])\n",
        "expanded = expanded.drop(columns = ['App', 'Rating_del_contenido', 'Ultimo_updated', 'Anio_ultimo_updated','Version_actual', 'Version_Android', 'Rating'])\n",
        "\n",
        "X = expanded.drop(columns= ['Exito_app'])\n",
        "y = expanded['Exito_app']\n",
        "\n",
        "#### Escalando variables de manera individual.\n",
        "X_norm_ind = X.copy()\n",
        "X_norm_ind['Reviews'] = (X['Reviews'] - X['Reviews'].mean())/X['Reviews'].std()\n",
        "X_norm_ind['Instalaciones_minimas_estimadas'] = (X['Instalaciones_minimas_estimadas'] - X['Instalaciones_minimas_estimadas'].mean())/X['Instalaciones_minimas_estimadas'].std()\n",
        "X_norm_ind['Tamanio_MB'] = (X['Tamanio_MB'] - X['Tamanio_MB'].mean())/X['Tamanio_MB'].std()\n",
        "X_norm_ind['Precio'] = (X['Precio'])/(X['Precio'].max()-X['Precio'].min())\n",
        "\n",
        "X_train, X_test, y_train, y_test = train_test_split(X_norm_ind, y, test_size = 0.2, random_state = 23)\n",
        "\n",
        "smote = SMOTE(random_state = 1)\n",
        "dataSmote_ind, targetSmote_ind = smote.fit_resample(X_train ,y_train)\n"
      ],
      "execution_count": null,
      "outputs": []
    },
    {
      "cell_type": "code",
      "metadata": {
        "id": "G7wEwE6kiBGH"
      },
      "source": [
        "### Parametros del modelo.\n",
        "params = {'C': [0.01, 0.1, 1, 5, 15, 25, 50, 75, 100, 120, 150, 170, 200],\n",
        "          'kernel': ['linear', 'rbf']} \n",
        "svm = SVC(max_iter= 20000)      \n",
        "best_svm_ind = GridSearchCV(svm, param_grid= params, scoring= 'roc_auc', cv = 3)  \n",
        "best_svm_ind.fit(dataSmote_ind, targetSmote_ind);"
      ],
      "execution_count": null,
      "outputs": []
    },
    {
      "cell_type": "markdown",
      "metadata": {
        "id": "XdBksYzS168n"
      },
      "source": [
        "Con este proceso, se obtuvo que con la combinación 'C': 200, y 'kernel': 'rbf', se obtiene un AUC promedio en los set de validación igual a 0.733173, superando el 0.68 usando MinMaxScaler, por lo que, en apariencia, se obtuvo un modelo ligeramente mejor."
      ]
    },
    {
      "cell_type": "code",
      "metadata": {
        "colab": {
          "base_uri": "https://localhost:8080/",
          "height": 864
        },
        "id": "mx87zh9liLWi",
        "outputId": "6a2152fe-8c1a-4c63-cdd0-0a17c99a5a30"
      },
      "source": [
        "svm_results_ind = pd.DataFrame(best_svm_ind.cv_results_)\n",
        "svm_results_ind[['params', 'split0_test_score', 'split1_test_score', 'split2_test_score', 'mean_test_score', 'std_test_score', 'rank_test_score']].to_csv('/content/drive/MyDrive/Dataset Proyecto/Bedu_Proyecto_Modulo_4/svm_results_individual.csv')\n",
        "svm_results_ind[['params', 'split0_test_score', 'split1_test_score', 'split2_test_score', 'mean_test_score', 'std_test_score', 'rank_test_score']]"
      ],
      "execution_count": null,
      "outputs": [
        {
          "output_type": "execute_result",
          "data": {
            "text/html": [
              "<div>\n",
              "<style scoped>\n",
              "    .dataframe tbody tr th:only-of-type {\n",
              "        vertical-align: middle;\n",
              "    }\n",
              "\n",
              "    .dataframe tbody tr th {\n",
              "        vertical-align: top;\n",
              "    }\n",
              "\n",
              "    .dataframe thead th {\n",
              "        text-align: right;\n",
              "    }\n",
              "</style>\n",
              "<table border=\"1\" class=\"dataframe\">\n",
              "  <thead>\n",
              "    <tr style=\"text-align: right;\">\n",
              "      <th></th>\n",
              "      <th>params</th>\n",
              "      <th>split0_test_score</th>\n",
              "      <th>split1_test_score</th>\n",
              "      <th>split2_test_score</th>\n",
              "      <th>mean_test_score</th>\n",
              "      <th>std_test_score</th>\n",
              "      <th>rank_test_score</th>\n",
              "    </tr>\n",
              "  </thead>\n",
              "  <tbody>\n",
              "    <tr>\n",
              "      <th>0</th>\n",
              "      <td>{'C': 0.01, 'kernel': 'linear'}</td>\n",
              "      <td>0.612487</td>\n",
              "      <td>0.637065</td>\n",
              "      <td>0.634075</td>\n",
              "      <td>0.627876</td>\n",
              "      <td>0.010949</td>\n",
              "      <td>18</td>\n",
              "    </tr>\n",
              "    <tr>\n",
              "      <th>1</th>\n",
              "      <td>{'C': 0.01, 'kernel': 'rbf'}</td>\n",
              "      <td>0.600270</td>\n",
              "      <td>0.626778</td>\n",
              "      <td>0.620930</td>\n",
              "      <td>0.615993</td>\n",
              "      <td>0.011371</td>\n",
              "      <td>20</td>\n",
              "    </tr>\n",
              "    <tr>\n",
              "      <th>2</th>\n",
              "      <td>{'C': 0.1, 'kernel': 'linear'}</td>\n",
              "      <td>0.636906</td>\n",
              "      <td>0.652906</td>\n",
              "      <td>0.660073</td>\n",
              "      <td>0.649962</td>\n",
              "      <td>0.009684</td>\n",
              "      <td>17</td>\n",
              "    </tr>\n",
              "    <tr>\n",
              "      <th>3</th>\n",
              "      <td>{'C': 0.1, 'kernel': 'rbf'}</td>\n",
              "      <td>0.641754</td>\n",
              "      <td>0.669762</td>\n",
              "      <td>0.666733</td>\n",
              "      <td>0.659416</td>\n",
              "      <td>0.012550</td>\n",
              "      <td>13</td>\n",
              "    </tr>\n",
              "    <tr>\n",
              "      <th>4</th>\n",
              "      <td>{'C': 1, 'kernel': 'linear'}</td>\n",
              "      <td>0.653533</td>\n",
              "      <td>0.661885</td>\n",
              "      <td>0.667781</td>\n",
              "      <td>0.661066</td>\n",
              "      <td>0.005845</td>\n",
              "      <td>12</td>\n",
              "    </tr>\n",
              "    <tr>\n",
              "      <th>5</th>\n",
              "      <td>{'C': 1, 'kernel': 'rbf'}</td>\n",
              "      <td>0.669816</td>\n",
              "      <td>0.696608</td>\n",
              "      <td>0.700007</td>\n",
              "      <td>0.688810</td>\n",
              "      <td>0.013503</td>\n",
              "      <td>11</td>\n",
              "    </tr>\n",
              "    <tr>\n",
              "      <th>6</th>\n",
              "      <td>{'C': 5, 'kernel': 'linear'}</td>\n",
              "      <td>0.655866</td>\n",
              "      <td>0.659004</td>\n",
              "      <td>0.661579</td>\n",
              "      <td>0.658817</td>\n",
              "      <td>0.002336</td>\n",
              "      <td>14</td>\n",
              "    </tr>\n",
              "    <tr>\n",
              "      <th>7</th>\n",
              "      <td>{'C': 5, 'kernel': 'rbf'}</td>\n",
              "      <td>0.687784</td>\n",
              "      <td>0.704136</td>\n",
              "      <td>0.713753</td>\n",
              "      <td>0.701891</td>\n",
              "      <td>0.010720</td>\n",
              "      <td>10</td>\n",
              "    </tr>\n",
              "    <tr>\n",
              "      <th>8</th>\n",
              "      <td>{'C': 15, 'kernel': 'linear'}</td>\n",
              "      <td>0.650857</td>\n",
              "      <td>0.643755</td>\n",
              "      <td>0.671427</td>\n",
              "      <td>0.655346</td>\n",
              "      <td>0.011735</td>\n",
              "      <td>15</td>\n",
              "    </tr>\n",
              "    <tr>\n",
              "      <th>9</th>\n",
              "      <td>{'C': 15, 'kernel': 'rbf'}</td>\n",
              "      <td>0.700680</td>\n",
              "      <td>0.709599</td>\n",
              "      <td>0.722815</td>\n",
              "      <td>0.711032</td>\n",
              "      <td>0.009093</td>\n",
              "      <td>9</td>\n",
              "    </tr>\n",
              "    <tr>\n",
              "      <th>10</th>\n",
              "      <td>{'C': 25, 'kernel': 'linear'}</td>\n",
              "      <td>0.642683</td>\n",
              "      <td>0.654994</td>\n",
              "      <td>0.654875</td>\n",
              "      <td>0.650851</td>\n",
              "      <td>0.005776</td>\n",
              "      <td>16</td>\n",
              "    </tr>\n",
              "    <tr>\n",
              "      <th>11</th>\n",
              "      <td>{'C': 25, 'kernel': 'rbf'}</td>\n",
              "      <td>0.705911</td>\n",
              "      <td>0.716932</td>\n",
              "      <td>0.723207</td>\n",
              "      <td>0.715350</td>\n",
              "      <td>0.007149</td>\n",
              "      <td>8</td>\n",
              "    </tr>\n",
              "    <tr>\n",
              "      <th>12</th>\n",
              "      <td>{'C': 50, 'kernel': 'linear'}</td>\n",
              "      <td>0.569744</td>\n",
              "      <td>0.645317</td>\n",
              "      <td>0.654298</td>\n",
              "      <td>0.623120</td>\n",
              "      <td>0.037920</td>\n",
              "      <td>19</td>\n",
              "    </tr>\n",
              "    <tr>\n",
              "      <th>13</th>\n",
              "      <td>{'C': 50, 'kernel': 'rbf'}</td>\n",
              "      <td>0.708698</td>\n",
              "      <td>0.725318</td>\n",
              "      <td>0.731297</td>\n",
              "      <td>0.721771</td>\n",
              "      <td>0.009561</td>\n",
              "      <td>7</td>\n",
              "    </tr>\n",
              "    <tr>\n",
              "      <th>14</th>\n",
              "      <td>{'C': 75, 'kernel': 'linear'}</td>\n",
              "      <td>0.599345</td>\n",
              "      <td>0.413392</td>\n",
              "      <td>0.588220</td>\n",
              "      <td>0.533653</td>\n",
              "      <td>0.085158</td>\n",
              "      <td>22</td>\n",
              "    </tr>\n",
              "    <tr>\n",
              "      <th>15</th>\n",
              "      <td>{'C': 75, 'kernel': 'rbf'}</td>\n",
              "      <td>0.712494</td>\n",
              "      <td>0.729085</td>\n",
              "      <td>0.734065</td>\n",
              "      <td>0.725215</td>\n",
              "      <td>0.009222</td>\n",
              "      <td>6</td>\n",
              "    </tr>\n",
              "    <tr>\n",
              "      <th>16</th>\n",
              "      <td>{'C': 100, 'kernel': 'linear'}</td>\n",
              "      <td>0.478237</td>\n",
              "      <td>0.559269</td>\n",
              "      <td>0.537152</td>\n",
              "      <td>0.524886</td>\n",
              "      <td>0.034199</td>\n",
              "      <td>24</td>\n",
              "    </tr>\n",
              "    <tr>\n",
              "      <th>17</th>\n",
              "      <td>{'C': 100, 'kernel': 'rbf'}</td>\n",
              "      <td>0.711952</td>\n",
              "      <td>0.731389</td>\n",
              "      <td>0.746637</td>\n",
              "      <td>0.729993</td>\n",
              "      <td>0.014194</td>\n",
              "      <td>3</td>\n",
              "    </tr>\n",
              "    <tr>\n",
              "      <th>18</th>\n",
              "      <td>{'C': 120, 'kernel': 'linear'}</td>\n",
              "      <td>0.588415</td>\n",
              "      <td>0.450609</td>\n",
              "      <td>0.564914</td>\n",
              "      <td>0.534646</td>\n",
              "      <td>0.060193</td>\n",
              "      <td>21</td>\n",
              "    </tr>\n",
              "    <tr>\n",
              "      <th>19</th>\n",
              "      <td>{'C': 120, 'kernel': 'rbf'}</td>\n",
              "      <td>0.710141</td>\n",
              "      <td>0.734081</td>\n",
              "      <td>0.743406</td>\n",
              "      <td>0.729210</td>\n",
              "      <td>0.014010</td>\n",
              "      <td>4</td>\n",
              "    </tr>\n",
              "    <tr>\n",
              "      <th>20</th>\n",
              "      <td>{'C': 150, 'kernel': 'linear'}</td>\n",
              "      <td>0.512663</td>\n",
              "      <td>0.501555</td>\n",
              "      <td>0.501387</td>\n",
              "      <td>0.505202</td>\n",
              "      <td>0.005276</td>\n",
              "      <td>25</td>\n",
              "    </tr>\n",
              "    <tr>\n",
              "      <th>21</th>\n",
              "      <td>{'C': 150, 'kernel': 'rbf'}</td>\n",
              "      <td>0.713783</td>\n",
              "      <td>0.738206</td>\n",
              "      <td>0.739699</td>\n",
              "      <td>0.730563</td>\n",
              "      <td>0.011881</td>\n",
              "      <td>2</td>\n",
              "    </tr>\n",
              "    <tr>\n",
              "      <th>22</th>\n",
              "      <td>{'C': 170, 'kernel': 'linear'}</td>\n",
              "      <td>0.536891</td>\n",
              "      <td>0.433098</td>\n",
              "      <td>0.471370</td>\n",
              "      <td>0.480453</td>\n",
              "      <td>0.042857</td>\n",
              "      <td>26</td>\n",
              "    </tr>\n",
              "    <tr>\n",
              "      <th>23</th>\n",
              "      <td>{'C': 170, 'kernel': 'rbf'}</td>\n",
              "      <td>0.714729</td>\n",
              "      <td>0.731583</td>\n",
              "      <td>0.741120</td>\n",
              "      <td>0.729144</td>\n",
              "      <td>0.010911</td>\n",
              "      <td>5</td>\n",
              "    </tr>\n",
              "    <tr>\n",
              "      <th>24</th>\n",
              "      <td>{'C': 200, 'kernel': 'linear'}</td>\n",
              "      <td>0.466092</td>\n",
              "      <td>0.485169</td>\n",
              "      <td>0.626331</td>\n",
              "      <td>0.525864</td>\n",
              "      <td>0.071466</td>\n",
              "      <td>23</td>\n",
              "    </tr>\n",
              "    <tr>\n",
              "      <th>25</th>\n",
              "      <td>{'C': 200, 'kernel': 'rbf'}</td>\n",
              "      <td>0.714461</td>\n",
              "      <td>0.741000</td>\n",
              "      <td>0.744058</td>\n",
              "      <td>0.733173</td>\n",
              "      <td>0.013291</td>\n",
              "      <td>1</td>\n",
              "    </tr>\n",
              "  </tbody>\n",
              "</table>\n",
              "</div>"
            ],
            "text/plain": [
              "                             params  ...  rank_test_score\n",
              "0   {'C': 0.01, 'kernel': 'linear'}  ...               18\n",
              "1      {'C': 0.01, 'kernel': 'rbf'}  ...               20\n",
              "2    {'C': 0.1, 'kernel': 'linear'}  ...               17\n",
              "3       {'C': 0.1, 'kernel': 'rbf'}  ...               13\n",
              "4      {'C': 1, 'kernel': 'linear'}  ...               12\n",
              "5         {'C': 1, 'kernel': 'rbf'}  ...               11\n",
              "6      {'C': 5, 'kernel': 'linear'}  ...               14\n",
              "7         {'C': 5, 'kernel': 'rbf'}  ...               10\n",
              "8     {'C': 15, 'kernel': 'linear'}  ...               15\n",
              "9        {'C': 15, 'kernel': 'rbf'}  ...                9\n",
              "10    {'C': 25, 'kernel': 'linear'}  ...               16\n",
              "11       {'C': 25, 'kernel': 'rbf'}  ...                8\n",
              "12    {'C': 50, 'kernel': 'linear'}  ...               19\n",
              "13       {'C': 50, 'kernel': 'rbf'}  ...                7\n",
              "14    {'C': 75, 'kernel': 'linear'}  ...               22\n",
              "15       {'C': 75, 'kernel': 'rbf'}  ...                6\n",
              "16   {'C': 100, 'kernel': 'linear'}  ...               24\n",
              "17      {'C': 100, 'kernel': 'rbf'}  ...                3\n",
              "18   {'C': 120, 'kernel': 'linear'}  ...               21\n",
              "19      {'C': 120, 'kernel': 'rbf'}  ...                4\n",
              "20   {'C': 150, 'kernel': 'linear'}  ...               25\n",
              "21      {'C': 150, 'kernel': 'rbf'}  ...                2\n",
              "22   {'C': 170, 'kernel': 'linear'}  ...               26\n",
              "23      {'C': 170, 'kernel': 'rbf'}  ...                5\n",
              "24   {'C': 200, 'kernel': 'linear'}  ...               23\n",
              "25      {'C': 200, 'kernel': 'rbf'}  ...                1\n",
              "\n",
              "[26 rows x 7 columns]"
            ]
          },
          "metadata": {
            "tags": []
          },
          "execution_count": 26
        }
      ]
    },
    {
      "cell_type": "markdown",
      "metadata": {
        "id": "E34XGFhe2ar0"
      },
      "source": [
        "Probando este modelo en el set de prueba, se mejoró el AUC obteniendo 0.6530865785093265, empatando el rendimiento obtenido con los paramétros por defecto de el modelo usando Random Forest."
      ]
    },
    {
      "cell_type": "code",
      "metadata": {
        "colab": {
          "base_uri": "https://localhost:8080/"
        },
        "id": "jwLv5PYTj_ef",
        "outputId": "14a32753-7eeb-4859-da4b-059c6481a98a"
      },
      "source": [
        "pred_scaled = best_svm_ind.predict(X_test)\n",
        "roc_auc_score(y_test, pred_scaled)"
      ],
      "execution_count": null,
      "outputs": [
        {
          "output_type": "execute_result",
          "data": {
            "text/plain": [
              "0.6530865785093265"
            ]
          },
          "metadata": {
            "tags": []
          },
          "execution_count": 27
        }
      ]
    },
    {
      "cell_type": "markdown",
      "metadata": {
        "id": "v3kN7Wquy7GJ"
      },
      "source": [
        "## KNN\n",
        "\n",
        "Para la implementación del algoritmo de clasificación de K-Nearest Neighbor, se implementó el modelo con diferentes parámetros con el fin de estimar y seleccionar aquel modelo mas certero respecto a otros. Para este caso, el modelo maneja varias distancias principalmente y el numero de K-vecinos predeterminados. Con el fin de obtener el anterior, se cambiaron los parametros por determinado a las distancias disponibles dentro de la librería de sklearn: euclidean, manhattan, minkowski, chebyshev para los casos de n_neighbors: 1,2,3,4,5,6,7,8. El modelo con el mejor rendimiento resultó ser evaluando con la distancia  minkowski y con n vecinos 1,2,3. Esto puede ser a que en los modelos anteriores fue necesario una normalización de los datos, sin embargo, esta distancia considera ya una normalización en su metrica y por ello mejora el rendimiento de clasificación.  \n",
        "\n",
        "Las prueba se encuentran disponibles en la bitácora.\n"
      ]
    },
    {
      "cell_type": "code",
      "metadata": {
        "id": "-docYKt7SopB"
      },
      "source": [
        "def get_metrics(y_test, predictions, binary = False):\n",
        "  '''\n",
        "    Esta función retorna Accuracy, Precision, Recall y F1_score.\n",
        "    binary: (default: False) Booleano que indica si la clasificación es multiclase o no\n",
        "  '''\n",
        "  from sklearn.metrics import accuracy_score, precision_score, recall_score, f1_score, roc_auc_score\n",
        "\n",
        "  if binary == False:\n",
        "    option = 'macro'\n",
        "    auc = None\n",
        "  if binary == True:\n",
        "    option = 'binary'\n",
        "    auc = roc_auc_score(y_test, predictions)\n",
        "  \n",
        "  acc = accuracy_score(y_test, predictions)\n",
        "  precision = precision_score(y_test, predictions, average= option)\n",
        "  recall = recall_score(y_test, predictions, average= option)\n",
        "  f1 = f1_score(y_test, predictions, average= option)\n",
        "  print('Metricas en el set de prueba...')\n",
        "  print('Accuracy: ', acc)\n",
        "  print('Precision: ', precision)\n",
        "  print('Recall: ', recall)\n",
        "  print('f1_score: ', recall)\n",
        "  print('AUC: ', auc)\n",
        "  print('-'*70)\n",
        "  \n",
        "\n",
        "def alg_ML(X_train, y_train, X_test, y_test, binary = False):\n",
        "  from sklearn.naive_bayes import GaussianNB\n",
        "  from sklearn.neighbors import KNeighborsClassifier\n",
        "  from sklearn.metrics import plot_confusion_matrix\n",
        "\n",
        "\n",
        "  KNN = KNeighborsClassifier(metric = 'minkowski',n_neighbors=1)\n",
        "  KNN.fit(X_train, y_train)\n",
        "  KNN_pred = KNN.predict(X_test)\n",
        "  print('Metrics for KNN(euclidean):')\n",
        "  get_metrics(y_test, KNN_pred, binary = binary)\n",
        "  plot_confusion_matrix(KNN, X_test, y_test, values_format='.6g', cmap = 'PuBu')\n",
        "  plt.title('Matriz de confusión.')\n",
        "  plt.show();\n"
      ],
      "execution_count": null,
      "outputs": []
    },
    {
      "cell_type": "code",
      "metadata": {
        "id": "F5puY87NTHo7",
        "colab": {
          "base_uri": "https://localhost:8080/",
          "height": 1000
        },
        "outputId": "47b6c520-2018-4064-c775-66590413a06c"
      },
      "source": [
        "import pandas as pd\n",
        "import numpy as np\n",
        "import matplotlib.pyplot as plt\n",
        "\n",
        "\n",
        "data = pd.read_csv('/content/drive/MyDrive/Dataset Proyecto/Bedu_Proyecto_Modulo_4/Dataset_limpio.csv', index_col=0)\n",
        "\n",
        "expanded = pd.get_dummies(data = data, columns = ['Categoria'])\n",
        "expanded = expanded.drop(columns = ['App', 'Rating_del_contenido', 'Ultimo_updated', 'Anio_ultimo_updated','Version_actual', 'Version_Android', 'Rating'])\n",
        "\n",
        "X = expanded.drop(columns= ['Exito_app'])\n",
        "y = expanded['Exito_app']\n",
        "\n",
        "from sklearn.model_selection import train_test_split\n",
        "\n",
        "\n",
        "X_train, X_test, y_train, y_test = train_test_split(X, y, \n",
        "                                                    test_size = 0.2,\n",
        "                                                    random_state=33)\n",
        "\n",
        "\n",
        "\n",
        "print('-'*38)\n",
        "print('|||    Modelos sin sobremuestreo   |||')\n",
        "print('-'*38)\n",
        "alg_ML(X_train, y_train, X_test, y_test, binary = True)\n",
        "\n",
        "#Importamos los paquetes\n",
        "from imblearn.over_sampling import RandomOverSampler, SMOTE\n",
        "#Inicialización de los métodos de sobremuestreo\n",
        "#SMOTE\n",
        "smote = SMOTE(random_state = 1)\n",
        "\n",
        "#SMOTE. Genera nuevas muestras sintéticas\n",
        "dataSmote, targetSmote = smote.fit_resample(X_train ,y_train)\n",
        "\n",
        "print('-'*38)\n",
        "print('|||    Modelos con sobremuestreo   |||')\n",
        "print('-'*38)\n",
        "alg_ML(dataSmote, targetSmote, X_test, y_test, binary= True)"
      ],
      "execution_count": null,
      "outputs": [
        {
          "output_type": "stream",
          "text": [
            "--------------------------------------\n",
            "|||    Modelos sin sobremuestreo   |||\n",
            "--------------------------------------\n",
            "Metrics for KNN(euclidean):\n",
            "Metricas en el set de prueba...\n",
            "Accuracy:  0.7214514407684098\n",
            "Precision:  0.8177842565597667\n",
            "Recall:  0.8048780487804879\n",
            "f1_score:  0.8048780487804879\n",
            "AUC:  0.6420223577235772\n",
            "----------------------------------------------------------------------\n"
          ],
          "name": "stdout"
        },
        {
          "output_type": "display_data",
          "data": {
            "image/png": "[encoded data removed]",
            "text/plain": [
              "<Figure size 432x288 with 2 Axes>"
            ]
          },
          "metadata": {
            "tags": [],
            "needs_background": "light"
          }
        },
        {
          "output_type": "stream",
          "text": [
            "/usr/local/lib/python3.7/dist-packages/sklearn/utils/deprecation.py:87: FutureWarning: Function safe_indexing is deprecated; safe_indexing is deprecated in version 0.22 and will be removed in version 0.24.\n",
            "  warnings.warn(msg, category=FutureWarning)\n"
          ],
          "name": "stderr"
        },
        {
          "output_type": "stream",
          "text": [
            "--------------------------------------\n",
            "|||    Modelos con sobremuestreo   |||\n",
            "--------------------------------------\n",
            "Metrics for KNN(euclidean):\n",
            "Metricas en el set de prueba...\n",
            "Accuracy:  0.6894343649946638\n",
            "Precision:  0.8355371900826446\n",
            "Recall:  0.7252510760401721\n",
            "f1_score:  0.7252510760401721\n",
            "AUC:  0.6553338713534194\n",
            "----------------------------------------------------------------------\n"
          ],
          "name": "stdout"
        },
        {
          "output_type": "display_data",
          "data": {
            "image/png": "[encoded data removed]",
            "text/plain": [
              "<Figure size 432x288 with 2 Axes>"
            ]
          },
          "metadata": {
            "tags": [],
            "needs_background": "light"
          }
        }
      ]
    },
    {
      "cell_type": "markdown",
      "metadata": {
        "id": "AXTDK19WLZdC"
      },
      "source": [
        "# Random Forest\n",
        "\n",
        "En el caso de Random Forest, a partir de las métricas obtenidas al implementar los algoritmos de Machine Learning con los parámetros por default, se modificó la cantidad de estimadores que se utilizaba (n =10, 20, 50, 100, 200, 500, 800, 1000, 5000, 10000) considerando dos casos: Dataset sin y con sobremuesteo.\n",
        "\n",
        "Como resultado de lo anterior se obtuvieron las mejores métricas considerando 10 árboles de decisión sin sobremuestreo y con 5000 árboles de decision considerando sobremuesteo. A continuación se muestran las métricas para los dos casos anteriores, así como la matriz de confusión para cada uno de ellos.\n",
        "\n",
        "Cabe señalar que al aumentar la cantidad de árboles de decisión que se utilizan, la cantidad de recursos necesarios también aumenta; por lo cual, utilizar Random Forest considerando menos de 1000 estimadores permite tener tiempos de ejecución menores a los 10 segundos dentro del Colab. \n",
        "\n",
        "Finalmente, los resultados restantes sobre las métricas y los tiempos de ejecución para los demás casos se encuentran disponibles en la bitácora. \n"
      ]
    },
    {
      "cell_type": "code",
      "metadata": {
        "id": "Sr7puiDYVBdB"
      },
      "source": [
        "!pip install scikit-plot"
      ],
      "execution_count": null,
      "outputs": []
    },
    {
      "cell_type": "code",
      "metadata": {
        "id": "M48OSOauRLIq"
      },
      "source": [
        "def random_forest(X_train, y_train, X_test, y_test,estimador, binary = False):\n",
        "  from sklearn.tree import DecisionTreeClassifier\n",
        "  from sklearn.ensemble import RandomForestClassifier\n",
        "  from sklearn.metrics import plot_confusion_matrix\n",
        "  import timeit\n",
        "  import plotly as px\n",
        "  import seaborn as sns\n",
        "  import matplotlib.pyplot as plt\n",
        "\n",
        "\n",
        "  start = timeit.default_timer()\n",
        "  rf = RandomForestClassifier(n_estimators = estimador, random_state = 120)\n",
        "  rf.fit(X_train, y_train)\n",
        "  rf_pred = rf.predict(X_test)\n",
        "  print(f'Metrics for Random Forrest (n={estimador}) ')\n",
        "  get_metrics(y_test, rf_pred, binary = binary)\n",
        "  stop = timeit.default_timer()\n",
        "  print(f'Tiempo de ejecución: {stop-start}\\n\\n')\n",
        "  plot_confusion_matrix(rf, X_test, y_test, values_format='.6g', cmap = 'PuBu')\n",
        "  plt.title('Matriz de confusión.')\n",
        "  plt.show();\n"
      ],
      "execution_count": null,
      "outputs": []
    },
    {
      "cell_type": "code",
      "metadata": {
        "colab": {
          "base_uri": "https://localhost:8080/",
          "height": 1000
        },
        "id": "vwY7V4orUDA0",
        "outputId": "f6acc5ca-d746-451a-d6b4-641e7905b626"
      },
      "source": [
        "import pandas as pd\n",
        "\n",
        "data = pd.read_csv('/content/drive/MyDrive/Dataset Proyecto/Bedu_Proyecto_Modulo_4/Dataset_limpio.csv', index_col=0)\n",
        "\n",
        "expanded = pd.get_dummies(data = data, columns = ['Categoria'])\n",
        "expanded = expanded.drop(columns = ['App', 'Rating_del_contenido', 'Ultimo_updated', 'Anio_ultimo_updated','Version_actual', 'Version_Android', 'Rating'])\n",
        "\n",
        "X = expanded.drop(columns= ['Exito_app'])\n",
        "y = expanded['Exito_app']\n",
        "\n",
        "X_norm = X.copy()\n",
        "X_norm['Reviews'] = (X['Reviews'] - X['Reviews'].mean())/X['Reviews'].std()\n",
        "X_norm['Instalaciones_minimas_estimadas'] = (X['Instalaciones_minimas_estimadas'] - X['Instalaciones_minimas_estimadas'].mean())/X['Instalaciones_minimas_estimadas'].std()\n",
        "X_norm['Tamanio_MB'] = (X['Tamanio_MB'] - X['Tamanio_MB'].mean())/X['Tamanio_MB'].std()\n",
        "X_norm['Precio'] = (X['Precio'])/(X['Precio'].max()-X['Precio'].min())\n",
        "\n",
        "from sklearn.model_selection import train_test_split\n",
        "\n",
        "X_train, X_test, y_train, y_test = train_test_split(X_norm, y, \n",
        "                                                    test_size = 0.2, \n",
        "                                                    random_state = 23)\n",
        "\n",
        "print('-'*38)\n",
        "print('|||    Modelos sin sobremuestreo   |||')\n",
        "print('-'*38)\n",
        "random_forest(X_train, y_train, X_test, y_test,10, binary = True)\n",
        "\n",
        "#Importamos los paquetes\n",
        "from imblearn.over_sampling import RandomOverSampler, SMOTE\n",
        "#Inicialización de los métodos de sobremuestreo\n",
        "#SMOTE\n",
        "smote = SMOTE(random_state = 1)\n",
        "\n",
        "#SMOTE. Genera nuevas muestras sintéticas\n",
        "dataSmote, targetSmote = smote.fit_resample(X_train ,y_train)\n",
        "\n",
        "print('-'*38)\n",
        "print('|||    Modelos con sobremuestreo   |||')\n",
        "print('-'*38)\n",
        "random_forest(dataSmote, targetSmote, X_test, y_test,5000, binary= True)"
      ],
      "execution_count": null,
      "outputs": [
        {
          "output_type": "stream",
          "text": [
            "--------------------------------------\n",
            "|||    Modelos sin sobremuestreo   |||\n",
            "--------------------------------------\n",
            "Metrics for Random Forrest (n=10) \n",
            "Metricas en el set de prueba...\n",
            "Accuracy:  0.7337246531483458\n",
            "Precision:  0.8115942028985508\n",
            "Recall:  0.8241353936718175\n",
            "f1_score:  0.8241353936718175\n",
            "AUC:  0.6596405123698893\n",
            "----------------------------------------------------------------------\n",
            "Tiempo de ejecución: 0.12136843899997984\n",
            "\n",
            "\n"
          ],
          "name": "stdout"
        },
        {
          "output_type": "display_data",
          "data": {
            "image/png": "[encoded data removed]",
            "text/plain": [
              "<Figure size 432x288 with 2 Axes>"
            ]
          },
          "metadata": {
            "tags": [],
            "needs_background": "light"
          }
        },
        {
          "output_type": "stream",
          "text": [
            "--------------------------------------\n",
            "|||    Modelos con sobremuestreo   |||\n",
            "--------------------------------------\n",
            "Metrics for Random Forrest (n=5000) \n",
            "Metricas en el set de prueba...\n",
            "Accuracy:  0.727854855923159\n",
            "Precision:  0.8189331329827197\n",
            "Recall:  0.8020603384841796\n",
            "f1_score:  0.8020603384841796\n",
            "AUC:  0.667049586717818\n",
            "----------------------------------------------------------------------\n",
            "Tiempo de ejecución: 75.98144353099997\n",
            "\n",
            "\n"
          ],
          "name": "stdout"
        },
        {
          "output_type": "display_data",
          "data": {
            "image/png": "[encoded data removed]",
            "text/plain": [
              "<Figure size 432x288 with 2 Axes>"
            ]
          },
          "metadata": {
            "tags": [],
            "needs_background": "light"
          }
        }
      ]
    },
    {
      "cell_type": "markdown",
      "metadata": {
        "id": "5S8F6j7L3HpX"
      },
      "source": [
        "Finalmente, respecto a la métrica de interes AUC, la variación de número de árboles no producía una variación significatica, pero tomando en cuenta tiempos de ejecución y optimización de recursos de memoria puede terminar siendo la mejor opción para el considerarlo como el **Mejor modelo**  para clasificar si una app es exitosa o no lo es. "
      ]
    },
    {
      "cell_type": "markdown",
      "metadata": {
        "id": "KhkeXSNFOVNI"
      },
      "source": [
        "## Recomendación de apps parecidas\n",
        "\n",
        "Además de predecir si un app es exitosa, el usuario final tal vez se vea interesado en saber que apps son parecida a la suya y tomar las características de estas como punto de partida para mejorar.\n",
        "\n",
        "Esta sección se enfoca a, dados un conjunto de características que el usuario da, predecir el éxito y recomendar apps exitosas parecidas, esto se logra al tomar la categoría de la apps de usuario como cluster y buscar, dentro de apps en la misma categoría, aplicaciones que se parezcan los máximo posible y que sean exitosas."
      ]
    },
    {
      "cell_type": "code",
      "metadata": {
        "id": "K02mRTnikGUb"
      },
      "source": [
        "import warnings\n",
        "import pandas as pd\n",
        "warnings.filterwarnings('ignore')\n",
        "pd.options.display.float_format = '{:.2f}'.format\n",
        "\n",
        "data = pd.read_csv('/content/drive/MyDrive/Dataset Proyecto/Bedu_Proyecto_Modulo_4/Dataset_limpio.csv', index_col=0)\n",
        "\n",
        "expanded = pd.get_dummies(data = data, columns = ['Categoria'])\n",
        "expanded = expanded.drop(columns = ['Rating_del_contenido', 'Ultimo_updated', 'Anio_ultimo_updated','Version_actual', 'Version_Android', 'Rating'])\n",
        "\n",
        "X = expanded.drop(columns= ['Exito_app'])\n",
        "y = expanded['Exito_app']\n",
        "\n",
        "#### Escalando variables de manera individual.\n",
        "X_pp = X.copy()\n",
        "X_pp['Reviews'] = (X['Reviews'] - X['Reviews'].mean())/X['Reviews'].std()\n",
        "X_pp['Instalaciones_minimas_estimadas'] = (X['Instalaciones_minimas_estimadas'] - X['Instalaciones_minimas_estimadas'].mean())/X['Instalaciones_minimas_estimadas'].std()\n",
        "X_pp['Tamanio_MB'] = (X['Tamanio_MB'] - X['Tamanio_MB'].mean())/X['Tamanio_MB'].std()\n",
        "X_pp['Precio'] = (X['Precio'])/(X['Precio'].max()-X['Precio'].min())\n",
        "# X_pp.to_csv('/content/drive/MyDrive/Dataset Proyecto/Bedu_Proyecto_Modulo_4/PPDataset.csv')"
      ],
      "execution_count": null,
      "outputs": []
    },
    {
      "cell_type": "code",
      "metadata": {
        "id": "a6TMmjSLPLKK"
      },
      "source": [
        "import warnings\n",
        "import pandas as pd\n",
        "import numpy as np\n",
        "warnings.filterwarnings('ignore')\n",
        "pd.options.display.float_format = '{:.2f}'.format\n",
        "\n",
        "def preprocess_input(input):\n",
        "  '''\n",
        "  Esta función toma la entrada del usuario y la prepocesa a la misma escala y codificación que el dataset guardado.\n",
        "  La entrada debe ser de la forma [Reviews, TamañoMB, instalaciones, \n",
        "                                    precio(en caso de ser gratuita debe ponerse cero), \n",
        "                                    indice de la categoria perteneciente]\n",
        "  '''\n",
        "  import pandas as pd\n",
        "  import tensorflow as tf\n",
        "  import numpy as np\n",
        "  \n",
        "  categorias = ['ART_AND_DESIGN', 'AUTO_AND_VEHICLES', 'BEAUTY', 'BOOKS_AND_REFERENCE', \n",
        "                'BUSINESS', 'COMICS', 'COMMUNICATION', 'DATING', 'EDUCATION', 'ENTERTAINMENT', 'EVENTS','FINANCE',\n",
        "                'FOOD_AND_DRINK', 'HEALTH_AND_FITNESS', 'HOUSE_AND_HOME', 'LIBRARIES_AND_DEMO', 'LIFESTYLE', \n",
        "                'GAME', 'FAMILY', 'MEDICAL', 'SOCIAL', 'SHOPPING', 'PHOTOGRAPHY', 'SPORTS', 'TRAVEL_AND_LOCAL',\n",
        "                'TOOLS', 'PERSONALIZATION', 'PRODUCTIVITY', 'PARENTING', 'WEATHER', 'VIDEO_PLAYERS', \n",
        "                'NEWS_AND_MAGAZINES', 'MAPS_AND_NAVIGATION']\n",
        "\n",
        "  ## Procesamineto de la categoria.\n",
        "  categoria_string = categorias[input[4] - 1]\n",
        "  categoria = tf.keras.utils.to_categorical(input[4] - 1 , 33)\n",
        "\n",
        "  ## Procesamiento de precio\n",
        "  if input[3] > 0:\n",
        "    aux_precio = 1\n",
        "  else:\n",
        "    aux_precio = 0\n",
        "  \n",
        "  precio = tf.keras.utils.to_categorical(aux_precio , 2)\n",
        "\n",
        "  output = np.array([input[0], input[1], input[2]])\n",
        "\n",
        "  for i in range(len(precio)):\n",
        "    output = np.append(output, precio[i])\n",
        "\n",
        "  output = np.append(output, input[3])\n",
        "\n",
        "  for i in range(len(categoria)):\n",
        "    output = np.append(output, categoria[i])\n",
        "\n",
        "  ############# MODELO ##################\n",
        "  data = pd.read_csv('/content/drive/MyDrive/Dataset Proyecto/Bedu_Proyecto_Modulo_4/Dataset_limpio.csv', index_col=0)\n",
        "\n",
        "  expanded = pd.get_dummies(data = data, columns = ['Categoria'])\n",
        "  expanded = expanded.drop(columns = ['App', 'Rating_del_contenido', 'Ultimo_updated', 'Anio_ultimo_updated','Version_actual', 'Version_Android', 'Rating'])\n",
        "\n",
        "  X = expanded.drop(columns= ['Exito_app'])\n",
        "  y = expanded['Exito_app']\n",
        "\n",
        "  X_norm = X.copy()\n",
        "  X_norm['Reviews'] = (X['Reviews'] - X['Reviews'].mean())/X['Reviews'].std()\n",
        "  X_norm['Instalaciones_minimas_estimadas'] = (X['Instalaciones_minimas_estimadas'] - X['Instalaciones_minimas_estimadas'].mean())/X['Instalaciones_minimas_estimadas'].std()\n",
        "  X_norm['Tamanio_MB'] = (X['Tamanio_MB'] - X['Tamanio_MB'].mean())/X['Tamanio_MB'].std()\n",
        "  X_norm['Precio'] = (X['Precio'])/(X['Precio'].max()-X['Precio'].min())\n",
        "\n",
        "  from sklearn.model_selection import train_test_split\n",
        "\n",
        "  X_train, X_test, y_train, y_test = train_test_split(X_norm, y, \n",
        "                                                      test_size = 0.2, \n",
        "                                                      random_state = 23)\n",
        "\n",
        "  #Importamos los paquetes\n",
        "  from imblearn.over_sampling import RandomOverSampler, SMOTE\n",
        "  #Inicialización de los métodos de sobremuestreo\n",
        "  #SMOTE\n",
        "  smote = SMOTE(random_state = 1)\n",
        "  #SMOTE. Genera nuevas muestras sintéticas\n",
        "  dataSmote, targetSmote = smote.fit_resample(X_train ,y_train)\n",
        "\n",
        "  from sklearn.tree import DecisionTreeClassifier\n",
        "  from sklearn.ensemble import RandomForestClassifier\n",
        "\n",
        "  rf = RandomForestClassifier(n_estimators = 10, random_state = 120)\n",
        "  rf.fit(X_train, y_train)\n",
        "  ############# MODELO ##################\n",
        "\n",
        "  prediccion = rf.predict([output])\n",
        "  print('-'*20)\n",
        "  print('|||  Predicción   |||')\n",
        "  print('-'*20)\n",
        "  if prediccion[0] == 0:\n",
        "    print('|||    Dados los datos de entrada, la aplicación podría mejorarse, ya que no se considerá exitosa.   |||')\n",
        "  else:\n",
        "    print('|||    Tu app tiene características suficientes para poderse considerar exitosa. ¡Buen trabajo!    |||')\n",
        "\n",
        "  return (output, categoria_string)\n",
        "\n",
        "########################################################################################################################  \n",
        "\n",
        "def categoria_y_distancias(input_preprocesado, categoria):\n",
        "  import pandas as pd\n",
        "  import numpy as np\n",
        "  from scipy.spatial import distance\n",
        "\n",
        "  data = pd.read_csv('/content/drive/MyDrive/Dataset Proyecto/Bedu_Proyecto_Modulo_4/Dataset_limpio.csv', index_col=0)\n",
        "  X_pp = data.drop(columns = ['Rating_del_contenido', 'Ultimo_updated', \n",
        "                                      'Anio_ultimo_updated','Version_actual', \n",
        "                                      'Version_Android', 'Rating'])\n",
        "\n",
        "  expanded = pd.get_dummies(data = X_pp, columns = ['Categoria'])\n",
        "  X_filtrado = expanded[(expanded['Categoria_'+categoria] == 1) & (expanded['Exito_app'] == 1)]\n",
        "\n",
        "  X_aux = X_filtrado.copy()\n",
        "  X_aux = X_aux.drop(columns = ['App', 'Exito_app'])\n",
        "\n",
        "  for i in X_aux.index:\n",
        "    X_filtrado.loc[i, 'distancias'] = np.linalg.norm(X_aux.loc[i, :] - input_preprocesado)\n",
        "  X_filtrado = X_filtrado.sort_values('distancias')\n",
        "\n",
        "  return X_filtrado[['App', 'Reviews',\t'Tamanio_MB',\t'Instalaciones_minimas_estimadas', 'Precio']].head()\n",
        "\n",
        "########################################################################################################################  \n",
        "\n",
        "def recomendaciones(input):\n",
        "  output = preprocess_input(input)\n",
        "  print('-'*60)\n",
        "  print('Procesando información... ')\n",
        "  print('Estas son aplicaciones exitosas y parecidas a la tuya. :)')\n",
        "  print('-'*60)\n",
        "  return categoria_y_distancias(output[0], output[1])\n",
        "\n",
        "########################################################################################################################\n",
        "\n",
        "def get_input():\n",
        "  boolean = True\n",
        "  while boolean:\n",
        "    try:\n",
        "      import pprint\n",
        "      reviews = np.round(float(input('Aproximadamente, ¿Cuántas reviews tendra tu app? ')), 0)\n",
        "      tamanio = np.round(float(input('Aproximadamente, ¿Cuál será el tamaño de tu app (Mb)? ')), 0)\n",
        "      installs = np.round(float(input('¿Cuántas instalaciones calculas que tendrá tu app? ')), 0)\n",
        "      precio = np.round(float(input('¿Cuál es el precio por usar tu app? ')), 0)\n",
        "      categorias = {1: 'ART_AND_DESIGN', 2: 'AUTO_AND_VEHICLES', 3:'BEAUTY',\n",
        "          4: 'BOOKS_AND_REFERENCE', 5: 'BUSINESS', 6: 'COMICS', 7: 'COMMUNICATION',\n",
        "          8: 'DATING', 9:'EDUCATION', 10: 'ENTERTAINMENT', 11: 'EVENTS', 12: 'FINANCE',\n",
        "          13: 'FOOD_AND_DRINK', 14:'HEALTH_AND_FITNESS', 15 : 'HOUSE_AND_HOME',\n",
        "          16: 'LIBRARIES_AND_DEMO', 17: 'LIFESTYLE', 18: 'GAME', 19: 'FAMILY', 20: 'MEDICAL',\n",
        "          21 : 'SOCIAL', 22: 'SHOPPING', 23: 'PHOTOGRAPHY', 24: 'SPORTS', 25: 'TRAVEL_AND_LOCAL',\n",
        "          26: 'TOOLS', 27: 'PERSONALIZATION', 28: 'PRODUCTIVITY', 29: 'PARENTING', 30: 'WEATHER',\n",
        "          31: 'VIDEO_PLAYERS', 32: 'NEWS_AND_MAGAZINES', 33: 'MAPS_AND_NAVIGATION'}\n",
        "      print('-'*50)\n",
        "      print('Categorias disponibles (escribir el número entero). ')\n",
        "      pprint.pprint(categorias)\n",
        "      print('-'*50)\n",
        "      category = np.round(float(input('¿A qué categoria pertenece tu app? ')), 0)\n",
        "      boolean = False\n",
        "      output = np.array([reviews, tamanio, installs, precio, category], dtype='int32')\n",
        "      return output\n",
        "\n",
        "    except:\n",
        "      print(\"Los datos introducidos no son válidos o no estan en formato númerico. Intenta de nuevo.\")\n",
        "  \n"
      ],
      "execution_count": null,
      "outputs": []
    },
    {
      "cell_type": "markdown",
      "metadata": {
        "id": "6X012mFj-IK0"
      },
      "source": [
        "Dado un input proporcionado por el usuario se puede predecir el éxito de la app, esto tratará de implementarse en telegram posteriormente."
      ]
    },
    {
      "cell_type": "code",
      "metadata": {
        "colab": {
          "base_uri": "https://localhost:8080/",
          "height": 1000
        },
        "id": "3XCgqyZI8e7y",
        "outputId": "a161e5af-c977-40e1-c6e1-fa196dcc4173"
      },
      "source": [
        "recomendaciones(get_input())"
      ],
      "execution_count": null,
      "outputs": [
        {
          "output_type": "stream",
          "text": [
            "Aproximadamente, ¿Cuántas reviews tendra tu app? 25000\n",
            "Aproximadamente, ¿Cuál será el tamaño de tu app (Mb)? 19.5\n",
            "¿Cuántas instalaciones calculas que tendrá tu app? 152000\n",
            "¿Cuál es el precio por usar tu app? 3.25\n",
            "--------------------------------------------------\n",
            "Categorias disponibles (escribir el número entero). \n",
            "{1: 'ART_AND_DESIGN',\n",
            " 2: 'AUTO_AND_VEHICLES',\n",
            " 3: 'BEAUTY',\n",
            " 4: 'BOOKS_AND_REFERENCE',\n",
            " 5: 'BUSINESS',\n",
            " 6: 'COMICS',\n",
            " 7: 'COMMUNICATION',\n",
            " 8: 'DATING',\n",
            " 9: 'EDUCATION',\n",
            " 10: 'ENTERTAINMENT',\n",
            " 11: 'EVENTS',\n",
            " 12: 'FINANCE',\n",
            " 13: 'FOOD_AND_DRINK',\n",
            " 14: 'HEALTH_AND_FITNESS',\n",
            " 15: 'HOUSE_AND_HOME',\n",
            " 16: 'LIBRARIES_AND_DEMO',\n",
            " 17: 'LIFESTYLE',\n",
            " 18: 'GAME',\n",
            " 19: 'FAMILY',\n",
            " 20: 'MEDICAL',\n",
            " 21: 'SOCIAL',\n",
            " 22: 'SHOPPING',\n",
            " 23: 'PHOTOGRAPHY',\n",
            " 24: 'SPORTS',\n",
            " 25: 'TRAVEL_AND_LOCAL',\n",
            " 26: 'TOOLS',\n",
            " 27: 'PERSONALIZATION',\n",
            " 28: 'PRODUCTIVITY',\n",
            " 29: 'PARENTING',\n",
            " 30: 'WEATHER',\n",
            " 31: 'VIDEO_PLAYERS',\n",
            " 32: 'NEWS_AND_MAGAZINES',\n",
            " 33: 'MAPS_AND_NAVIGATION'}\n",
            "--------------------------------------------------\n",
            "¿A qué categoria pertenece tu app? 33\n",
            "--------------------\n",
            "||| Predicción   |||\n",
            "--------------------\n",
            "|||    Tu app tiene características suficientes para poderse considerar exitosa. ¡Buen trabajo!    |||\n",
            "------------------------------------------------------------\n",
            "Procesando información... \n",
            "Estas son aplicaciones exitosas y parecidas a la tuya. :)\n",
            "------------------------------------------------------------\n"
          ],
          "name": "stdout"
        },
        {
          "output_type": "execute_result",
          "data": {
            "text/html": [
              "<div>\n",
              "<style scoped>\n",
              "    .dataframe tbody tr th:only-of-type {\n",
              "        vertical-align: middle;\n",
              "    }\n",
              "\n",
              "    .dataframe tbody tr th {\n",
              "        vertical-align: top;\n",
              "    }\n",
              "\n",
              "    .dataframe thead th {\n",
              "        text-align: right;\n",
              "    }\n",
              "</style>\n",
              "<table border=\"1\" class=\"dataframe\">\n",
              "  <thead>\n",
              "    <tr style=\"text-align: right;\">\n",
              "      <th></th>\n",
              "      <th>App</th>\n",
              "      <th>Reviews</th>\n",
              "      <th>Tamanio_MB</th>\n",
              "      <th>Instalaciones_minimas_estimadas</th>\n",
              "      <th>Precio</th>\n",
              "    </tr>\n",
              "  </thead>\n",
              "  <tbody>\n",
              "    <tr>\n",
              "      <th>7290</th>\n",
              "      <td>Offline Jízdní řády CG Transit</td>\n",
              "      <td>7314</td>\n",
              "      <td>7.00</td>\n",
              "      <td>100000</td>\n",
              "      <td>0.00</td>\n",
              "    </tr>\n",
              "    <tr>\n",
              "      <th>5994</th>\n",
              "      <td>BackCountry Navigator TOPO GPS PRO</td>\n",
              "      <td>6230</td>\n",
              "      <td>9.85</td>\n",
              "      <td>100000</td>\n",
              "      <td>11.99</td>\n",
              "    </tr>\n",
              "    <tr>\n",
              "      <th>9944</th>\n",
              "      <td>PlugShare</td>\n",
              "      <td>4501</td>\n",
              "      <td>26.00</td>\n",
              "      <td>100000</td>\n",
              "      <td>0.00</td>\n",
              "    </tr>\n",
              "    <tr>\n",
              "      <th>3845</th>\n",
              "      <td>Truck Car Navi by Navitime Large size car, tra...</td>\n",
              "      <td>3682</td>\n",
              "      <td>9.85</td>\n",
              "      <td>100000</td>\n",
              "      <td>0.00</td>\n",
              "    </tr>\n",
              "    <tr>\n",
              "      <th>3846</th>\n",
              "      <td>Sentin Information Map</td>\n",
              "      <td>2909</td>\n",
              "      <td>5.20</td>\n",
              "      <td>100000</td>\n",
              "      <td>0.00</td>\n",
              "    </tr>\n",
              "  </tbody>\n",
              "</table>\n",
              "</div>"
            ],
            "text/plain": [
              "                                                    App  ...  Precio\n",
              "7290                     Offline Jízdní řády CG Transit  ...    0.00\n",
              "5994                 BackCountry Navigator TOPO GPS PRO  ...   11.99\n",
              "9944                                          PlugShare  ...    0.00\n",
              "3845  Truck Car Navi by Navitime Large size car, tra...  ...    0.00\n",
              "3846                             Sentin Information Map  ...    0.00\n",
              "\n",
              "[5 rows x 5 columns]"
            ]
          },
          "metadata": {
            "tags": []
          },
          "execution_count": 25
        }
      ]
    },
    {
      "cell_type": "markdown",
      "metadata": {
        "id": "x4xohLoOMtt7"
      },
      "source": [
        "#Implementación de un Bot"
      ]
    },
    {
      "cell_type": "markdown",
      "metadata": {
        "id": "3QVMmvLRMxCu"
      },
      "source": [
        "A partir de los resultados obtenidos con los modelos de Machine Learning, se buscó poner la información y las conclusiones que se obtuvieron del dataset al alcance de los usuarios. De esta forma, al diseñar nuevos productos digitales, los usuarios pueden obtener un parámetro de comparación sobre su app móvil con respecto a otras que son parecidas. Debido a la gran cantidad de personas involucradas en el proceso de diseño, poner la información al alcance de sus manos puede influir y mejorar la toma de decisiones al realizarse de forma más rápida a partir de métricas con las cuales comparar el éxito o fracaso al posicionar una app móvil en el mercado. Un ejemplo de los usuarios que se ven beneficiados con esta información son ingenieros, desarrolladores, programadores, diseñadores UX, departamento de mercadotecnica e incluso directivos de empresas para conseguir patrocinadores o empresas que busquen promoción en canales digitales.\n",
        "\n",
        "Por lo anterior, se diseñó un bot utilizando Telegram y Python. Se utilizó Python ya que de esta forma sería posible poner en práctica todo lo aprendido en el curso, sobre todo en estos últimos dos módulos. Además, Telegram ha ganado popularidad en los últimos años debido a la seguridad de los mensajes que se envían y a la cantidad de bots que permiten consultar libros o descargar contenido digital a través de dicha aplicación móvil.\n",
        "\n",
        "El bot que se diseñó consta de tres partes:\n",
        "\n",
        "Una parte inicial de bienvenida que saluda al usuario y le proporciona los comandos necesarios para poder generar interacciones exitosas.\n",
        "\n",
        "Una segunda parte que permite consultar aplicaciones móviles con sus respectivas métricas; ya sea de forma random al presentarle al usuario una app al azar o al consultar alguna aplicación en específico a partir de su nombre.\n",
        "\n",
        "Finalmente, una tercera parte se encarga de obtener los parámetros de una app móvil como son la cantidad de reviews, tamaño, categoría e instalaciones; para a partir de ellas predecir si será exitosa o no dentro del mercado. La predicción se realiza utilizando Random Forest como algoritmo de ML ya que fue el que presentó mejores resultados tanto de clasificación como al usar recursos computacionales. De esta forma, el usuario puede conocer si su app presenta un comportamiento que tiende al éxito o fracaso; pero además es posible comparar cada métrica con 3 aplicaciones similares a la misma y así identificar áreas de oportunidad para invertir de mejor forma los recursos que logren posicionar una app con 4 estrellas o más en la Play Store.\n",
        "\n",
        "A continuación se muestra el funcionamiento del bot y en el repositorio puede consultarse el código que se implementó.\n",
        "\n",
        "\n",
        "\n",
        "\n",
        "\n"
      ]
    },
    {
      "cell_type": "markdown",
      "metadata": {
        "id": "9fpfa8x4R2OE"
      },
      "source": [
        "#Funcionamiento del bot\n",
        "\n",
        "**PRIMERA PARTE**\n",
        "1. El usuario busca el bot dentro de Telegram a partir del nombre \"App Success\" o a través de la siguiente liga: [***t.me/SuappBot***](http://t.me/SuappBot)\n",
        "\n",
        "2. Para comenzar la interacción se envía el comando ***/start*** aunque por default el bot realiza la conexión con el servidor.\n",
        "\n",
        "3. El usuario envía un ***/hola*** y recibe un mensaje de bienvenida.\n",
        "\n",
        "4. A partir del comando ***/instrucciones*** recibe un mensaje automatizado sobre cómo es posible interactuar con el bot."
      ]
    },
    {
      "cell_type": "markdown",
      "metadata": {
        "id": "APYgsS5UTBXZ"
      },
      "source": [
        "<img src=\"https://drive.google.com/uc?export=view&id=1rDFa87ggcLOLOM90VhEITJ1LkHZ6UfCa\" width=\"700\" height=\"750\">\n"
      ]
    },
    {
      "cell_type": "markdown",
      "metadata": {
        "id": "Ky98MYU0UAUU"
      },
      "source": [
        "**SEGUNDA PARTE **\n",
        "\n",
        "5. El usuario envía ***/random*** si desea obtener una app al azar del dataset para consultar sus métricas o puede obtener la información de una app específica al escribir ***info*** seguido del nombre de la app."
      ]
    },
    {
      "cell_type": "markdown",
      "metadata": {
        "id": "FG4CsLOeUqsX"
      },
      "source": [
        "<img src=\"https://drive.google.com/uc?export=view&id=1vi1SIm35i9kQ0EZCLm1c0w9IOOdxDnog\" width=\"700\" height=\"800\">"
      ]
    },
    {
      "cell_type": "markdown",
      "metadata": {
        "id": "aoP86s9HUqEd"
      },
      "source": [
        "**TERCERA PARTE **\n",
        "\n",
        "6. El usuario puede generar la predicción sobre si su app será exitosa o no, introduciendo los datos como un arreglo en donde indica la cantidad de reviews, tamaño de la app, cantidad de instalaciones, si es de cobro o gratuita, precio y categoría. Para hacerlo utiliza la palabra predict seguido de todos los parámetros antes mencionados. En caso de tener duda puede ingresar el comando ***/prediccion***. el cual le proporcionará mayor información sobre como es necesario colocar los datos de entrada.\n",
        "\n",
        "7. A partir del algoritmo Random Forest que se implementó con 10 estimadores, le entrega como respuesta al usuario si su app móvil será exitosa o no. Por otro lado, además le envía 3 aplicaciones que presentan métricas similares a la suya con el objetivo de comparar e identificar áreas de oportunidad en donde sea necesario destinar recursos (en estas aplicaciones 1 significa que es exitosa y 0 que no lo es); ya sea para disminuir el tamaño de la app, generar más instalaciones o incluso buscar disminuir la cantidad de malos reviews que dañan la reputación de la app y de la empresa y provoca que menos usuarios la utilicen."
      ]
    },
    {
      "cell_type": "markdown",
      "metadata": {
        "id": "XRbJLI2eWAg6"
      },
      "source": [
        "\n",
        "<img src=\"https://drive.google.com/uc?export=view&id=1Ib33OrGicZbRbhIgNEKEdj7P-K_LkY0m\" width=\"700\" height=\"750\">\n",
        "\n",
        "<img src=\"https://drive.google.com/uc?export=view&id=1C5zvwPfmLpaoFsY9wlvnzkDo-cx6jBm4\" width=\"700\" height=\"750\">\n",
        "\n"
      ]
    },
    {
      "cell_type": "markdown",
      "metadata": {
        "id": "s-ttl7KwWfTE"
      },
      "source": [
        "Finalmente, cabe señalar que al ser el bot una versión beta, es necesario continuar su desarrollo para mejorar su funcionamiento, disminuir tiempos de muestreo y garantizar la seguridad para evitar su hackeo. Sin embargo, a partir del bot fue posible mostrar como la información y las conclusiones que se generan a partir de un dataset pueden ser de utilidad en el diseño de productos y servicios digitales; ya que la información se transforma en decisiones que permiten avanzar más rápido y tener puntos de comparación graduales sobre el posicionamiento de una app.\n"
      ]
    }
  ]
}